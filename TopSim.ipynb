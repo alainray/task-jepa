{
 "cells": [
  {
   "cell_type": "code",
   "execution_count": 1,
   "id": "46d37803-3a85-4585-8820-4f01ff5f2de2",
   "metadata": {},
   "outputs": [],
   "source": [
    "import torch\n",
    "import numpy as np\n",
    "from scipy.spatial.distance import pdist\n",
    "from scipy.stats import spearmanr\n",
    "from tqdm.notebook import tqdm\n",
    "import random\n",
    "\n",
    "def pairwise_distances_torch(X: torch.Tensor, distance: str = \"euclidean\") -> torch.Tensor:\n",
    "    \"\"\"\n",
    "    Compute pairwise distances using PyTorch.\n",
    "    Supported distances: 'euclidean', 'cosine'\n",
    "    \"\"\"\n",
    "    if distance == \"euclidean\":\n",
    "        norm = (X ** 2).sum(1).view(-1, 1)\n",
    "        dist_squared = norm + norm.t() - 2.0 * X @ X.t()\n",
    "        dist_squared = torch.clamp(dist_squared, min=0)\n",
    "        return torch.sqrt(dist_squared + 1e-8)\n",
    "    elif distance == \"cosine\":\n",
    "        X = torch.nn.functional.normalize(X, p=2, dim=1)\n",
    "        sim = X @ X.t()\n",
    "        return 1 - sim  # cosine distance = 1 - cosine similarity\n",
    "    else:\n",
    "        raise ValueError(f\"Unsupported distance metric: {distance}\")\n",
    "\n",
    "def topographic_similarity_gpu(\n",
    "    embeddings: torch.Tensor,\n",
    "    targets: torch.Tensor,\n",
    "    subset_size: int = 10_000,\n",
    "    seeds: list = [0, 1, 2, 3, 4],\n",
    "    device: str = \"cuda\",\n",
    "    distance = \"euclidean\"\n",
    "):\n",
    "    \"\"\"\n",
    "    GPU-accelerated topographic similarity using PyTorch and averaging across seeds.\n",
    "\n",
    "    Returns:\n",
    "    - float: average Spearman correlation\n",
    "    \"\"\"\n",
    "    assert embeddings.shape[0] == targets.shape[0]\n",
    "\n",
    "    #embeddings = embeddings.to(device)\n",
    "    #targets = targets.to(device)\n",
    "\n",
    "    sims = []\n",
    "\n",
    "    for seed in tqdm(seeds):\n",
    "        torch.manual_seed(seed)\n",
    "        idx = torch.randperm(embeddings.shape[0], device=\"cpu\")[:subset_size]\n",
    "\n",
    "        emb_sub = embeddings[idx].cuda()\n",
    "        tgt_sub = targets[idx].cuda()\n",
    "\n",
    "        # Compute pairwise distances\n",
    "        dist_emb = pairwise_distances_torch(emb_sub, distance=distance)\n",
    "        dist_tgt = pairwise_distances_torch(tgt_sub, distance=\"euclidean\")\n",
    "\n",
    "        # Convert upper triangle to vector for Spearman\n",
    "        triu_indices = torch.triu_indices(subset_size, subset_size, offset=1)\n",
    "        emb_vec = dist_emb[triu_indices[0], triu_indices[1]].cpu().numpy()\n",
    "        tgt_vec = dist_tgt[triu_indices[0], triu_indices[1]].cpu().numpy()\n",
    "\n",
    "        sim, _ = spearmanr(emb_vec, tgt_vec)\n",
    "        sims.append(sim)\n",
    "\n",
    "    return float(np.mean(sims)), sims\n",
    "\n",
    "def generate_seeds(n: int, base_seed: int = 42) -> list:\n",
    "    \"\"\"\n",
    "    Generate a list of `n` reproducible integer seeds.\n",
    "\n",
    "    Parameters:\n",
    "    - n: Number of seeds to generate\n",
    "    - base_seed: Base seed to initialize RNG for reproducibility\n",
    "\n",
    "    Returns:\n",
    "    - List of ints: deterministic random seeds\n",
    "    \"\"\"\n",
    "    rng = random.Random(base_seed)\n",
    "    return [rng.randint(0, 2**32 - 1) for _ in range(n)]"
   ]
  },
  {
   "cell_type": "code",
   "execution_count": 2,
   "id": "045f1b76-d741-457e-b148-05dc44bac9ba",
   "metadata": {},
   "outputs": [],
   "source": [
    "data = torch.load(\"3dshapes/3dshapes.pth\")"
   ]
  },
  {
   "cell_type": "code",
   "execution_count": 3,
   "id": "b6697ebc-a8e3-498b-981c-fff478f1fc69",
   "metadata": {},
   "outputs": [
    {
     "data": {
      "application/vnd.jupyter.widget-view+json": {
       "model_id": "d04eeee48bbb4e82bd4aa8ba5b6f7b4e",
       "version_major": 2,
       "version_minor": 0
      },
      "text/plain": [
       "  0%|          | 0/10 [00:00<?, ?it/s]"
      ]
     },
     "metadata": {},
     "output_type": "display_data"
    },
    {
     "data": {
      "application/vnd.jupyter.widget-view+json": {
       "model_id": "a8bde93e1eea4141af13d1c7458d5aff",
       "version_major": 2,
       "version_minor": 0
      },
      "text/plain": [
       "  0%|          | 0/10 [00:00<?, ?it/s]"
      ]
     },
     "metadata": {},
     "output_type": "display_data"
    },
    {
     "data": {
      "application/vnd.jupyter.widget-view+json": {
       "model_id": "0b6bf8a9e12b4bbab4ddff7730efa923",
       "version_major": 2,
       "version_minor": 0
      },
      "text/plain": [
       "  0%|          | 0/10 [00:00<?, ?it/s]"
      ]
     },
     "metadata": {},
     "output_type": "display_data"
    },
    {
     "data": {
      "application/vnd.jupyter.widget-view+json": {
       "model_id": "a189658f86144ac4995259671a461680",
       "version_major": 2,
       "version_minor": 0
      },
      "text/plain": [
       "  0%|          | 0/10 [00:00<?, ?it/s]"
      ]
     },
     "metadata": {},
     "output_type": "display_data"
    }
   ],
   "source": [
    "import pandas as pd\n",
    "seeds = generate_seeds(10)\n",
    "\n",
    "models = ['vit_b_16', 'vit_b_32', 'vit_l_16','vit_l_32']\n",
    "results = pd.DataFrame()\n",
    "for model in models:\n",
    "    reps = torch.load(f\"3dshapes/3dshapes_images_feats_{model}.pth\")\n",
    "    reps = reps - reps.mean(dim=0)\n",
    "    reps = torch.nn.functional.normalize(reps, dim=-1, p=2.0, eps=1e-12)\n",
    "    _, sims = topographic_similarity_gpu(\n",
    "        reps,\n",
    "        data['latent_ids'].float(),\n",
    "        subset_size=1_000,\n",
    "        seeds = seeds)\n",
    "\n",
    "    results = pd.concat([results, pd.DataFrame({'model': [model]*len(seeds) ,'seed': seeds, 'top_sim': sims})])\n",
    "\n",
    "results.to_csv(\"topsim_baselines.csv\")"
   ]
  },
  {
   "cell_type": "code",
   "execution_count": 4,
   "id": "31b99b53-f37b-4dd0-b222-4ac97dd07651",
   "metadata": {},
   "outputs": [
    {
     "data": {
      "text/html": [
       "<div>\n",
       "<style scoped>\n",
       "    .dataframe tbody tr th:only-of-type {\n",
       "        vertical-align: middle;\n",
       "    }\n",
       "\n",
       "    .dataframe tbody tr th {\n",
       "        vertical-align: top;\n",
       "    }\n",
       "\n",
       "    .dataframe thead th {\n",
       "        text-align: right;\n",
       "    }\n",
       "</style>\n",
       "<table border=\"1\" class=\"dataframe\">\n",
       "  <thead>\n",
       "    <tr style=\"text-align: right;\">\n",
       "      <th></th>\n",
       "      <th>model</th>\n",
       "      <th>seed</th>\n",
       "      <th>top_sim</th>\n",
       "    </tr>\n",
       "  </thead>\n",
       "  <tbody>\n",
       "    <tr>\n",
       "      <th>0</th>\n",
       "      <td>vit_b_16</td>\n",
       "      <td>2746317213</td>\n",
       "      <td>0.102451</td>\n",
       "    </tr>\n",
       "    <tr>\n",
       "      <th>1</th>\n",
       "      <td>vit_b_16</td>\n",
       "      <td>1181241943</td>\n",
       "      <td>0.113070</td>\n",
       "    </tr>\n",
       "    <tr>\n",
       "      <th>2</th>\n",
       "      <td>vit_b_16</td>\n",
       "      <td>958682846</td>\n",
       "      <td>0.116893</td>\n",
       "    </tr>\n",
       "    <tr>\n",
       "      <th>3</th>\n",
       "      <td>vit_b_16</td>\n",
       "      <td>3163119785</td>\n",
       "      <td>0.108330</td>\n",
       "    </tr>\n",
       "    <tr>\n",
       "      <th>4</th>\n",
       "      <td>vit_b_16</td>\n",
       "      <td>1812140441</td>\n",
       "      <td>0.108334</td>\n",
       "    </tr>\n",
       "    <tr>\n",
       "      <th>5</th>\n",
       "      <td>vit_b_16</td>\n",
       "      <td>127978094</td>\n",
       "      <td>0.107799</td>\n",
       "    </tr>\n",
       "    <tr>\n",
       "      <th>6</th>\n",
       "      <td>vit_b_16</td>\n",
       "      <td>939042955</td>\n",
       "      <td>0.123753</td>\n",
       "    </tr>\n",
       "    <tr>\n",
       "      <th>7</th>\n",
       "      <td>vit_b_16</td>\n",
       "      <td>2340505846</td>\n",
       "      <td>0.103413</td>\n",
       "    </tr>\n",
       "    <tr>\n",
       "      <th>8</th>\n",
       "      <td>vit_b_16</td>\n",
       "      <td>946785248</td>\n",
       "      <td>0.107528</td>\n",
       "    </tr>\n",
       "    <tr>\n",
       "      <th>9</th>\n",
       "      <td>vit_b_16</td>\n",
       "      <td>2530876844</td>\n",
       "      <td>0.119648</td>\n",
       "    </tr>\n",
       "    <tr>\n",
       "      <th>0</th>\n",
       "      <td>vit_b_32</td>\n",
       "      <td>2746317213</td>\n",
       "      <td>0.089255</td>\n",
       "    </tr>\n",
       "    <tr>\n",
       "      <th>1</th>\n",
       "      <td>vit_b_32</td>\n",
       "      <td>1181241943</td>\n",
       "      <td>0.092143</td>\n",
       "    </tr>\n",
       "    <tr>\n",
       "      <th>2</th>\n",
       "      <td>vit_b_32</td>\n",
       "      <td>958682846</td>\n",
       "      <td>0.095366</td>\n",
       "    </tr>\n",
       "    <tr>\n",
       "      <th>3</th>\n",
       "      <td>vit_b_32</td>\n",
       "      <td>3163119785</td>\n",
       "      <td>0.090785</td>\n",
       "    </tr>\n",
       "    <tr>\n",
       "      <th>4</th>\n",
       "      <td>vit_b_32</td>\n",
       "      <td>1812140441</td>\n",
       "      <td>0.095221</td>\n",
       "    </tr>\n",
       "    <tr>\n",
       "      <th>5</th>\n",
       "      <td>vit_b_32</td>\n",
       "      <td>127978094</td>\n",
       "      <td>0.096012</td>\n",
       "    </tr>\n",
       "    <tr>\n",
       "      <th>6</th>\n",
       "      <td>vit_b_32</td>\n",
       "      <td>939042955</td>\n",
       "      <td>0.098712</td>\n",
       "    </tr>\n",
       "    <tr>\n",
       "      <th>7</th>\n",
       "      <td>vit_b_32</td>\n",
       "      <td>2340505846</td>\n",
       "      <td>0.088662</td>\n",
       "    </tr>\n",
       "    <tr>\n",
       "      <th>8</th>\n",
       "      <td>vit_b_32</td>\n",
       "      <td>946785248</td>\n",
       "      <td>0.094481</td>\n",
       "    </tr>\n",
       "    <tr>\n",
       "      <th>9</th>\n",
       "      <td>vit_b_32</td>\n",
       "      <td>2530876844</td>\n",
       "      <td>0.101028</td>\n",
       "    </tr>\n",
       "    <tr>\n",
       "      <th>0</th>\n",
       "      <td>vit_l_16</td>\n",
       "      <td>2746317213</td>\n",
       "      <td>0.141980</td>\n",
       "    </tr>\n",
       "    <tr>\n",
       "      <th>1</th>\n",
       "      <td>vit_l_16</td>\n",
       "      <td>1181241943</td>\n",
       "      <td>0.148598</td>\n",
       "    </tr>\n",
       "    <tr>\n",
       "      <th>2</th>\n",
       "      <td>vit_l_16</td>\n",
       "      <td>958682846</td>\n",
       "      <td>0.154549</td>\n",
       "    </tr>\n",
       "    <tr>\n",
       "      <th>3</th>\n",
       "      <td>vit_l_16</td>\n",
       "      <td>3163119785</td>\n",
       "      <td>0.143777</td>\n",
       "    </tr>\n",
       "    <tr>\n",
       "      <th>4</th>\n",
       "      <td>vit_l_16</td>\n",
       "      <td>1812140441</td>\n",
       "      <td>0.145945</td>\n",
       "    </tr>\n",
       "    <tr>\n",
       "      <th>5</th>\n",
       "      <td>vit_l_16</td>\n",
       "      <td>127978094</td>\n",
       "      <td>0.145326</td>\n",
       "    </tr>\n",
       "    <tr>\n",
       "      <th>6</th>\n",
       "      <td>vit_l_16</td>\n",
       "      <td>939042955</td>\n",
       "      <td>0.154476</td>\n",
       "    </tr>\n",
       "    <tr>\n",
       "      <th>7</th>\n",
       "      <td>vit_l_16</td>\n",
       "      <td>2340505846</td>\n",
       "      <td>0.142272</td>\n",
       "    </tr>\n",
       "    <tr>\n",
       "      <th>8</th>\n",
       "      <td>vit_l_16</td>\n",
       "      <td>946785248</td>\n",
       "      <td>0.146922</td>\n",
       "    </tr>\n",
       "    <tr>\n",
       "      <th>9</th>\n",
       "      <td>vit_l_16</td>\n",
       "      <td>2530876844</td>\n",
       "      <td>0.150569</td>\n",
       "    </tr>\n",
       "    <tr>\n",
       "      <th>0</th>\n",
       "      <td>vit_l_32</td>\n",
       "      <td>2746317213</td>\n",
       "      <td>0.119347</td>\n",
       "    </tr>\n",
       "    <tr>\n",
       "      <th>1</th>\n",
       "      <td>vit_l_32</td>\n",
       "      <td>1181241943</td>\n",
       "      <td>0.126909</td>\n",
       "    </tr>\n",
       "    <tr>\n",
       "      <th>2</th>\n",
       "      <td>vit_l_32</td>\n",
       "      <td>958682846</td>\n",
       "      <td>0.136127</td>\n",
       "    </tr>\n",
       "    <tr>\n",
       "      <th>3</th>\n",
       "      <td>vit_l_32</td>\n",
       "      <td>3163119785</td>\n",
       "      <td>0.120012</td>\n",
       "    </tr>\n",
       "    <tr>\n",
       "      <th>4</th>\n",
       "      <td>vit_l_32</td>\n",
       "      <td>1812140441</td>\n",
       "      <td>0.126282</td>\n",
       "    </tr>\n",
       "    <tr>\n",
       "      <th>5</th>\n",
       "      <td>vit_l_32</td>\n",
       "      <td>127978094</td>\n",
       "      <td>0.123637</td>\n",
       "    </tr>\n",
       "    <tr>\n",
       "      <th>6</th>\n",
       "      <td>vit_l_32</td>\n",
       "      <td>939042955</td>\n",
       "      <td>0.135324</td>\n",
       "    </tr>\n",
       "    <tr>\n",
       "      <th>7</th>\n",
       "      <td>vit_l_32</td>\n",
       "      <td>2340505846</td>\n",
       "      <td>0.116241</td>\n",
       "    </tr>\n",
       "    <tr>\n",
       "      <th>8</th>\n",
       "      <td>vit_l_32</td>\n",
       "      <td>946785248</td>\n",
       "      <td>0.125437</td>\n",
       "    </tr>\n",
       "    <tr>\n",
       "      <th>9</th>\n",
       "      <td>vit_l_32</td>\n",
       "      <td>2530876844</td>\n",
       "      <td>0.133812</td>\n",
       "    </tr>\n",
       "  </tbody>\n",
       "</table>\n",
       "</div>"
      ],
      "text/plain": [
       "      model        seed   top_sim\n",
       "0  vit_b_16  2746317213  0.102451\n",
       "1  vit_b_16  1181241943  0.113070\n",
       "2  vit_b_16   958682846  0.116893\n",
       "3  vit_b_16  3163119785  0.108330\n",
       "4  vit_b_16  1812140441  0.108334\n",
       "5  vit_b_16   127978094  0.107799\n",
       "6  vit_b_16   939042955  0.123753\n",
       "7  vit_b_16  2340505846  0.103413\n",
       "8  vit_b_16   946785248  0.107528\n",
       "9  vit_b_16  2530876844  0.119648\n",
       "0  vit_b_32  2746317213  0.089255\n",
       "1  vit_b_32  1181241943  0.092143\n",
       "2  vit_b_32   958682846  0.095366\n",
       "3  vit_b_32  3163119785  0.090785\n",
       "4  vit_b_32  1812140441  0.095221\n",
       "5  vit_b_32   127978094  0.096012\n",
       "6  vit_b_32   939042955  0.098712\n",
       "7  vit_b_32  2340505846  0.088662\n",
       "8  vit_b_32   946785248  0.094481\n",
       "9  vit_b_32  2530876844  0.101028\n",
       "0  vit_l_16  2746317213  0.141980\n",
       "1  vit_l_16  1181241943  0.148598\n",
       "2  vit_l_16   958682846  0.154549\n",
       "3  vit_l_16  3163119785  0.143777\n",
       "4  vit_l_16  1812140441  0.145945\n",
       "5  vit_l_16   127978094  0.145326\n",
       "6  vit_l_16   939042955  0.154476\n",
       "7  vit_l_16  2340505846  0.142272\n",
       "8  vit_l_16   946785248  0.146922\n",
       "9  vit_l_16  2530876844  0.150569\n",
       "0  vit_l_32  2746317213  0.119347\n",
       "1  vit_l_32  1181241943  0.126909\n",
       "2  vit_l_32   958682846  0.136127\n",
       "3  vit_l_32  3163119785  0.120012\n",
       "4  vit_l_32  1812140441  0.126282\n",
       "5  vit_l_32   127978094  0.123637\n",
       "6  vit_l_32   939042955  0.135324\n",
       "7  vit_l_32  2340505846  0.116241\n",
       "8  vit_l_32   946785248  0.125437\n",
       "9  vit_l_32  2530876844  0.133812"
      ]
     },
     "execution_count": 4,
     "metadata": {},
     "output_type": "execute_result"
    }
   ],
   "source": [
    "results"
   ]
  },
  {
   "cell_type": "code",
   "execution_count": 5,
   "id": "e17893c9-c401-4bda-a92b-c6fbc101e8fd",
   "metadata": {},
   "outputs": [
    {
     "data": {
      "text/html": [
       "<div>\n",
       "<style scoped>\n",
       "    .dataframe tbody tr th:only-of-type {\n",
       "        vertical-align: middle;\n",
       "    }\n",
       "\n",
       "    .dataframe tbody tr th {\n",
       "        vertical-align: top;\n",
       "    }\n",
       "\n",
       "    .dataframe thead th {\n",
       "        text-align: right;\n",
       "    }\n",
       "</style>\n",
       "<table border=\"1\" class=\"dataframe\">\n",
       "  <thead>\n",
       "    <tr style=\"text-align: right;\">\n",
       "      <th></th>\n",
       "      <th>model</th>\n",
       "      <th>top_sim</th>\n",
       "    </tr>\n",
       "  </thead>\n",
       "  <tbody>\n",
       "    <tr>\n",
       "      <th>0</th>\n",
       "      <td>vit_b_16</td>\n",
       "      <td>0.111122</td>\n",
       "    </tr>\n",
       "    <tr>\n",
       "      <th>1</th>\n",
       "      <td>vit_b_32</td>\n",
       "      <td>0.094166</td>\n",
       "    </tr>\n",
       "    <tr>\n",
       "      <th>2</th>\n",
       "      <td>vit_l_16</td>\n",
       "      <td>0.147442</td>\n",
       "    </tr>\n",
       "    <tr>\n",
       "      <th>3</th>\n",
       "      <td>vit_l_32</td>\n",
       "      <td>0.126313</td>\n",
       "    </tr>\n",
       "  </tbody>\n",
       "</table>\n",
       "</div>"
      ],
      "text/plain": [
       "      model   top_sim\n",
       "0  vit_b_16  0.111122\n",
       "1  vit_b_32  0.094166\n",
       "2  vit_l_16  0.147442\n",
       "3  vit_l_32  0.126313"
      ]
     },
     "execution_count": 5,
     "metadata": {},
     "output_type": "execute_result"
    }
   ],
   "source": [
    "grouped = results.groupby('model')['top_sim'].mean().reset_index()\n",
    "\n",
    "grouped"
   ]
  },
  {
   "cell_type": "markdown",
   "id": "f9429e05-fed3-4be7-86e4-e1119e005c96",
   "metadata": {},
   "source": [
    "## LSM - Top Sim"
   ]
  },
  {
   "cell_type": "code",
   "execution_count": 15,
   "id": "6b6bef2c-6564-41b1-be49-55040a70c8c5",
   "metadata": {},
   "outputs": [
    {
     "data": {
      "application/vnd.jupyter.widget-view+json": {
       "model_id": "71ec48673bcb46c38186298747bf01d5",
       "version_major": 2,
       "version_minor": 0
      },
      "text/plain": [
       "  0%|          | 0/2 [00:00<?, ?it/s]"
      ]
     },
     "metadata": {},
     "output_type": "display_data"
    },
    {
     "name": "stdout",
     "output_type": "stream",
     "text": [
      "vit_l_32\n"
     ]
    },
    {
     "data": {
      "application/vnd.jupyter.widget-view+json": {
       "model_id": "c6031d3183684f84a2e6374021fd26d8",
       "version_major": 2,
       "version_minor": 0
      },
      "text/plain": [
       "  0%|          | 0/10 [00:00<?, ?it/s]"
      ]
     },
     "metadata": {},
     "output_type": "display_data"
    },
    {
     "data": {
      "application/vnd.jupyter.widget-view+json": {
       "model_id": "d607e52b144c45b78db562c620f9c159",
       "version_major": 2,
       "version_minor": 0
      },
      "text/plain": [
       "  0%|          | 0/10 [00:00<?, ?it/s]"
      ]
     },
     "metadata": {},
     "output_type": "display_data"
    },
    {
     "data": {
      "application/vnd.jupyter.widget-view+json": {
       "model_id": "70e62d59bf7e4f718ff50dd46053d0db",
       "version_major": 2,
       "version_minor": 0
      },
      "text/plain": [
       "  0%|          | 0/1 [00:00<?, ?it/s]"
      ]
     },
     "metadata": {},
     "output_type": "display_data"
    },
    {
     "data": {
      "application/vnd.jupyter.widget-view+json": {
       "model_id": "3b2c330126be4545972b897eeeeb675f",
       "version_major": 2,
       "version_minor": 0
      },
      "text/plain": [
       "  0%|          | 0/10 [00:00<?, ?it/s]"
      ]
     },
     "metadata": {},
     "output_type": "display_data"
    },
    {
     "data": {
      "application/vnd.jupyter.widget-view+json": {
       "model_id": "c005da0bd0fb41f8b20024b36a7c612a",
       "version_major": 2,
       "version_minor": 0
      },
      "text/plain": [
       "  0%|          | 0/1 [00:00<?, ?it/s]"
      ]
     },
     "metadata": {},
     "output_type": "display_data"
    },
    {
     "data": {
      "application/vnd.jupyter.widget-view+json": {
       "model_id": "a12872d397eb449bb587e59ec26c3a58",
       "version_major": 2,
       "version_minor": 0
      },
      "text/plain": [
       "  0%|          | 0/10 [00:00<?, ?it/s]"
      ]
     },
     "metadata": {},
     "output_type": "display_data"
    },
    {
     "data": {
      "application/vnd.jupyter.widget-view+json": {
       "model_id": "cec7d9829d8940b5ad34a60e790724ca",
       "version_major": 2,
       "version_minor": 0
      },
      "text/plain": [
       "  0%|          | 0/1 [00:00<?, ?it/s]"
      ]
     },
     "metadata": {},
     "output_type": "display_data"
    },
    {
     "data": {
      "application/vnd.jupyter.widget-view+json": {
       "model_id": "b0a5484aedde4e40889434245b0ae2a1",
       "version_major": 2,
       "version_minor": 0
      },
      "text/plain": [
       "  0%|          | 0/10 [00:00<?, ?it/s]"
      ]
     },
     "metadata": {},
     "output_type": "display_data"
    },
    {
     "data": {
      "application/vnd.jupyter.widget-view+json": {
       "model_id": "edd232a4945f4f51931d98558e429284",
       "version_major": 2,
       "version_minor": 0
      },
      "text/plain": [
       "  0%|          | 0/1 [00:00<?, ?it/s]"
      ]
     },
     "metadata": {},
     "output_type": "display_data"
    },
    {
     "data": {
      "application/vnd.jupyter.widget-view+json": {
       "model_id": "aa528260716b4e68b963d5d1a0ac3e7e",
       "version_major": 2,
       "version_minor": 0
      },
      "text/plain": [
       "  0%|          | 0/10 [00:00<?, ?it/s]"
      ]
     },
     "metadata": {},
     "output_type": "display_data"
    },
    {
     "data": {
      "application/vnd.jupyter.widget-view+json": {
       "model_id": "6a93bd07e0914de5a2f82a36af89e5bc",
       "version_major": 2,
       "version_minor": 0
      },
      "text/plain": [
       "  0%|          | 0/1 [00:00<?, ?it/s]"
      ]
     },
     "metadata": {},
     "output_type": "display_data"
    },
    {
     "data": {
      "application/vnd.jupyter.widget-view+json": {
       "model_id": "874a7179784c43468e635ee881072f97",
       "version_major": 2,
       "version_minor": 0
      },
      "text/plain": [
       "  0%|          | 0/10 [00:00<?, ?it/s]"
      ]
     },
     "metadata": {},
     "output_type": "display_data"
    },
    {
     "data": {
      "application/vnd.jupyter.widget-view+json": {
       "model_id": "09c9d0d13ff04f059018567b23aa8559",
       "version_major": 2,
       "version_minor": 0
      },
      "text/plain": [
       "  0%|          | 0/1 [00:00<?, ?it/s]"
      ]
     },
     "metadata": {},
     "output_type": "display_data"
    },
    {
     "data": {
      "application/vnd.jupyter.widget-view+json": {
       "model_id": "56304593bcc9433a8d24bd0528ea25bd",
       "version_major": 2,
       "version_minor": 0
      },
      "text/plain": [
       "  0%|          | 0/10 [00:00<?, ?it/s]"
      ]
     },
     "metadata": {},
     "output_type": "display_data"
    },
    {
     "data": {
      "application/vnd.jupyter.widget-view+json": {
       "model_id": "655e2b91964445808e10964b1d2a3f83",
       "version_major": 2,
       "version_minor": 0
      },
      "text/plain": [
       "  0%|          | 0/1 [00:00<?, ?it/s]"
      ]
     },
     "metadata": {},
     "output_type": "display_data"
    },
    {
     "data": {
      "application/vnd.jupyter.widget-view+json": {
       "model_id": "c9b70ae27dce4289857fbce8c87d4efa",
       "version_major": 2,
       "version_minor": 0
      },
      "text/plain": [
       "  0%|          | 0/10 [00:00<?, ?it/s]"
      ]
     },
     "metadata": {},
     "output_type": "display_data"
    },
    {
     "data": {
      "application/vnd.jupyter.widget-view+json": {
       "model_id": "59bd1cb428b0486b9c704caa7cd63c08",
       "version_major": 2,
       "version_minor": 0
      },
      "text/plain": [
       "  0%|          | 0/1 [00:00<?, ?it/s]"
      ]
     },
     "metadata": {},
     "output_type": "display_data"
    },
    {
     "data": {
      "application/vnd.jupyter.widget-view+json": {
       "model_id": "8b19372549974befb8cffebb24df3054",
       "version_major": 2,
       "version_minor": 0
      },
      "text/plain": [
       "  0%|          | 0/10 [00:00<?, ?it/s]"
      ]
     },
     "metadata": {},
     "output_type": "display_data"
    },
    {
     "data": {
      "application/vnd.jupyter.widget-view+json": {
       "model_id": "40b7c8d4c29a4a7eb818d03c9b084852",
       "version_major": 2,
       "version_minor": 0
      },
      "text/plain": [
       "  0%|          | 0/1 [00:00<?, ?it/s]"
      ]
     },
     "metadata": {},
     "output_type": "display_data"
    },
    {
     "data": {
      "application/vnd.jupyter.widget-view+json": {
       "model_id": "7522194c2b4544da828f52a3f1dbf691",
       "version_major": 2,
       "version_minor": 0
      },
      "text/plain": [
       "  0%|          | 0/10 [00:00<?, ?it/s]"
      ]
     },
     "metadata": {},
     "output_type": "display_data"
    },
    {
     "data": {
      "application/vnd.jupyter.widget-view+json": {
       "model_id": "218e37cd433545809198f88b96c743f0",
       "version_major": 2,
       "version_minor": 0
      },
      "text/plain": [
       "  0%|          | 0/1 [00:00<?, ?it/s]"
      ]
     },
     "metadata": {},
     "output_type": "display_data"
    },
    {
     "name": "stdout",
     "output_type": "stream",
     "text": [
      "[0.06516173485545189, 0.06173578405653412, 0.06489070721897328, 0.06127073781500601, 0.0648655248874502, 0.06515923767897261, 0.06057297526189481, 0.06150251969577546, 0.06489485762683896, 0.06187629699619158]\n",
      "vit_l_32\n"
     ]
    },
    {
     "data": {
      "application/vnd.jupyter.widget-view+json": {
       "model_id": "129d7a8c3f02469597a3356932fa06ea",
       "version_major": 2,
       "version_minor": 0
      },
      "text/plain": [
       "  0%|          | 0/10 [00:00<?, ?it/s]"
      ]
     },
     "metadata": {},
     "output_type": "display_data"
    },
    {
     "data": {
      "application/vnd.jupyter.widget-view+json": {
       "model_id": "73752623198e4b12a1019e10bfd32c3e",
       "version_major": 2,
       "version_minor": 0
      },
      "text/plain": [
       "  0%|          | 0/10 [00:00<?, ?it/s]"
      ]
     },
     "metadata": {},
     "output_type": "display_data"
    },
    {
     "data": {
      "application/vnd.jupyter.widget-view+json": {
       "model_id": "fa5412f3b80548bb9db98f2a4759067d",
       "version_major": 2,
       "version_minor": 0
      },
      "text/plain": [
       "  0%|          | 0/1 [00:00<?, ?it/s]"
      ]
     },
     "metadata": {},
     "output_type": "display_data"
    },
    {
     "data": {
      "application/vnd.jupyter.widget-view+json": {
       "model_id": "7a1fcf9e9ba5468fad16f7f44fac5a46",
       "version_major": 2,
       "version_minor": 0
      },
      "text/plain": [
       "  0%|          | 0/10 [00:00<?, ?it/s]"
      ]
     },
     "metadata": {},
     "output_type": "display_data"
    },
    {
     "data": {
      "application/vnd.jupyter.widget-view+json": {
       "model_id": "381956c1e8204e6d8ebffa352a080b4a",
       "version_major": 2,
       "version_minor": 0
      },
      "text/plain": [
       "  0%|          | 0/1 [00:00<?, ?it/s]"
      ]
     },
     "metadata": {},
     "output_type": "display_data"
    },
    {
     "data": {
      "application/vnd.jupyter.widget-view+json": {
       "model_id": "bb7d2f4074004223a838d6a89b2e2f7e",
       "version_major": 2,
       "version_minor": 0
      },
      "text/plain": [
       "  0%|          | 0/10 [00:00<?, ?it/s]"
      ]
     },
     "metadata": {},
     "output_type": "display_data"
    },
    {
     "data": {
      "application/vnd.jupyter.widget-view+json": {
       "model_id": "51fe25543b724947bd7835acf52487c2",
       "version_major": 2,
       "version_minor": 0
      },
      "text/plain": [
       "  0%|          | 0/1 [00:00<?, ?it/s]"
      ]
     },
     "metadata": {},
     "output_type": "display_data"
    },
    {
     "data": {
      "application/vnd.jupyter.widget-view+json": {
       "model_id": "51a58fa8c9fa4ac69527d135508e49e8",
       "version_major": 2,
       "version_minor": 0
      },
      "text/plain": [
       "  0%|          | 0/10 [00:00<?, ?it/s]"
      ]
     },
     "metadata": {},
     "output_type": "display_data"
    },
    {
     "data": {
      "application/vnd.jupyter.widget-view+json": {
       "model_id": "bb142801fcee476294939ff64740d6ea",
       "version_major": 2,
       "version_minor": 0
      },
      "text/plain": [
       "  0%|          | 0/1 [00:00<?, ?it/s]"
      ]
     },
     "metadata": {},
     "output_type": "display_data"
    },
    {
     "data": {
      "application/vnd.jupyter.widget-view+json": {
       "model_id": "b9ee4ed979b243b180c8f60ded4aa1ed",
       "version_major": 2,
       "version_minor": 0
      },
      "text/plain": [
       "  0%|          | 0/10 [00:00<?, ?it/s]"
      ]
     },
     "metadata": {},
     "output_type": "display_data"
    },
    {
     "data": {
      "application/vnd.jupyter.widget-view+json": {
       "model_id": "33f3c95c0204491fa3b9a27c433adeb6",
       "version_major": 2,
       "version_minor": 0
      },
      "text/plain": [
       "  0%|          | 0/1 [00:00<?, ?it/s]"
      ]
     },
     "metadata": {},
     "output_type": "display_data"
    },
    {
     "data": {
      "application/vnd.jupyter.widget-view+json": {
       "model_id": "3c1d782ccebb4d0e82978f4cca3acd7b",
       "version_major": 2,
       "version_minor": 0
      },
      "text/plain": [
       "  0%|          | 0/10 [00:00<?, ?it/s]"
      ]
     },
     "metadata": {},
     "output_type": "display_data"
    },
    {
     "data": {
      "application/vnd.jupyter.widget-view+json": {
       "model_id": "a3c95996b7a34335acc4f4571b4acd43",
       "version_major": 2,
       "version_minor": 0
      },
      "text/plain": [
       "  0%|          | 0/1 [00:00<?, ?it/s]"
      ]
     },
     "metadata": {},
     "output_type": "display_data"
    },
    {
     "data": {
      "application/vnd.jupyter.widget-view+json": {
       "model_id": "36b6b1bdda11414aa543b95055796b11",
       "version_major": 2,
       "version_minor": 0
      },
      "text/plain": [
       "  0%|          | 0/10 [00:00<?, ?it/s]"
      ]
     },
     "metadata": {},
     "output_type": "display_data"
    },
    {
     "data": {
      "application/vnd.jupyter.widget-view+json": {
       "model_id": "729c6ff3f9f446f28d0de3c4146ca4dc",
       "version_major": 2,
       "version_minor": 0
      },
      "text/plain": [
       "  0%|          | 0/1 [00:00<?, ?it/s]"
      ]
     },
     "metadata": {},
     "output_type": "display_data"
    },
    {
     "data": {
      "application/vnd.jupyter.widget-view+json": {
       "model_id": "79ee1a0e459c4c399d9d10b7cd3504ee",
       "version_major": 2,
       "version_minor": 0
      },
      "text/plain": [
       "  0%|          | 0/10 [00:00<?, ?it/s]"
      ]
     },
     "metadata": {},
     "output_type": "display_data"
    },
    {
     "data": {
      "application/vnd.jupyter.widget-view+json": {
       "model_id": "29d5c74e61e04e76bf6a989e351aba7f",
       "version_major": 2,
       "version_minor": 0
      },
      "text/plain": [
       "  0%|          | 0/1 [00:00<?, ?it/s]"
      ]
     },
     "metadata": {},
     "output_type": "display_data"
    },
    {
     "data": {
      "application/vnd.jupyter.widget-view+json": {
       "model_id": "6efaa69ebee24182855e4b7d18c2a9dd",
       "version_major": 2,
       "version_minor": 0
      },
      "text/plain": [
       "  0%|          | 0/10 [00:00<?, ?it/s]"
      ]
     },
     "metadata": {},
     "output_type": "display_data"
    },
    {
     "data": {
      "application/vnd.jupyter.widget-view+json": {
       "model_id": "a931708941124f75ae729d6801d4a3c7",
       "version_major": 2,
       "version_minor": 0
      },
      "text/plain": [
       "  0%|          | 0/1 [00:00<?, ?it/s]"
      ]
     },
     "metadata": {},
     "output_type": "display_data"
    },
    {
     "data": {
      "application/vnd.jupyter.widget-view+json": {
       "model_id": "a9fda7967000437a9a42cdcb86230444",
       "version_major": 2,
       "version_minor": 0
      },
      "text/plain": [
       "  0%|          | 0/10 [00:00<?, ?it/s]"
      ]
     },
     "metadata": {},
     "output_type": "display_data"
    },
    {
     "data": {
      "application/vnd.jupyter.widget-view+json": {
       "model_id": "e63cd9230c7c471b9c3fecbcc4d3289e",
       "version_major": 2,
       "version_minor": 0
      },
      "text/plain": [
       "  0%|          | 0/1 [00:00<?, ?it/s]"
      ]
     },
     "metadata": {},
     "output_type": "display_data"
    },
    {
     "name": "stdout",
     "output_type": "stream",
     "text": [
      "[-0.007915091592392903, -0.007612920641561018, -0.008739540471947686, -0.009990558310293529, -0.009889535831871557, -0.008901011117443005, -0.009584788824939865, -0.007432201619869495, -0.00852653286840817, -0.004247163764604285]\n"
     ]
    }
   ],
   "source": [
    "import pandas as pd\n",
    "from models import create_model, LightningVersatile\n",
    "from utils import get_args\n",
    "from torch.utils.data import TensorDataset, DataLoader\n",
    "# load model\n",
    "\n",
    "def get_reps(args, model, dl):\n",
    "    reps = []\n",
    "    with torch.no_grad():\n",
    "        for rep in tqdm(dl):\n",
    "            bs = rep[0].shape[0]\n",
    "            rep = rep[0].cuda()\n",
    "            delta = torch.zeros(bs, len(args.FOVS_PER_DATASET)).cuda()\n",
    "            new_rep = model.modulator(rep, delta)\n",
    "            reps.append(new_rep.cpu())\n",
    "        return torch.cat(reps, dim=0)\n",
    "    \n",
    "\n",
    "exps = [\"7l4txq1v\", #  rep_train_plus extrapolation\n",
    "        \"xg98v4xi\"\n",
    "        ] \n",
    "\n",
    "seeds = generate_seeds(10)\n",
    "subset_size = 10000\n",
    "results = pd.DataFrame()\n",
    "for exp_id in tqdm(exps):\n",
    "    args = get_args(exp_id)\n",
    "\n",
    "    # Load model with pretrained weights\n",
    "    encoder, modulator, regressor = create_model(args)\n",
    "    model = LightningVersatile.load_from_checkpoint(checkpoint_path=f\"results/{args.dataset}/{exp_id}/last.ckpt\", \n",
    "                                        args=args, \n",
    "                                        encoder=encoder, \n",
    "                                        modulator=modulator,\n",
    "                                        regressor=regressor)\n",
    "    print(args.pretrained_reps)\n",
    "\n",
    "    # Create Subset Datasets\n",
    "    reps = torch.load(f\"3dshapes/3dshapes_images_feats_{args.pretrained_reps}.pth\")\n",
    "    latents =  data['latent_ids']\n",
    "    sims = []\n",
    "    for seed in tqdm(seeds):\n",
    "        torch.manual_seed(seed)\n",
    "        idx = torch.randperm(reps.shape[0], device=\"cpu\")[:subset_size]\n",
    "        subset_reps = reps[idx]\n",
    "        subset_latents = latents[idx]\n",
    "        ds = TensorDataset(subset_reps)\n",
    "        dl = DataLoader(ds, batch_size=1024, shuffle=False)\n",
    "        new_reps = get_reps(args, model, dl)\n",
    "\n",
    "        _, sim = topographic_similarity_gpu(\n",
    "            new_reps,\n",
    "            subset_latents.float(),\n",
    "            subset_size=subset_size,\n",
    "            seeds = [seed],\n",
    "            distance = \"cosine\")\n",
    "        sims.append(sim[0])\n",
    "    print(sims)\n",
    "    results = pd.concat([results, pd.DataFrame({'model': [f\"lsp_{args.sub_dataset}_{args.pretrained_reps}\"]*len(seeds) ,'seed': seeds, 'top_sim': sims})])\n",
    "results.to_csv(\"topsim_lsm_baselines.csv\")"
   ]
  },
  {
   "cell_type": "code",
   "execution_count": 16,
   "id": "56ff56ba-a6d4-417c-b32e-8adc8f80650a",
   "metadata": {},
   "outputs": [
    {
     "data": {
      "text/plain": [
       "[-0.007915091592392903,\n",
       " -0.007612920641561018,\n",
       " -0.008739540471947686,\n",
       " -0.009990558310293529,\n",
       " -0.009889535831871557,\n",
       " -0.008901011117443005,\n",
       " -0.009584788824939865,\n",
       " -0.007432201619869495,\n",
       " -0.00852653286840817,\n",
       " -0.004247163764604285]"
      ]
     },
     "execution_count": 16,
     "metadata": {},
     "output_type": "execute_result"
    }
   ],
   "source": [
    "sims"
   ]
  },
  {
   "cell_type": "code",
   "execution_count": 17,
   "id": "ef966d69-8452-4a95-b7fd-79822d4ec415",
   "metadata": {},
   "outputs": [
    {
     "data": {
      "text/html": [
       "<div>\n",
       "<style scoped>\n",
       "    .dataframe tbody tr th:only-of-type {\n",
       "        vertical-align: middle;\n",
       "    }\n",
       "\n",
       "    .dataframe tbody tr th {\n",
       "        vertical-align: top;\n",
       "    }\n",
       "\n",
       "    .dataframe thead th {\n",
       "        text-align: right;\n",
       "    }\n",
       "</style>\n",
       "<table border=\"1\" class=\"dataframe\">\n",
       "  <thead>\n",
       "    <tr style=\"text-align: right;\">\n",
       "      <th></th>\n",
       "      <th>model</th>\n",
       "      <th>top_sim</th>\n",
       "    </tr>\n",
       "  </thead>\n",
       "  <tbody>\n",
       "    <tr>\n",
       "      <th>0</th>\n",
       "      <td>lsp_composition_vit_l_32</td>\n",
       "      <td>-0.008284</td>\n",
       "    </tr>\n",
       "    <tr>\n",
       "      <th>1</th>\n",
       "      <td>lsp_extrapolation_vit_l_32</td>\n",
       "      <td>0.063193</td>\n",
       "    </tr>\n",
       "    <tr>\n",
       "      <th>2</th>\n",
       "      <td>vit_b_16</td>\n",
       "      <td>0.111122</td>\n",
       "    </tr>\n",
       "    <tr>\n",
       "      <th>3</th>\n",
       "      <td>vit_b_32</td>\n",
       "      <td>0.094166</td>\n",
       "    </tr>\n",
       "    <tr>\n",
       "      <th>4</th>\n",
       "      <td>vit_l_16</td>\n",
       "      <td>0.147442</td>\n",
       "    </tr>\n",
       "    <tr>\n",
       "      <th>5</th>\n",
       "      <td>vit_l_32</td>\n",
       "      <td>0.126313</td>\n",
       "    </tr>\n",
       "  </tbody>\n",
       "</table>\n",
       "</div>"
      ],
      "text/plain": [
       "                        model   top_sim\n",
       "0    lsp_composition_vit_l_32 -0.008284\n",
       "1  lsp_extrapolation_vit_l_32  0.063193\n",
       "2                    vit_b_16  0.111122\n",
       "3                    vit_b_32  0.094166\n",
       "4                    vit_l_16  0.147442\n",
       "5                    vit_l_32  0.126313"
      ]
     },
     "execution_count": 17,
     "metadata": {},
     "output_type": "execute_result"
    }
   ],
   "source": [
    "df1 = pd.read_csv(\"topsim_baselines.csv\")\n",
    "df2 = pd.read_csv(\"topsim_lsm_baselines.csv\")\n",
    "\n",
    "results = pd.concat([df1,df2])\n",
    "grouped = results.groupby('model')['top_sim'].mean().reset_index()\n",
    "grouped"
   ]
  },
  {
   "cell_type": "code",
   "execution_count": 18,
   "id": "1ec5b5fd-8f88-4e15-b7b8-52c2467b0ef2",
   "metadata": {},
   "outputs": [
    {
     "name": "stdout",
     "output_type": "stream",
     "text": [
      "\\begin{tabular}{llr}\n",
      "\\toprule\n",
      " & model & top\\_sim \\\\\n",
      "\\midrule\n",
      "0 & lsp\\_composition\\_vit\\_l\\_32 & -0.008284 \\\\\n",
      "1 & lsp\\_extrapolation\\_vit\\_l\\_32 & 0.063193 \\\\\n",
      "2 & vit\\_b\\_16 & 0.111122 \\\\\n",
      "3 & vit\\_b\\_32 & 0.094166 \\\\\n",
      "4 & vit\\_l\\_16 & 0.147442 \\\\\n",
      "5 & vit\\_l\\_32 & 0.126313 \\\\\n",
      "\\bottomrule\n",
      "\\end{tabular}\n",
      "\n"
     ]
    }
   ],
   "source": [
    "print(grouped.to_latex(index=None).replace(\"_\",\"\\_\"))"
   ]
  },
  {
   "cell_type": "code",
   "execution_count": 37,
   "id": "47dcaae7-5e16-4501-8ec3-d3113f7dd43d",
   "metadata": {},
   "outputs": [
    {
     "data": {
      "text/plain": [
       "torch.Size([1000, 768])"
      ]
     },
     "execution_count": 37,
     "metadata": {},
     "output_type": "execute_result"
    }
   ],
   "source": [
    "a[0].shape"
   ]
  },
  {
   "cell_type": "code",
   "execution_count": 41,
   "id": "abd0a066-ad2d-4de1-84e8-b97f03968c7b",
   "metadata": {},
   "outputs": [
    {
     "data": {
      "text/plain": [
       "torch.Size([1000, 128])"
      ]
     },
     "execution_count": 41,
     "metadata": {},
     "output_type": "execute_result"
    }
   ],
   "source": [
    "new_reps.shape"
   ]
  },
  {
   "cell_type": "code",
   "execution_count": 6,
   "id": "6b810676-4334-4400-bca4-1375b587638a",
   "metadata": {},
   "outputs": [
    {
     "data": {
      "text/html": [
       "<div>\n",
       "<style scoped>\n",
       "    .dataframe tbody tr th:only-of-type {\n",
       "        vertical-align: middle;\n",
       "    }\n",
       "\n",
       "    .dataframe tbody tr th {\n",
       "        vertical-align: top;\n",
       "    }\n",
       "\n",
       "    .dataframe thead th {\n",
       "        text-align: right;\n",
       "    }\n",
       "</style>\n",
       "<table border=\"1\" class=\"dataframe\">\n",
       "  <thead>\n",
       "    <tr style=\"text-align: right;\">\n",
       "      <th></th>\n",
       "      <th>model</th>\n",
       "      <th>top_sim</th>\n",
       "    </tr>\n",
       "  </thead>\n",
       "  <tbody>\n",
       "    <tr>\n",
       "      <th>0</th>\n",
       "      <td>lsp_LightningRepClassification(\\n  (modulator)...</td>\n",
       "      <td>0.055381</td>\n",
       "    </tr>\n",
       "    <tr>\n",
       "      <th>1</th>\n",
       "      <td>lsp_LightningRepClassification(\\n  (modulator)...</td>\n",
       "      <td>0.082469</td>\n",
       "    </tr>\n",
       "  </tbody>\n",
       "</table>\n",
       "</div>"
      ],
      "text/plain": [
       "                                               model   top_sim\n",
       "0  lsp_LightningRepClassification(\\n  (modulator)...  0.055381\n",
       "1  lsp_LightningRepClassification(\\n  (modulator)...  0.082469"
      ]
     },
     "execution_count": 6,
     "metadata": {},
     "output_type": "execute_result"
    }
   ],
   "source": [
    "grouped"
   ]
  },
  {
   "cell_type": "code",
   "execution_count": 2,
   "id": "8f5aae40-8f8d-411b-80a0-91d22555a75b",
   "metadata": {},
   "outputs": [],
   "source": [
    "data = torch.load(\"3dshapes/3dshapes.pth\")"
   ]
  },
  {
   "cell_type": "code",
   "execution_count": 6,
   "id": "c995b703-1f37-42df-a1d2-fa8d190c8dcb",
   "metadata": {},
   "outputs": [
    {
     "data": {
      "application/vnd.jupyter.widget-view+json": {
       "model_id": "9f072223a77d4ba7836f574fd3a8369c",
       "version_major": 2,
       "version_minor": 0
      },
      "text/plain": [
       "  0%|          | 0/4 [00:00<?, ?it/s]"
      ]
     },
     "metadata": {},
     "output_type": "display_data"
    },
    {
     "data": {
      "application/vnd.jupyter.widget-view+json": {
       "model_id": "b2a385cf6f2f4a0bba006b15826505d5",
       "version_major": 2,
       "version_minor": 0
      },
      "text/plain": [
       "  0%|          | 0/6 [00:00<?, ?it/s]"
      ]
     },
     "metadata": {},
     "output_type": "display_data"
    },
    {
     "data": {
      "application/vnd.jupyter.widget-view+json": {
       "model_id": "7ff212d0946c417ab3fa78592a8723e3",
       "version_major": 2,
       "version_minor": 0
      },
      "text/plain": [
       "  0%|          | 0/6 [00:00<?, ?it/s]"
      ]
     },
     "metadata": {},
     "output_type": "display_data"
    },
    {
     "data": {
      "application/vnd.jupyter.widget-view+json": {
       "model_id": "a6e2028e70a34a8496c1cf02b8b09bd0",
       "version_major": 2,
       "version_minor": 0
      },
      "text/plain": [
       "  0%|          | 0/6 [00:00<?, ?it/s]"
      ]
     },
     "metadata": {},
     "output_type": "display_data"
    },
    {
     "data": {
      "application/vnd.jupyter.widget-view+json": {
       "model_id": "c650201d5cec466693b8ad84867ff9a3",
       "version_major": 2,
       "version_minor": 0
      },
      "text/plain": [
       "  0%|          | 0/6 [00:00<?, ?it/s]"
      ]
     },
     "metadata": {},
     "output_type": "display_data"
    }
   ],
   "source": [
    "import torch\n",
    "import itertools\n",
    "import pandas as pd\n",
    "from collections import defaultdict\n",
    "import random\n",
    "from tqdm.notebook import tqdm\n",
    "from utils import get_args\n",
    "def fast_parallelism_score(reps, latents, factor_idx, num_pairs=1000, max_group_size=500):\n",
    "    \"\"\"\n",
    "    Computes parallelism score for a given latent factor, scalable to large datasets.\n",
    "    \"\"\"\n",
    "\n",
    "    other_indices = [i for i in range(latents.shape[1]) if i != factor_idx]\n",
    "    reps = reps.cpu()\n",
    "    latents = latents.cpu()\n",
    "\n",
    "    # Group samples by all other factor values\n",
    "    groups = defaultdict(list)\n",
    "    for idx in range(len(latents)):\n",
    "        key = tuple(latents[idx, other_indices].tolist())\n",
    "        groups[key].append(idx)\n",
    "\n",
    "    deltas = []\n",
    "    rng = random.Random(42)\n",
    "\n",
    "    # For each group (fixed other factors), find pairs that differ in factor_idx\n",
    "    for group in groups.values():\n",
    "        if len(group) < 2:\n",
    "            continue\n",
    "        group_latents = latents[group, factor_idx]\n",
    "        group_reps = reps[group]\n",
    "        val_to_indices = defaultdict(list)\n",
    "\n",
    "        for i, val in zip(group, group_latents.tolist()):\n",
    "            val_to_indices[val].append(i)\n",
    "\n",
    "        # Get all combinations of different values for this factor\n",
    "        for v1, v2 in itertools.combinations(val_to_indices.keys(), 2):\n",
    "            idx1 = val_to_indices[v1]\n",
    "            idx2 = val_to_indices[v2]\n",
    "\n",
    "            for i1 in idx1[:max_group_size]:\n",
    "                for i2 in idx2[:max_group_size]:\n",
    "                    delta = reps[i1] - reps[i2]\n",
    "                    deltas.append(delta)\n",
    "                    if len(deltas) >= num_pairs:\n",
    "                        break\n",
    "                if len(deltas) >= num_pairs:\n",
    "                    break\n",
    "            if len(deltas) >= num_pairs:\n",
    "                break\n",
    "        if len(deltas) >= num_pairs:\n",
    "            break\n",
    "\n",
    "    if len(deltas) < 2:\n",
    "        return float(\"nan\")\n",
    "\n",
    "    deltas = torch.stack(deltas)\n",
    "    deltas = torch.nn.functional.normalize(deltas, dim=1)\n",
    "    deltas = deltas.to(\"cuda\")\n",
    "    sims = torch.matmul(deltas, deltas.T).cpu()\n",
    "    upper = sims.triu(diagonal=1)\n",
    "    score = upper.sum() / (upper != 0).sum()\n",
    "    return score.item()\n",
    "\n",
    "models = ['vit_b_16', 'vit_b_32', 'vit_l_16','vit_l_32']\n",
    "factors = ['floor_hue','wall_hue','object_hue','scale','shape', 'orientation']\n",
    "results = []\n",
    "latents = data['latent_ids']\n",
    "for model in tqdm(models):\n",
    "    reps = torch.load(f\"3dshapes/3dshapes_images_feats_{model}.pth\")\n",
    "    for factor_idx in tqdm(range(6)):\n",
    "        score = fast_parallelism_score(reps, latents, factor_idx, num_pairs=5000, max_group_size=2500)\n",
    "        results.append({\n",
    "            \"model\": model,\n",
    "            \"factor\": factors[factor_idx],\n",
    "            \"parallelism_score\": score\n",
    "        })\n",
    "    p_score = fast_parallelism_score(reps, latents, 0)\n",
    "\n",
    "# Convert to DataFrame\n",
    "df_scores = pd.DataFrame(results)\n"
   ]
  },
  {
   "cell_type": "code",
   "execution_count": 7,
   "id": "8c329525-2978-4c78-9f8a-67851cf77baa",
   "metadata": {},
   "outputs": [],
   "source": [
    "df_scores.to_csv(\"pscores_baselines.csv\")"
   ]
  },
  {
   "cell_type": "code",
   "execution_count": 8,
   "id": "f3d55682-79db-4d5e-a567-032847fbbcf9",
   "metadata": {},
   "outputs": [
    {
     "data": {
      "text/html": [
       "<div>\n",
       "<style scoped>\n",
       "    .dataframe tbody tr th:only-of-type {\n",
       "        vertical-align: middle;\n",
       "    }\n",
       "\n",
       "    .dataframe tbody tr th {\n",
       "        vertical-align: top;\n",
       "    }\n",
       "\n",
       "    .dataframe thead th {\n",
       "        text-align: right;\n",
       "    }\n",
       "</style>\n",
       "<table border=\"1\" class=\"dataframe\">\n",
       "  <thead>\n",
       "    <tr style=\"text-align: right;\">\n",
       "      <th></th>\n",
       "      <th>model</th>\n",
       "      <th>factor</th>\n",
       "      <th>parallelism_score</th>\n",
       "    </tr>\n",
       "  </thead>\n",
       "  <tbody>\n",
       "    <tr>\n",
       "      <th>0</th>\n",
       "      <td>vit_b_16</td>\n",
       "      <td>floor_hue</td>\n",
       "      <td>0.107740</td>\n",
       "    </tr>\n",
       "    <tr>\n",
       "      <th>1</th>\n",
       "      <td>vit_b_16</td>\n",
       "      <td>wall_hue</td>\n",
       "      <td>0.106162</td>\n",
       "    </tr>\n",
       "    <tr>\n",
       "      <th>2</th>\n",
       "      <td>vit_b_16</td>\n",
       "      <td>object_hue</td>\n",
       "      <td>0.089541</td>\n",
       "    </tr>\n",
       "    <tr>\n",
       "      <th>3</th>\n",
       "      <td>vit_b_16</td>\n",
       "      <td>scale</td>\n",
       "      <td>0.122251</td>\n",
       "    </tr>\n",
       "    <tr>\n",
       "      <th>4</th>\n",
       "      <td>vit_b_16</td>\n",
       "      <td>shape</td>\n",
       "      <td>0.218613</td>\n",
       "    </tr>\n",
       "    <tr>\n",
       "      <th>5</th>\n",
       "      <td>vit_b_16</td>\n",
       "      <td>orientation</td>\n",
       "      <td>0.054536</td>\n",
       "    </tr>\n",
       "    <tr>\n",
       "      <th>6</th>\n",
       "      <td>vit_b_32</td>\n",
       "      <td>floor_hue</td>\n",
       "      <td>0.100278</td>\n",
       "    </tr>\n",
       "    <tr>\n",
       "      <th>7</th>\n",
       "      <td>vit_b_32</td>\n",
       "      <td>wall_hue</td>\n",
       "      <td>0.113571</td>\n",
       "    </tr>\n",
       "    <tr>\n",
       "      <th>8</th>\n",
       "      <td>vit_b_32</td>\n",
       "      <td>object_hue</td>\n",
       "      <td>0.099302</td>\n",
       "    </tr>\n",
       "    <tr>\n",
       "      <th>9</th>\n",
       "      <td>vit_b_32</td>\n",
       "      <td>scale</td>\n",
       "      <td>0.145598</td>\n",
       "    </tr>\n",
       "    <tr>\n",
       "      <th>10</th>\n",
       "      <td>vit_b_32</td>\n",
       "      <td>shape</td>\n",
       "      <td>0.218952</td>\n",
       "    </tr>\n",
       "    <tr>\n",
       "      <th>11</th>\n",
       "      <td>vit_b_32</td>\n",
       "      <td>orientation</td>\n",
       "      <td>0.059499</td>\n",
       "    </tr>\n",
       "    <tr>\n",
       "      <th>12</th>\n",
       "      <td>vit_l_16</td>\n",
       "      <td>floor_hue</td>\n",
       "      <td>0.130729</td>\n",
       "    </tr>\n",
       "    <tr>\n",
       "      <th>13</th>\n",
       "      <td>vit_l_16</td>\n",
       "      <td>wall_hue</td>\n",
       "      <td>0.125484</td>\n",
       "    </tr>\n",
       "    <tr>\n",
       "      <th>14</th>\n",
       "      <td>vit_l_16</td>\n",
       "      <td>object_hue</td>\n",
       "      <td>0.124927</td>\n",
       "    </tr>\n",
       "    <tr>\n",
       "      <th>15</th>\n",
       "      <td>vit_l_16</td>\n",
       "      <td>scale</td>\n",
       "      <td>0.125357</td>\n",
       "    </tr>\n",
       "    <tr>\n",
       "      <th>16</th>\n",
       "      <td>vit_l_16</td>\n",
       "      <td>shape</td>\n",
       "      <td>0.233449</td>\n",
       "    </tr>\n",
       "    <tr>\n",
       "      <th>17</th>\n",
       "      <td>vit_l_16</td>\n",
       "      <td>orientation</td>\n",
       "      <td>0.066765</td>\n",
       "    </tr>\n",
       "    <tr>\n",
       "      <th>18</th>\n",
       "      <td>vit_l_32</td>\n",
       "      <td>floor_hue</td>\n",
       "      <td>0.107406</td>\n",
       "    </tr>\n",
       "    <tr>\n",
       "      <th>19</th>\n",
       "      <td>vit_l_32</td>\n",
       "      <td>wall_hue</td>\n",
       "      <td>0.114928</td>\n",
       "    </tr>\n",
       "    <tr>\n",
       "      <th>20</th>\n",
       "      <td>vit_l_32</td>\n",
       "      <td>object_hue</td>\n",
       "      <td>0.108488</td>\n",
       "    </tr>\n",
       "    <tr>\n",
       "      <th>21</th>\n",
       "      <td>vit_l_32</td>\n",
       "      <td>scale</td>\n",
       "      <td>0.127816</td>\n",
       "    </tr>\n",
       "    <tr>\n",
       "      <th>22</th>\n",
       "      <td>vit_l_32</td>\n",
       "      <td>shape</td>\n",
       "      <td>0.178520</td>\n",
       "    </tr>\n",
       "    <tr>\n",
       "      <th>23</th>\n",
       "      <td>vit_l_32</td>\n",
       "      <td>orientation</td>\n",
       "      <td>0.051214</td>\n",
       "    </tr>\n",
       "  </tbody>\n",
       "</table>\n",
       "</div>"
      ],
      "text/plain": [
       "       model       factor  parallelism_score\n",
       "0   vit_b_16    floor_hue           0.107740\n",
       "1   vit_b_16     wall_hue           0.106162\n",
       "2   vit_b_16   object_hue           0.089541\n",
       "3   vit_b_16        scale           0.122251\n",
       "4   vit_b_16        shape           0.218613\n",
       "5   vit_b_16  orientation           0.054536\n",
       "6   vit_b_32    floor_hue           0.100278\n",
       "7   vit_b_32     wall_hue           0.113571\n",
       "8   vit_b_32   object_hue           0.099302\n",
       "9   vit_b_32        scale           0.145598\n",
       "10  vit_b_32        shape           0.218952\n",
       "11  vit_b_32  orientation           0.059499\n",
       "12  vit_l_16    floor_hue           0.130729\n",
       "13  vit_l_16     wall_hue           0.125484\n",
       "14  vit_l_16   object_hue           0.124927\n",
       "15  vit_l_16        scale           0.125357\n",
       "16  vit_l_16        shape           0.233449\n",
       "17  vit_l_16  orientation           0.066765\n",
       "18  vit_l_32    floor_hue           0.107406\n",
       "19  vit_l_32     wall_hue           0.114928\n",
       "20  vit_l_32   object_hue           0.108488\n",
       "21  vit_l_32        scale           0.127816\n",
       "22  vit_l_32        shape           0.178520\n",
       "23  vit_l_32  orientation           0.051214"
      ]
     },
     "execution_count": 8,
     "metadata": {},
     "output_type": "execute_result"
    }
   ],
   "source": [
    "df_scores"
   ]
  },
  {
   "cell_type": "code",
   "execution_count": 9,
   "id": "41d8db31-5c50-4a2d-89cf-85faed3760a5",
   "metadata": {},
   "outputs": [
    {
     "name": "stderr",
     "output_type": "stream",
     "text": [
      "/home/araymond/storage/pyenv/versions/3.10.14/envs/mini/lib/python3.10/site-packages/transformers/utils/hub.py:127: FutureWarning: Using `TRANSFORMERS_CACHE` is deprecated and will be removed in v5 of Transformers. Use `HF_HOME` instead.\n",
      "  warnings.warn(\n",
      "There was a problem when trying to write in your cache folder (/storage/cache). You should set the environment variable TRANSFORMERS_CACHE to a writable directory.\n"
     ]
    },
    {
     "data": {
      "application/vnd.jupyter.widget-view+json": {
       "model_id": "1d26709394324d5dafad8389e23501c5",
       "version_major": 2,
       "version_minor": 0
      },
      "text/plain": [
       "  0%|          | 0/2 [00:00<?, ?it/s]"
      ]
     },
     "metadata": {},
     "output_type": "display_data"
    },
    {
     "name": "stdout",
     "output_type": "stream",
     "text": [
      "vit_l_32\n"
     ]
    },
    {
     "data": {
      "application/vnd.jupyter.widget-view+json": {
       "model_id": "a682de8fb3584cc1a916985c1bcd8a38",
       "version_major": 2,
       "version_minor": 0
      },
      "text/plain": [
       "  0%|          | 0/6 [00:00<?, ?it/s]"
      ]
     },
     "metadata": {},
     "output_type": "display_data"
    },
    {
     "name": "stdout",
     "output_type": "stream",
     "text": [
      "vit_l_32\n"
     ]
    },
    {
     "data": {
      "application/vnd.jupyter.widget-view+json": {
       "model_id": "b8855c57bf2e44098ea98223bde7dfd4",
       "version_major": 2,
       "version_minor": 0
      },
      "text/plain": [
       "  0%|          | 0/6 [00:00<?, ?it/s]"
      ]
     },
     "metadata": {},
     "output_type": "display_data"
    }
   ],
   "source": [
    "from models import create_model, LightningVersatile\n",
    "from torch.utils.data import TensorDataset, DataLoader\n",
    "# def get_rep(input_reps, model, idxs):\n",
    "#     reps = []\n",
    "#     subset_reps = input_reps[idxs]\n",
    "#     ds = TensorDataset(subset_reps)\n",
    "#     dl = DataLoader(ds, batch_size=1024, shuffle=False)\n",
    "    \n",
    "#     with torch.no_grad():\n",
    "#         for rep in tqdm(dl):\n",
    "#             bs = rep[0].shape[0]\n",
    "#             rep = rep[0].cuda()\n",
    "#             delta = torch.zeros(bs, 6).cuda()\n",
    "#             new_rep = model.modulator(rep, delta)\n",
    "#             reps.append(new_rep.cpu())\n",
    "#         return torch.cat(reps, dim=0)\n",
    "\n",
    "def get_rep(input_reps, model, idxs):\n",
    "    reps = []\n",
    "    subset_reps = input_reps[idxs].cuda()\n",
    "    #dl = DataLoader(ds, batch_size=1024, shuffle=False)\n",
    "    \n",
    "    with torch.no_grad():\n",
    "        delta = torch.zeros(1,6).cuda()\n",
    "        new_rep = model.modulator(subset_reps, delta)\n",
    "        return new_rep\n",
    "        \n",
    "def fast_parallelism_score_lazy(model, get_rep, reps, latents, factor_idx, num_pairs=1000, max_group_size=500):\n",
    "\n",
    "    other_indices = [i for i in range(latents.shape[1]) if i != factor_idx]\n",
    "    latents = latents.cpu()\n",
    "\n",
    "    groups = defaultdict(list)\n",
    "    for idx in range(len(latents)):\n",
    "        key = tuple(latents[idx, other_indices].tolist())\n",
    "        groups[key].append(idx)\n",
    "\n",
    "    deltas = []\n",
    "    rng = random.Random(42)\n",
    "\n",
    "    for group in groups.values():\n",
    "        if len(group) < 2:\n",
    "            continue\n",
    "        group_latents = latents[group, factor_idx]\n",
    "        val_to_indices = defaultdict(list)\n",
    "        for i in group:\n",
    "            val = latents[i, factor_idx].item()\n",
    "            val_to_indices[val].append(i)\n",
    "\n",
    "        for v1, v2 in itertools.combinations(val_to_indices.keys(), 2):\n",
    "            idx1 = val_to_indices[v1][:max_group_size]\n",
    "            idx2 = val_to_indices[v2][:max_group_size]\n",
    "            reps1 = get_rep(reps, model, idx1)\n",
    "            reps2 = get_rep(reps, model, idx2)\n",
    "\n",
    "            for i1, r1 in zip(idx1, reps1):\n",
    "                for i2, r2 in zip(idx2, reps2):\n",
    "                    deltas.append(r1 - r2)\n",
    "                    if len(deltas) >= num_pairs:\n",
    "                        break\n",
    "                if len(deltas) >= num_pairs:\n",
    "                    break\n",
    "            if len(deltas) >= num_pairs:\n",
    "                break\n",
    "        if len(deltas) >= num_pairs:\n",
    "            break\n",
    "\n",
    "    if len(deltas) < 2:\n",
    "        return float(\"nan\")\n",
    "\n",
    "    deltas = torch.stack(deltas)\n",
    "    deltas = torch.nn.functional.normalize(deltas, dim=1)\n",
    "    sims = torch.matmul(deltas, deltas.T)\n",
    "    upper = sims.triu(diagonal=1)\n",
    "    score = upper.sum() / (upper != 0).sum()\n",
    "    return score.item()\n",
    "\n",
    "models = ['vit_b_16', 'vit_b_32', 'vit_l_16','vit_l_32']\n",
    "factors = ['floor_hue','wall_hue','object_hue','scale','shape', 'orientation']\n",
    "results = []\n",
    "latents = data['latent_ids']\n",
    "exps = [\"7l4txq1v\", #  rep_train_plus extrapolation\n",
    "        \"xg98v4xi\"\n",
    "        ] \n",
    "for exp_id in tqdm(exps):\n",
    "    args = get_args(exp_id)\n",
    "\n",
    "    # Load model with pretrained weights\n",
    "    encoder, modulator, regressor = create_model(args)\n",
    "    model = LightningVersatile.load_from_checkpoint(checkpoint_path=f\"results/{args.dataset}/{exp_id}/last.ckpt\", \n",
    "                                        args=args, \n",
    "                                        encoder=encoder, \n",
    "                                        modulator=modulator,\n",
    "                                        regressor=regressor)\n",
    "    print(args.pretrained_reps)\n",
    "\n",
    "    # Create Subset Datasets\n",
    "    reps = torch.load(f\"3dshapes/3dshapes_images_feats_{args.pretrained_reps}.pth\")\n",
    "    reps = reps - reps.mean(dim=0)\n",
    "    reps = torch.nn.functional.normalize(reps, dim=-1, p=2.0, eps=1e-12)\n",
    "    \n",
    "    for factor_idx in tqdm(range(6)):\n",
    "        score = fast_parallelism_score_lazy(model, get_rep, reps, latents, factor_idx, num_pairs=5000, max_group_size=2500)\n",
    "        results.append({\n",
    "            \"model\": f\"lsm_{args.sub_dataset}_{args.pretrained_reps}\",\n",
    "            \"factor\": factors[factor_idx],\n",
    "            \"parallelism_score\": score\n",
    "        })\n",
    "    p_score = fast_parallelism_score(reps, latents, 0)\n",
    "\n",
    "# Convert to DataFrame\n",
    "df_scores = pd.DataFrame(results)"
   ]
  },
  {
   "cell_type": "code",
   "execution_count": 10,
   "id": "fc4bada6-5cf2-4ebd-b37e-7235c7ccc757",
   "metadata": {},
   "outputs": [],
   "source": [
    "df_scores.to_csv(\"pscores_lsm_baselines.csv\")"
   ]
  },
  {
   "cell_type": "code",
   "execution_count": 11,
   "id": "58c7a690-5a2a-491e-a6f9-8b89d736e434",
   "metadata": {},
   "outputs": [
    {
     "data": {
      "text/html": [
       "<div>\n",
       "<style scoped>\n",
       "    .dataframe tbody tr th:only-of-type {\n",
       "        vertical-align: middle;\n",
       "    }\n",
       "\n",
       "    .dataframe tbody tr th {\n",
       "        vertical-align: top;\n",
       "    }\n",
       "\n",
       "    .dataframe thead th {\n",
       "        text-align: right;\n",
       "    }\n",
       "</style>\n",
       "<table border=\"1\" class=\"dataframe\">\n",
       "  <thead>\n",
       "    <tr style=\"text-align: right;\">\n",
       "      <th></th>\n",
       "      <th>model</th>\n",
       "      <th>factor</th>\n",
       "      <th>parallelism_score</th>\n",
       "    </tr>\n",
       "  </thead>\n",
       "  <tbody>\n",
       "    <tr>\n",
       "      <th>0</th>\n",
       "      <td>lsm_extrapolation_vit_l_32</td>\n",
       "      <td>floor_hue</td>\n",
       "      <td>0.002826</td>\n",
       "    </tr>\n",
       "    <tr>\n",
       "      <th>1</th>\n",
       "      <td>lsm_extrapolation_vit_l_32</td>\n",
       "      <td>wall_hue</td>\n",
       "      <td>0.002256</td>\n",
       "    </tr>\n",
       "    <tr>\n",
       "      <th>2</th>\n",
       "      <td>lsm_extrapolation_vit_l_32</td>\n",
       "      <td>object_hue</td>\n",
       "      <td>0.004797</td>\n",
       "    </tr>\n",
       "    <tr>\n",
       "      <th>3</th>\n",
       "      <td>lsm_extrapolation_vit_l_32</td>\n",
       "      <td>scale</td>\n",
       "      <td>0.122548</td>\n",
       "    </tr>\n",
       "    <tr>\n",
       "      <th>4</th>\n",
       "      <td>lsm_extrapolation_vit_l_32</td>\n",
       "      <td>shape</td>\n",
       "      <td>0.049072</td>\n",
       "    </tr>\n",
       "    <tr>\n",
       "      <th>5</th>\n",
       "      <td>lsm_extrapolation_vit_l_32</td>\n",
       "      <td>orientation</td>\n",
       "      <td>0.025158</td>\n",
       "    </tr>\n",
       "    <tr>\n",
       "      <th>6</th>\n",
       "      <td>lsm_composition_vit_l_32</td>\n",
       "      <td>floor_hue</td>\n",
       "      <td>0.114055</td>\n",
       "    </tr>\n",
       "    <tr>\n",
       "      <th>7</th>\n",
       "      <td>lsm_composition_vit_l_32</td>\n",
       "      <td>wall_hue</td>\n",
       "      <td>0.079252</td>\n",
       "    </tr>\n",
       "    <tr>\n",
       "      <th>8</th>\n",
       "      <td>lsm_composition_vit_l_32</td>\n",
       "      <td>object_hue</td>\n",
       "      <td>0.274705</td>\n",
       "    </tr>\n",
       "    <tr>\n",
       "      <th>9</th>\n",
       "      <td>lsm_composition_vit_l_32</td>\n",
       "      <td>scale</td>\n",
       "      <td>0.238835</td>\n",
       "    </tr>\n",
       "    <tr>\n",
       "      <th>10</th>\n",
       "      <td>lsm_composition_vit_l_32</td>\n",
       "      <td>shape</td>\n",
       "      <td>0.070536</td>\n",
       "    </tr>\n",
       "    <tr>\n",
       "      <th>11</th>\n",
       "      <td>lsm_composition_vit_l_32</td>\n",
       "      <td>orientation</td>\n",
       "      <td>0.240517</td>\n",
       "    </tr>\n",
       "  </tbody>\n",
       "</table>\n",
       "</div>"
      ],
      "text/plain": [
       "                         model       factor  parallelism_score\n",
       "0   lsm_extrapolation_vit_l_32    floor_hue           0.002826\n",
       "1   lsm_extrapolation_vit_l_32     wall_hue           0.002256\n",
       "2   lsm_extrapolation_vit_l_32   object_hue           0.004797\n",
       "3   lsm_extrapolation_vit_l_32        scale           0.122548\n",
       "4   lsm_extrapolation_vit_l_32        shape           0.049072\n",
       "5   lsm_extrapolation_vit_l_32  orientation           0.025158\n",
       "6     lsm_composition_vit_l_32    floor_hue           0.114055\n",
       "7     lsm_composition_vit_l_32     wall_hue           0.079252\n",
       "8     lsm_composition_vit_l_32   object_hue           0.274705\n",
       "9     lsm_composition_vit_l_32        scale           0.238835\n",
       "10    lsm_composition_vit_l_32        shape           0.070536\n",
       "11    lsm_composition_vit_l_32  orientation           0.240517"
      ]
     },
     "execution_count": 11,
     "metadata": {},
     "output_type": "execute_result"
    }
   ],
   "source": [
    "df_scores"
   ]
  },
  {
   "cell_type": "code",
   "execution_count": 12,
   "id": "85702751-5c77-4c84-95fc-91a862ebe65b",
   "metadata": {},
   "outputs": [],
   "source": [
    "df1 = pd.read_csv(\"pscores_baselines.csv\")\n",
    "df2 = pd.read_csv(\"pscores_lsm_baselines.csv\")\n",
    "\n",
    "results = pd.concat([df1,df2])"
   ]
  },
  {
   "cell_type": "code",
   "execution_count": 13,
   "id": "673d5f21-040d-4697-a19d-b6cc7f09e8b7",
   "metadata": {},
   "outputs": [],
   "source": [
    "results = results.pivot_table(\n",
    "        index=['model'],\n",
    "        columns='factor',\n",
    "        values='parallelism_score'\n",
    "    ).reset_index()"
   ]
  },
  {
   "cell_type": "code",
   "execution_count": 53,
   "id": "c55ab5a1-1c21-4bda-a1c5-6faaac8cbcb8",
   "metadata": {},
   "outputs": [
    {
     "name": "stdout",
     "output_type": "stream",
     "text": [
      "\\begin{table}[ht]\n",
      "\\centering\n",
      "\\caption{Hola}\n",
      "\\label{tab:asda}\n",
      "\\begin{tabularx}{\\textwidth}{lXXXXXX}\n",
      "\\textbf{Model} & \\textbf{Floor hue} & \\textbf{Object hue} & \\textbf{Orientation} & \\textbf{Scale} & \\textbf{Shape} & \\textbf{Wall hue} \\\\\n",
      "LSM\\_COMPOSITION\\_VIT\\_B\\_32 & 0.07 & 0.02 & 0.01 & 0.07 & 0.10 & 0.06 \\\\\n",
      "LSM\\_COMPOSITION\\_VIT\\_L\\_32 & 0.16 & 0.04 & 0.10 & 0.05 & 0.17 & 0.05 \\\\\n",
      "LSM\\_EXTRAPOLATION\\_VIT\\_B\\_32 & 0.02 & 0.09 & 0.05 & 0.28 & 0.25 & 0.08 \\\\\n",
      "LSM\\_EXTRAPOLATION\\_VIT\\_L\\_32 & 0.02 & 0.03 & 0.01 & 0.12 & 0.13 & 0.02 \\\\\n",
      "LSM\\_INTERPOLATION\\_VIT\\_B\\_32 & 0.01 & 0.04 & 0.05 & 0.04 & 0.12 & 0.05 \\\\\n",
      "LSM\\_INTERPOLATION\\_VIT\\_L\\_32 & 0.05 & 0.03 & 0.02 & 0.03 & 0.24 & 0.01 \\\\\n",
      "VIT\\_B\\_16 & 0.11 & 0.09 & 0.05 & 0.12 & 0.22 & 0.11 \\\\\n",
      "VIT\\_B\\_32 & 0.10 & 0.10 & 0.06 & 0.15 & 0.22 & 0.11 \\\\\n",
      "VIT\\_L\\_16 & 0.13 & 0.12 & 0.07 & 0.13 & 0.23 & 0.13 \\\\\n",
      "VIT\\_L\\_32 & 0.11 & 0.11 & 0.05 & 0.13 & 0.18 & 0.11 \\\\\n",
      "\\end{tabularx}\n",
      "\\end{table}\n"
     ]
    }
   ],
   "source": [
    "def df_to_tabularx_parallelism(df, label, caption, column_width='\\\\textwidth'):\n",
    "    import io\n",
    "    import pandas as pd\n",
    "\n",
    "    if not isinstance(df, pd.DataFrame):\n",
    "        df = pd.DataFrame(df)\n",
    "\n",
    "    df_fmt = df.copy()\n",
    "\n",
    "    # Drop 'factor' column if present\n",
    "    if 'factor' in df_fmt.columns:\n",
    "        df_fmt = df_fmt.drop(columns=['factor'])\n",
    "\n",
    "    # Escape underscores and capitalize model names\n",
    "    df_fmt['model'] = df_fmt['model'].astype(str).map(lambda s: s.replace('_', r'\\_').upper())\n",
    "\n",
    "    # Format float columns to 2 decimal places\n",
    "    for col in df_fmt.columns:\n",
    "        if col != 'model':\n",
    "            df_fmt[col] = pd.to_numeric(df_fmt[col], errors='coerce').map(lambda x: f\"{x:.2f}\")\n",
    "\n",
    "    # Column format for tabularx\n",
    "    column_format = 'l' + 'X' * (df_fmt.shape[1] - 1)\n",
    "    bold_headers = [f\"\\\\textbf{{{col.replace('_', ' ').capitalize()}}}\" for col in df_fmt.columns]\n",
    "\n",
    "    # Generate LaTeX table without header\n",
    "    buf = io.StringIO()\n",
    "    df_fmt.to_latex(\n",
    "        buf,\n",
    "        index=False,\n",
    "        header=False,\n",
    "        escape=False,  # allow LaTeX commands like \\_\n",
    "        column_format=column_format\n",
    "    )\n",
    "    lines = buf.getvalue().splitlines()\n",
    "\n",
    "    header_line = ' & '.join(bold_headers) + ' \\\\\\\\'\n",
    "    table_body = '\\n'.join(lines[3:-2])\n",
    "\n",
    "    latex = (\n",
    "        f\"\\\\begin{{table}}[ht]\\n\"\n",
    "        f\"\\\\centering\\n\"\n",
    "        f\"\\\\caption{{{caption}}}\\n\"\n",
    "        f\"\\\\label{{{label}}}\\n\"\n",
    "        f\"\\\\begin{{tabularx}}{{{column_width}}}{{{column_format}}}\\n\"\n",
    "        f\"{header_line}\\n\"\n",
    "        f\"{table_body}\\n\"\n",
    "        f\"\\\\end{{tabularx}}\\n\"\n",
    "        f\"\\\\end{{table}}\"\n",
    "    )\n",
    "\n",
    "    return latex\n",
    "\n",
    "\n",
    "\n",
    "label = \"tab:asda\"\n",
    "caption = \"Hola\"\n",
    "print(df_to_tabularx_parallelism(results, label, caption, column_width='\\\\textwidth'))"
   ]
  },
  {
   "cell_type": "code",
   "execution_count": 14,
   "id": "8ff87cd8-fa10-445e-8274-8b6bf8854bc5",
   "metadata": {},
   "outputs": [
    {
     "data": {
      "text/html": [
       "<div>\n",
       "<style scoped>\n",
       "    .dataframe tbody tr th:only-of-type {\n",
       "        vertical-align: middle;\n",
       "    }\n",
       "\n",
       "    .dataframe tbody tr th {\n",
       "        vertical-align: top;\n",
       "    }\n",
       "\n",
       "    .dataframe thead th {\n",
       "        text-align: right;\n",
       "    }\n",
       "</style>\n",
       "<table border=\"1\" class=\"dataframe\">\n",
       "  <thead>\n",
       "    <tr style=\"text-align: right;\">\n",
       "      <th>factor</th>\n",
       "      <th>model</th>\n",
       "      <th>floor_hue</th>\n",
       "      <th>object_hue</th>\n",
       "      <th>orientation</th>\n",
       "      <th>scale</th>\n",
       "      <th>shape</th>\n",
       "      <th>wall_hue</th>\n",
       "    </tr>\n",
       "  </thead>\n",
       "  <tbody>\n",
       "    <tr>\n",
       "      <th>0</th>\n",
       "      <td>lsm_composition_vit_l_32</td>\n",
       "      <td>0.114055</td>\n",
       "      <td>0.274705</td>\n",
       "      <td>0.240517</td>\n",
       "      <td>0.238835</td>\n",
       "      <td>0.070536</td>\n",
       "      <td>0.079252</td>\n",
       "    </tr>\n",
       "    <tr>\n",
       "      <th>1</th>\n",
       "      <td>lsm_extrapolation_vit_l_32</td>\n",
       "      <td>0.002826</td>\n",
       "      <td>0.004797</td>\n",
       "      <td>0.025158</td>\n",
       "      <td>0.122548</td>\n",
       "      <td>0.049072</td>\n",
       "      <td>0.002256</td>\n",
       "    </tr>\n",
       "    <tr>\n",
       "      <th>2</th>\n",
       "      <td>vit_b_16</td>\n",
       "      <td>0.107740</td>\n",
       "      <td>0.089541</td>\n",
       "      <td>0.054536</td>\n",
       "      <td>0.122251</td>\n",
       "      <td>0.218613</td>\n",
       "      <td>0.106162</td>\n",
       "    </tr>\n",
       "    <tr>\n",
       "      <th>3</th>\n",
       "      <td>vit_b_32</td>\n",
       "      <td>0.100278</td>\n",
       "      <td>0.099302</td>\n",
       "      <td>0.059499</td>\n",
       "      <td>0.145598</td>\n",
       "      <td>0.218952</td>\n",
       "      <td>0.113571</td>\n",
       "    </tr>\n",
       "    <tr>\n",
       "      <th>4</th>\n",
       "      <td>vit_l_16</td>\n",
       "      <td>0.130729</td>\n",
       "      <td>0.124927</td>\n",
       "      <td>0.066765</td>\n",
       "      <td>0.125357</td>\n",
       "      <td>0.233449</td>\n",
       "      <td>0.125484</td>\n",
       "    </tr>\n",
       "    <tr>\n",
       "      <th>5</th>\n",
       "      <td>vit_l_32</td>\n",
       "      <td>0.107406</td>\n",
       "      <td>0.108488</td>\n",
       "      <td>0.051214</td>\n",
       "      <td>0.127816</td>\n",
       "      <td>0.178520</td>\n",
       "      <td>0.114928</td>\n",
       "    </tr>\n",
       "  </tbody>\n",
       "</table>\n",
       "</div>"
      ],
      "text/plain": [
       "factor                       model  floor_hue  object_hue  orientation  \\\n",
       "0         lsm_composition_vit_l_32   0.114055    0.274705     0.240517   \n",
       "1       lsm_extrapolation_vit_l_32   0.002826    0.004797     0.025158   \n",
       "2                         vit_b_16   0.107740    0.089541     0.054536   \n",
       "3                         vit_b_32   0.100278    0.099302     0.059499   \n",
       "4                         vit_l_16   0.130729    0.124927     0.066765   \n",
       "5                         vit_l_32   0.107406    0.108488     0.051214   \n",
       "\n",
       "factor     scale     shape  wall_hue  \n",
       "0       0.238835  0.070536  0.079252  \n",
       "1       0.122548  0.049072  0.002256  \n",
       "2       0.122251  0.218613  0.106162  \n",
       "3       0.145598  0.218952  0.113571  \n",
       "4       0.125357  0.233449  0.125484  \n",
       "5       0.127816  0.178520  0.114928  "
      ]
     },
     "execution_count": 14,
     "metadata": {},
     "output_type": "execute_result"
    }
   ],
   "source": [
    "results"
   ]
  },
  {
   "cell_type": "code",
   "execution_count": null,
   "id": "b2942994-8f0d-4201-9b8f-c0e5e9b6ec3d",
   "metadata": {},
   "outputs": [],
   "source": []
  }
 ],
 "metadata": {
  "kernelspec": {
   "display_name": "Python 3 (ipykernel)",
   "language": "python",
   "name": "python3"
  },
  "language_info": {
   "codemirror_mode": {
    "name": "ipython",
    "version": 3
   },
   "file_extension": ".py",
   "mimetype": "text/x-python",
   "name": "python",
   "nbconvert_exporter": "python",
   "pygments_lexer": "ipython3",
   "version": "3.10.14"
  }
 },
 "nbformat": 4,
 "nbformat_minor": 5
}
