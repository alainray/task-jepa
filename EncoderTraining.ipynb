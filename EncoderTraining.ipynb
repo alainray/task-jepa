{
 "cells": [
  {
   "cell_type": "code",
   "execution_count": null,
   "id": "186daf77-d30a-4c00-b9ca-a1c4352b75b0",
   "metadata": {},
   "outputs": [],
   "source": [
    "from datasets import get_dataloaders\n",
    "\n",
    "from easydict import EasyDict as edict\n",
    "from train import train\n",
    "import wandb\n",
    "\n",
    "args = edict()\n",
    "args.num_epochs = 100\n",
    "args.train_method = \"pair_erm\"\n",
    "args.from_pretrained = \"\"\n",
    "args.seed = 111\n",
    "args.test = True\n",
    "METRICS_PER_METHOD = {\"erm\": ['acc'], \"task_jepa\": [], \"ijepa\": [], \"task_jepa+erm\": ['acc'], \"pair_erm\": [\"acc\"]}\n",
    "FOVS = {\"shapes3d\": {'floor_hue': 10, 'wall_hue': 10, 'object_hue': 10, \n",
    "                          'scale': 8, 'shape': 4, 'orientation': 15}}\n",
    "FOVS_PER_DATASET = {'shapes3d': [\"floor_hue\", \"wall_hue\", \"object_hue\", \"scale\", \"shape\", \"orientation\"]}\n",
    "#FOVS_PER_DATASET = {'shapes3d': [\"floor_hue\", \"wall_hue\", \"scale\", \"shape\", \"orientation\"]}\n",
    "args.metrics = METRICS_PER_METHOD[args.train_method]\n",
    "args.dataset = \"shapes3d\"\n",
    "args.fovs =  FOVS_PER_DATASET[args.dataset]\n",
    "args.fovs_tasks = [\"floor_hue\", \"wall_hue\", \"object_hue\", \"scale\", \"shape\", \"orientation\"]\n",
    "args.fovs_indices = {name: i for i, name in enumerate(args.fovs)}\n",
    "\n",
    "# When 2, 0 == same, 1 = different, When 3 levels, 0 = same, 1 = greater than, 2 = lower than\n",
    "args.fovs_levels = {\"floor_hue\": 2, \"wall_hue\": 2, \"object_hue\": 2, \"scale\": 3, \"shape\": 2, \"orientation\": 3}\n",
    "args.fovs_ids = [args.fovs_indices[x] for x in args.fovs_tasks ]\n",
    "args.n_fovs = FOVS[args.dataset]\n",
    "args.task_to_label_index = {k: i for i, (k, v) in enumerate(FOVS[args.dataset].items())}\n",
    "args.data_dir = \"/mnt/nas2/GrimaRepo/araymond/3dshapes\"\n",
    "\n",
    "dls = get_dataloaders(args)"
   ]
  },
  {
   "cell_type": "code",
   "execution_count": 1,
   "id": "5785dde0-a61e-430e-9f35-1837fe683636",
   "metadata": {},
   "outputs": [
    {
     "name": "stderr",
     "output_type": "stream",
     "text": [
      "/home/araymond/storage/pyenv/versions/3.10.14/envs/mini/lib/python3.10/site-packages/transformers/utils/hub.py:127: FutureWarning: Using `TRANSFORMERS_CACHE` is deprecated and will be removed in v5 of Transformers. Use `HF_HOME` instead.\n",
      "  warnings.warn(\n"
     ]
    }
   ],
   "source": [
    "from models import SimpleConvModel\n",
    "\n",
    "m = SimpleConvModel()"
   ]
  },
  {
   "cell_type": "code",
   "execution_count": 5,
   "id": "fceb0986-036a-4c6b-9d90-ba7368345e34",
   "metadata": {},
   "outputs": [
    {
     "data": {
      "text/plain": [
       "torch.Size([10, 384])"
      ]
     },
     "execution_count": 5,
     "metadata": {},
     "output_type": "execute_result"
    }
   ],
   "source": [
    "import torch\n",
    "data = torch.randn(10, 3, 64, 64)\n"
   ]
  },
  {
   "cell_type": "code",
   "execution_count": null,
   "id": "0b3ea058-1bac-4259-861e-5a3fc9420b03",
   "metadata": {},
   "outputs": [],
   "source": []
  },
  {
   "cell_type": "code",
   "execution_count": null,
   "id": "b09327a7-ff4f-44c1-85d5-cf6962ab00f4",
   "metadata": {},
   "outputs": [],
   "source": []
  }
 ],
 "metadata": {
  "kernelspec": {
   "display_name": "Python 3 (ipykernel)",
   "language": "python",
   "name": "python3"
  },
  "language_info": {
   "codemirror_mode": {
    "name": "ipython",
    "version": 3
   },
   "file_extension": ".py",
   "mimetype": "text/x-python",
   "name": "python",
   "nbconvert_exporter": "python",
   "pygments_lexer": "ipython3",
   "version": "3.10.14"
  }
 },
 "nbformat": 4,
 "nbformat_minor": 5
}
