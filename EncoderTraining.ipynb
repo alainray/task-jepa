{
 "cells": [
  {
   "cell_type": "code",
   "execution_count": null,
   "id": "186daf77-d30a-4c00-b9ca-a1c4352b75b0",
   "metadata": {},
   "outputs": [],
   "source": [
    "from datasets import get_dataloaders\n",
    "\n",
    "from easydict import EasyDict as edict\n",
    "from train import train\n",
    "import wandb\n",
    "\n",
    "args = edict()\n",
    "args.num_epochs = 100\n",
    "args.train_method = \"pair_erm\"\n",
    "args.from_pretrained = \"\"\n",
    "args.seed = 111\n",
    "args.test = True\n",
    "METRICS_PER_METHOD = {\"erm\": ['acc'], \"task_jepa\": [], \"ijepa\": [], \"task_jepa+erm\": ['acc'], \"pair_erm\": [\"acc\"]}\n",
    "FOVS = {\"shapes3d\": {'floor_hue': 10, 'wall_hue': 10, 'object_hue': 10, \n",
    "                          'scale': 8, 'shape': 4, 'orientation': 15}}\n",
    "FOVS_PER_DATASET = {'shapes3d': [\"floor_hue\", \"wall_hue\", \"object_hue\", \"scale\", \"shape\", \"orientation\"]}\n",
    "#FOVS_PER_DATASET = {'shapes3d': [\"floor_hue\", \"wall_hue\", \"scale\", \"shape\", \"orientation\"]}\n",
    "args.metrics = METRICS_PER_METHOD[args.train_method]\n",
    "args.dataset = \"shapes3d\"\n",
    "args.fovs =  FOVS_PER_DATASET[args.dataset]\n",
    "args.fovs_tasks = [\"floor_hue\", \"wall_hue\", \"object_hue\", \"scale\", \"shape\", \"orientation\"]\n",
    "args.fovs_indices = {name: i for i, name in enumerate(args.fovs)}\n",
    "\n",
    "# When 2, 0 == same, 1 = different, When 3 levels, 0 = same, 1 = greater than, 2 = lower than\n",
    "args.fovs_levels = {\"floor_hue\": 2, \"wall_hue\": 2, \"object_hue\": 2, \"scale\": 3, \"shape\": 2, \"orientation\": 3}\n",
    "args.fovs_ids = [args.fovs_indices[x] for x in args.fovs_tasks ]\n",
    "args.n_fovs = FOVS[args.dataset]\n",
    "args.task_to_label_index = {k: i for i, (k, v) in enumerate(FOVS[args.dataset].items())}\n",
    "args.data_dir = \"/mnt/nas2/GrimaRepo/araymond/3dshapes\"\n",
    "\n",
    "dls = get_dataloaders(args)"
   ]
  }
 ],
 "metadata": {
  "kernelspec": {
   "display_name": "Python 3 (ipykernel)",
   "language": "python",
   "name": "python3"
  },
  "language_info": {
   "codemirror_mode": {
    "name": "ipython",
    "version": 3
   },
   "file_extension": ".py",
   "mimetype": "text/x-python",
   "name": "python",
   "nbconvert_exporter": "python",
   "pygments_lexer": "ipython3",
   "version": "3.10.14"
  }
 },
 "nbformat": 4,
 "nbformat_minor": 5
}
