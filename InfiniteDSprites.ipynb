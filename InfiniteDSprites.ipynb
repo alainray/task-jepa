{
 "cells": [
  {
   "cell_type": "code",
   "execution_count": 1,
   "id": "02c91341-5b72-4af0-aa6a-a0855879fed2",
   "metadata": {},
   "outputs": [
    {
     "data": {
      "image/png": "[encoded data removed]",
      "text/plain": [
       "<Figure size 1000x1000 with 16 Axes>"
      ]
     },
     "metadata": {},
     "output_type": "display_data"
    },
    {
     "name": "stdout",
     "output_type": "stream",
     "text": [
      "tensor([0.4000, 0.8000, 0.4000, 0.8000, 0.4000, 0.8000, 0.4000, 0.8000, 0.4000,\n",
      "        0.8000, 0.4000, 0.8000, 0.4000, 0.8000, 0.4000, 0.8000],\n",
      "       dtype=torch.float64)\n"
     ]
    }
   ],
   "source": [
    "from torch.utils.data import DataLoader\n",
    "import numpy as np\n",
    "\n",
    "import idsprites as ids\n",
    "from idsprites.visualization import draw_batch\n",
    "\n",
    "np.random.seed(0)\n",
    "'''dataset = ids.InfiniteDSprites()\n",
    "dataloader = DataLoader(dataset, batch_size=16)\n",
    "batch_img, factors = next(iter(dataloader))\n",
    "img = draw_batch(batch_img, save=False, show=True)\n",
    "print(factors.position_y)'''\n",
    "np.random.seed(0)\n",
    "\n",
    "generate_shape = ids.InfiniteDSprites().generate_shape\n",
    "shapes = [generate_shape() for _ in range(4)]\n",
    "shapes = [shape for shape in shapes for _ in range(2)] # duplicate each shape\n",
    "\n",
    "dataset = ids.InfiniteDSprites(\n",
    "    img_size=64,\n",
    "    #color_range=[\"#EEEEEE\"],\n",
    "    orientation_marker_color=\"#FFFFFF\",\n",
    "    shapes=shapes,\n",
    "    dataset_size = 10000,\n",
    "    scale_range = [0.4, 0.8],\n",
    "    orientation_range= [0.5 * np.pi],\n",
    "    position_x_range= [0.5],\n",
    "    position_y_range= [0.5],\n",
    "    orientation_marker=True,\n",
    ")\n",
    "dataloader = DataLoader(dataset, batch_size=16)\n",
    "batch_img, factors = next(iter(dataloader))\n",
    "img = draw_batch(batch_img, save=False, show=True)\n",
    "\n",
    "print(factors.scale)"
   ]
  },
  {
   "cell_type": "code",
   "execution_count": 2,
   "id": "89cdc081-9ea9-4d8a-a917-d3a70a5969d9",
   "metadata": {},
   "outputs": [
    {
     "data": {
      "text/plain": [
       "torch.Size([16, 3, 64, 64])"
      ]
     },
     "execution_count": 2,
     "metadata": {},
     "output_type": "execute_result"
    }
   ],
   "source": [
    "batch_img.shape"
   ]
  },
  {
   "cell_type": "code",
   "execution_count": 10,
   "id": "557f3fd4-984a-4a00-913d-4efa127d9c5a",
   "metadata": {},
   "outputs": [],
   "source": [
    "\n",
    "\n",
    "class InfiniteDSpritesFactors(ids.InfiniteDSprites):\n",
    "    \"\"\"Infinite (iterable) dataset of factors of variation.\"\"\"\n",
    "\n",
    "    def __init__(self, *args, **kwargs):\n",
    "        super().__init__(*args, **kwargs)\n",
    "\n",
    "    def __iter__(self):\n",
    "        \"\"\"Generate an infinite stream of factors with shape set to None.\"\"\"\n",
    "        while True:\n",
    "            if self.shapes is not None and self.current_shape_index >= len(self.shapes):\n",
    "                return\n",
    "            for color, scale, orientation, position_x, position_y in product(\n",
    "                *self.ranges.values()\n",
    "            ):\n",
    "                if self.dataset_size is not None and self.counter >= self.dataset_size:\n",
    "                    return\n",
    "                self.counter += 1\n",
    "                color = np.array(colors.to_rgb(color))\n",
    "                yield Factors(\n",
    "                    shape=None,\n",
    "                    color=color,\n",
    "                    shape_id=self.current_shape_id,\n",
    "                    scale=scale,\n",
    "                    orientation=orientation,\n",
    "                    position_x=position_x,\n",
    "                    position_y=position_y,\n",
    "                )\n",
    "            self.current_shape_index += 1\n",
    "\n",
    "\n",
    "\n",
    "class InfiniteDSpritesMap(Dataset):\n",
    "    \"\"\"Finite (map-style) dataset of shapes undergoing transformations.\"\"\"\n",
    "\n",
    "    def __init__(self, *args, **kwargs):\n",
    "        self.dataset = InfiniteDSpritesFactors(*args, **kwargs)\n",
    "        assert (\n",
    "            self.dataset.dataset_size is not None or self.dataset.shapes is not None\n",
    "        ), \"Dataset size must be finite. Please set dataset_size or pass a list of shapes.\"\n",
    "        self.data = list(self.dataset)\n",
    "        self.y_transform = kwargs.get(\"y_transform\", lambda y: y)\n",
    "        self.x_transform = kwargs.get(\"x_transform\", lambda x: x)\n",
    "\n",
    "    @property\n",
    "    def targets(self):\n",
    "        return [factors.shape_id for factors in self.data]\n",
    "\n",
    "    def __len__(self) -> int:\n",
    "        return len(self.data)\n",
    "\n",
    "    def __getitem__(self, index: int):\n",
    "        shape_index = self.data[index].shape_id\n",
    "        if self.dataset.shape_ids is not None:\n",
    "            shape_index = self.dataset.shape_ids.index(shape_index)\n",
    "        shape = self.dataset.shapes[shape_index]\n",
    "        factors = self.data[index].replace(shape=shape)\n",
    "        img = self.x_transform(self.dataset.draw(factors))\n",
    "        factors = self.y_transform(factors)\n",
    "        return img, factors\n",
    "generate_shape = FiniteDSprites().generate_shape_with_verts\n",
    "\n",
    "sample_vertex = FiniteDSprites().sample_vertex_positions"
   ]
  },
  {
   "cell_type": "code",
   "execution_count": 84,
   "id": "681232bf-5e94-44c7-aef6-afac6c157ed0",
   "metadata": {},
   "outputs": [
    {
     "name": "stdout",
     "output_type": "stream",
     "text": [
      "0\n",
      "1\n"
     ]
    }
   ],
   "source": [
    "from itertools import product\n",
    "for i, (color, scale, orientation, position_x, position_y) in enumerate(product(\n",
    "                *ds.dataset.ranges.values()\n",
    "            )):\n",
    "    print(i)"
   ]
  },
  {
   "cell_type": "code",
   "execution_count": 68,
   "id": "f21b08a4-ce8c-4521-b1e7-31fad4283193",
   "metadata": {},
   "outputs": [
    {
     "data": {
      "text/plain": [
       "array([[ 1.41310929, -0.55736169, -0.27432395],\n",
       "       [-0.70340498,  1.06763025, -0.72853536]])"
      ]
     },
     "execution_count": 68,
     "metadata": {},
     "output_type": "execute_result"
    }
   ],
   "source": [
    "sample_vertex(min_verts=3, max_verts=3)"
   ]
  },
  {
   "cell_type": "code",
   "execution_count": 86,
   "id": "086a68e8-48a8-44fe-928a-801aaaaa4eb8",
   "metadata": {},
   "outputs": [
    {
     "data": {
      "text/plain": [
       "<itertools.product at 0x7f75f69d42c0>"
      ]
     },
     "execution_count": 86,
     "metadata": {},
     "output_type": "execute_result"
    }
   ],
   "source": [
    "product(ds.dataset.ranges.values())"
   ]
  },
  {
   "cell_type": "code",
   "execution_count": 87,
   "id": "2592e5fa-982d-4c66-9456-faca4926788b",
   "metadata": {},
   "outputs": [
    {
     "data": {
      "text/plain": [
       "dict_values([['#EEEEEE'], [0.4, 0.8], [1.5707963267948966], [0.5], [0.5]])"
      ]
     },
     "execution_count": 87,
     "metadata": {},
     "output_type": "execute_result"
    }
   ],
   "source": [
    "ds.dataset.ranges.values()"
   ]
  },
  {
   "cell_type": "code",
   "execution_count": 73,
   "id": "ba0d2898-98bd-4008-9a34-9fd6055e9f0d",
   "metadata": {},
   "outputs": [],
   "source": [
    "ds = InfiniteDSpritesMap(\n",
    "    img_size=64,\n",
    "    color_range=[\"#EEEEEE\"],\n",
    "    orientation_marker_color=\"#000000\",\n",
    "    shapes=shapes,\n",
    "    shape_ids=shape_ids,\n",
    "    #dataset_size = 10000,\n",
    "    scale_range = [0.4, 0.8],\n",
    "    orientation_range= [0.5 * np.pi],\n",
    "    position_x_range= [0.5],\n",
    "    position_y_range= [0.5],)"
   ]
  },
  {
   "cell_type": "code",
   "execution_count": null,
   "id": "a9283eeb-5edd-4688-ad0b-47bea6cac609",
   "metadata": {},
   "outputs": [],
   "source": [
    "\n",
    "n_samples_per_shape = 10000\n",
    "shape_ids = []\n",
    "shapes = []\n",
    "for n_verts in tqdm(range(3,11)): # InDistribution Shapes\n",
    "    shapes.append(generate_shape(n_verts))\n",
    "    shape_ids.append(n_verts)\n",
    "    \n",
    "\n",
    "ds = ids.InfiniteDSpritesMap(\n",
    "    img_size=64,\n",
    "    color_range=[\"#EEEEEE\"],\n",
    "    orientation_marker_color=\"#000000\",\n",
    "    shapes=shapes,\n",
    "    shape_ids=shape_ids,\n",
    "    #dataset_size = 10000,\n",
    "    scale_range = [0.4, 0.8],\n",
    "    orientation_range= [0.5 * np.pi],\n",
    "    position_x_range= [0, 0.5],\n",
    "    position_y_range= [0.5],)"
   ]
  },
  {
   "cell_type": "code",
   "execution_count": null,
   "id": "28cda928-a717-4b89-9b6d-a8401b6d557d",
   "metadata": {},
   "outputs": [],
   "source": [
    "shape, scale, orientation, x, y"
   ]
  },
  {
   "cell_type": "code",
   "execution_count": 89,
   "id": "bae8721e-c472-40d2-88e3-10db21facb51",
   "metadata": {},
   "outputs": [
    {
     "data": {
      "text/plain": [
       "625"
      ]
     },
     "execution_count": 89,
     "metadata": {},
     "output_type": "execute_result"
    }
   ],
   "source": [
    "5**4"
   ]
  },
  {
   "cell_type": "code",
   "execution_count": 59,
   "id": "1d510a1d-44fe-4e73-9469-104c8190030a",
   "metadata": {
    "scrolled": true
   },
   "outputs": [
    {
     "data": {
      "image/png": "[encoded data removed]",
      "text/plain": [
       "<Figure size 1000x1000 with 16 Axes>"
      ]
     },
     "metadata": {},
     "output_type": "display_data"
    },
    {
     "name": "stdout",
     "output_type": "stream",
     "text": [
      "tensor([[[ 0.3524,  0.3523,  0.3522,  ...,  0.3444,  0.3484,  0.3524],\n",
      "         [-0.4828, -0.4807, -0.4785,  ..., -0.4791, -0.4810, -0.4828]],\n",
      "\n",
      "        [[ 0.3524,  0.3523,  0.3522,  ...,  0.3444,  0.3484,  0.3524],\n",
      "         [-0.4828, -0.4807, -0.4785,  ..., -0.4791, -0.4810, -0.4828]],\n",
      "\n",
      "        [[ 0.3524,  0.3523,  0.3522,  ...,  0.3444,  0.3484,  0.3524],\n",
      "         [-0.4828, -0.4807, -0.4785,  ..., -0.4791, -0.4810, -0.4828]],\n",
      "\n",
      "        ...,\n",
      "\n",
      "        [[ 0.3524,  0.3523,  0.3522,  ...,  0.3444,  0.3484,  0.3524],\n",
      "         [-0.4828, -0.4807, -0.4785,  ..., -0.4791, -0.4810, -0.4828]],\n",
      "\n",
      "        [[ 0.3524,  0.3523,  0.3522,  ...,  0.3444,  0.3484,  0.3524],\n",
      "         [-0.4828, -0.4807, -0.4785,  ..., -0.4791, -0.4810, -0.4828]],\n",
      "\n",
      "        [[ 0.3524,  0.3523,  0.3522,  ...,  0.3444,  0.3484,  0.3524],\n",
      "         [-0.4828, -0.4807, -0.4785,  ..., -0.4791, -0.4810, -0.4828]]],\n",
      "       dtype=torch.float64)\n",
      "tensor([[0.9333, 0.9333, 0.9333],\n",
      "        [0.9333, 0.9333, 0.9333],\n",
      "        [0.9333, 0.9333, 0.9333],\n",
      "        [0.9333, 0.9333, 0.9333],\n",
      "        [0.9333, 0.9333, 0.9333],\n",
      "        [0.9333, 0.9333, 0.9333],\n",
      "        [0.9333, 0.9333, 0.9333],\n",
      "        [0.9333, 0.9333, 0.9333],\n",
      "        [0.9333, 0.9333, 0.9333],\n",
      "        [0.9333, 0.9333, 0.9333],\n",
      "        [0.9333, 0.9333, 0.9333],\n",
      "        [0.9333, 0.9333, 0.9333],\n",
      "        [0.9333, 0.9333, 0.9333],\n",
      "        [0.9333, 0.9333, 0.9333],\n",
      "        [0.9333, 0.9333, 0.9333],\n",
      "        [0.9333, 0.9333, 0.9333]], dtype=torch.float64)\n",
      "tensor([3, 3, 3, 3, 3, 3, 3, 3, 3, 3, 3, 3, 3, 3, 3, 3])\n",
      "tensor([0.4000, 0.8000, 0.4000, 0.8000, 0.4000, 0.8000, 0.4000, 0.8000, 0.4000,\n",
      "        0.8000, 0.4000, 0.8000, 0.4000, 0.8000, 0.4000, 0.8000],\n",
      "       dtype=torch.float64)\n",
      "tensor([1.5708, 1.5708, 1.5708, 1.5708, 1.5708, 1.5708, 1.5708, 1.5708, 1.5708,\n",
      "        1.5708, 1.5708, 1.5708, 1.5708, 1.5708, 1.5708, 1.5708],\n",
      "       dtype=torch.float64)\n",
      "tensor([0.5000, 0.5000, 0.5000, 0.5000, 0.5000, 0.5000, 0.5000, 0.5000, 0.5000,\n",
      "        0.5000, 0.5000, 0.5000, 0.5000, 0.5000, 0.5000, 0.5000],\n",
      "       dtype=torch.float64)\n",
      "tensor([0.5000, 0.5000, 0.5000, 0.5000, 0.5000, 0.5000, 0.5000, 0.5000, 0.5000,\n",
      "        0.5000, 0.5000, 0.5000, 0.5000, 0.5000, 0.5000, 0.5000],\n",
      "       dtype=torch.float64)\n"
     ]
    }
   ],
   "source": [
    "dataloader = DataLoader(ds, batch_size=16)\n",
    "batch_img, factors = next(iter(dataloader))\n",
    "img = draw_batch(batch_img, save=False, show=True)\n",
    "for f in factors:\n",
    "    print(f)"
   ]
  },
  {
   "cell_type": "code",
   "execution_count": null,
   "id": "51b5db07-19da-43ea-9725-72a656c94341",
   "metadata": {},
   "outputs": [],
   "source": []
  },
  {
   "cell_type": "code",
   "execution_count": 60,
   "id": "4e6a812c-7c99-44a2-bd85-d02602fe8503",
   "metadata": {},
   "outputs": [],
   "source": [
    "sample_vertex = FiniteDSprites().sample_vertex_positions"
   ]
  },
  {
   "cell_type": "markdown",
   "id": "d617c9a5-8249-4372-a71a-569d13fe806c",
   "metadata": {},
   "source": [
    "sample_vertex(min_verts=3,max_verts=3)"
   ]
  },
  {
   "cell_type": "code",
   "execution_count": null,
   "id": "0cb10750-158b-4c20-abee-40ce2240603c",
   "metadata": {},
   "outputs": [],
   "source": []
  },
  {
   "cell_type": "code",
   "execution_count": 37,
   "id": "0e028ebc-96ea-445c-b4a8-e226dc02bf5f",
   "metadata": {},
   "outputs": [
    {
     "data": {
      "text/plain": [
       "10000"
      ]
     },
     "execution_count": 37,
     "metadata": {},
     "output_type": "execute_result"
    }
   ],
   "source": [
    "len(ds)"
   ]
  },
  {
   "cell_type": "code",
   "execution_count": 10,
   "id": "378b0403-9c65-4878-b3bb-c5239ce37c02",
   "metadata": {},
   "outputs": [
    {
     "data": {
      "text/plain": [
       "{'id': [44, 45, 21, 6, 26, 10, 23, 39], 'ood': []}"
      ]
     },
     "execution_count": 10,
     "metadata": {},
     "output_type": "execute_result"
    }
   ],
   "source": [
    "shape_ids"
   ]
  },
  {
   "cell_type": "code",
   "execution_count": 25,
   "id": "5013584f-cf7b-4272-852e-b20bd15cad39",
   "metadata": {},
   "outputs": [
    {
     "name": "stdout",
     "output_type": "stream",
     "text": [
      "Factors(shape=array([[ 0.03614803,  0.03846261,  0.04077718, ...,  0.03587497,\n",
      "         0.0360115 ,  0.03614803],\n",
      "       [-0.25248111, -0.25871175, -0.26494239, ..., -0.23952657,\n",
      "        -0.24600384, -0.25248111]]), color=array([1., 1., 1.]), shape_id=44, scale=0.5769230769230769, orientation=0.9373516542179335, position_x=0.15384615384615385, position_y=0.23076923076923078)\n"
     ]
    }
   ],
   "source": [
    "delta=1\n",
    "print(ds['train'][0+delta][1])"
   ]
  },
  {
   "cell_type": "markdown",
   "id": "27538534-3367-450f-aa71-3bb90fc5f84a",
   "metadata": {},
   "source": [
    "## Evaluation on 1-step apart latent attribute"
   ]
  },
  {
   "cell_type": "code",
   "execution_count": 2,
   "id": "9582c7a3-8ad4-4859-a95e-a2fa6d7d3b71",
   "metadata": {},
   "outputs": [],
   "source": [
    "import numpy as np\n",
    "from tqdm.notebook import tqdm\n",
    "from torch.utils.data import DataLoader\n",
    "import idsprites as ids\n",
    "from idsprites.visualization import draw_batch\n",
    "import torch\n",
    "import random\n",
    "from tqdm.notebook import tqdm\n",
    "from torch.utils.data import Dataset\n",
    "\n",
    "class FiniteDSprites(ids.InfiniteDSprites):\n",
    "    def generate_shape_with_verts(self, n_verts):\n",
    "        \"\"\"Generate random vertices and connect them with straight lines or a smooth curve.\n",
    "        Args:\n",
    "            None\n",
    "        Returns:\n",
    "            An array of shape (2, num_verts).\n",
    "        \"\"\"\n",
    "        verts = self.sample_vertex_positions(min_verts = n_verts, max_verts=n_verts)\n",
    "        shape = (\n",
    "            #self.interpolate(verts)\n",
    "            #if np.random.rand() < 0.5\n",
    "            #else \n",
    "            self.interpolate(verts, k=1, num_spline_points=100)\n",
    "        )\n",
    "        shape = self.align(shape)\n",
    "        shape = self.center_and_scale(shape)\n",
    "        return shape\n",
    "    def sample_vertex_positions(\n",
    "        self,\n",
    "        min_verts: int = 5,\n",
    "        max_verts: int = 8,\n",
    "        radius_std: float = 0.4,\n",
    "        angle_std: float = 0.5,\n",
    "    ):\n",
    "        \"\"\"Sample the positions of the vertices of a polygon.\n",
    "        Args:\n",
    "            min_verts: Minimum number of vertices (inclusive).\n",
    "            max_verts: Maximum number of vertices (inclusive).\n",
    "            radius_std: Standard deviation of the polar radius when sampling the vertices.\n",
    "            angle_std: Standard deviation of the polar angle when sampling the vertices.\n",
    "        Returns:\n",
    "            An array of shape (2, num_verts).\n",
    "        \"\"\"\n",
    "        num_verts = np.random.randint(min_verts, max_verts + 1)\n",
    "        rs = np.random.normal(1.0, radius_std, num_verts)\n",
    "        rs = np.clip(rs, 0.1, 1.9)\n",
    "\n",
    "        epsilon = 1e-6\n",
    "        circle_sector = np.pi / num_verts - epsilon\n",
    "        intervals = np.linspace(0, 2 * np.pi, num_verts, endpoint=False)\n",
    "        thetas = np.random.normal(0.0, circle_sector * angle_std, num_verts)\n",
    "        thetas = np.clip(thetas, -circle_sector, circle_sector) + intervals\n",
    "\n",
    "        verts = [[r * np.cos(theta), r * np.sin(theta)] for r, theta in zip(rs, thetas)]\n",
    "        verts = np.array(verts).T\n",
    "        return verts\n",
    "        \n",
    "def create_datasets(attributes):\n",
    "    ds = dict()\n",
    "    for attribute in attributes:\n",
    "        print(f\"Max Vert: {max_vert}, Attribute: {attribute}\")\n",
    "        ds[attribute] = ids.InfiniteDSpritesMap(\n",
    "            img_size=64,\n",
    "            orientation_marker_color=\"#000000\",\n",
    "            shapes=shapes['id' if attribute != 'shape' else 'ood'],\n",
    "            shape_ids=shape_ids['id'] if attribute != 'shape' else None,\n",
    "            scale_range = scale['id' if attribute != 'scale' else 'ood'],\n",
    "            orientation_range= orientation['id' if attribute != 'orientation' else 'ood'],\n",
    "            position_x_range= x['id' if attribute != 'x' else 'ood'],\n",
    "            position_y_range= y['id' if attribute != 'y' else 'ood']\n",
    "        )\n",
    "    return ds\n",
    "\n",
    "def get_dataset_raw_data(ds):\n",
    "    dl = DataLoader(ds, batch_size=128, shuffle=False)\n",
    "    images = []\n",
    "    latents = []\n",
    "    for imgs, factors in tqdm(dl):\n",
    "        images.append(imgs)\n",
    "        if attribute == \"shape\":\n",
    "            ss = factors.shape_id\n",
    "            ss = list(ss)\n",
    "            ss = [shape_ids['ood'][s.item()] for s in ss]\n",
    "            ss = torch.tensor(ss)\n",
    "            \n",
    "        else:\n",
    "            ss = factors.shape_id\n",
    "\n",
    "        latent = torch.cat((ss.unsqueeze(-1), \n",
    "                       factors.scale.unsqueeze(-1),\n",
    "                       factors.orientation.unsqueeze(-1),\n",
    "                       factors.position_x.unsqueeze(-1),\n",
    "                       factors.position_y.unsqueeze(-1)),\n",
    "                      dim=1)\n",
    "        latents.append(latent)\n",
    "    images = torch.cat(images, dim=0)\n",
    "    latents = torch.cat(latents, dim=0)\n",
    "\n",
    "    return images, latents\n",
    "    \n",
    "def get_modified_reps(model, idx, img, label , ds):\n",
    "\n",
    "    imgs_tgt = []\n",
    "    target = []\n",
    "    latents_modified =[]\n",
    "    for j, attribute in enumerate(attributes):\n",
    "        new_idx = idx + delta[attribute]\n",
    "        # check if factor is last factor in case of increasing!\n",
    "        if attribute != \"shape\":\n",
    "            curr_attr = f\"position_{attribute}\" if attribute in [\"x\",\"y\"] else attribute\n",
    "            last_factor = ds.dataset.ranges[curr_attr][-1]\n",
    "            curr_attr_val = getattr(label,curr_attr)\n",
    "        else:\n",
    "            curr_attr = \"shape\"\n",
    "            last_factor = ds.dataset.shape_ids[-1]\n",
    "            curr_attr_val = label.shape_id\n",
    "        \n",
    "        if curr_attr_val != last_factor: # Skip if we are at the last value of a factor!\n",
    "            img_tgt, label_tgt= ds[idx+delta[attribute]]\n",
    "            imgs_tgt.append(torch.from_numpy(img_tgt))\n",
    "            zeros = torch.zeros(5)\n",
    "            if attribute == \"shape\":\n",
    "                val = label_tgt.shape_id - label.shape_id\n",
    "            else:\n",
    "                val = getattr(label_tgt, curr_attr) - getattr(label, curr_attr)\n",
    "            zeros[j] = val\n",
    "            target.append(torch.tensor(j))\n",
    "            latents_modified.append(zeros)\n",
    "    \n",
    "    # Create modified latent vector\n",
    "    if len(target) != 0:            \n",
    "        imgs_tgt = torch.stack(imgs_tgt).cuda()\n",
    "        imgs = torch.tensor(img).repeat(len(imgs_tgt),1,1,1).cuda()\n",
    "        target = torch.stack(target).cuda()\n",
    "        latents_modified = torch.stack(latents_modified).cuda()\n",
    "        reps_latent = model(imgs, latents_modified)\n",
    "        latents_zeros = torch.zeros_like(latents_modified).cuda()\n",
    "        reps_target = model(imgs_tgt, latents_zeros) # modified images at pixel level\n",
    "    else:\n",
    "        reps_latent = []\n",
    "        reps_target = []\n",
    "        target = []\n",
    "    return reps_latent, reps_target, target\n"
   ]
  },
  {
   "cell_type": "code",
   "execution_count": 1,
   "id": "c5dba9a5-9bbe-424c-876b-dfafed158541",
   "metadata": {},
   "outputs": [
    {
     "ename": "SyntaxError",
     "evalue": "'[' was never closed (3128265594.py, line 7)",
     "output_type": "error",
     "traceback": [
      "\u001b[0;36m  Cell \u001b[0;32mIn[1], line 7\u001b[0;36m\u001b[0m\n\u001b[0;31m    ood_indices = [\u001b[0m\n\u001b[0m                  ^\u001b[0m\n\u001b[0;31mSyntaxError\u001b[0m\u001b[0;31m:\u001b[0m '[' was never closed\n"
     ]
    }
   ],
   "source": [
    "shape_ids = []\n",
    "shapes = []\n",
    "max_verts = [14,24,34,54] # 10, 20, 30, 40 total shapes --> 6, 16, 26, 46 training shapes!\n",
    "\n",
    "m = FiniteDSprites(img_size=64)\n",
    "# Solve all other attributes\n",
    "ood_indices = [3,6,9,12]\n",
    "scale = np.linspace(0.5, 1.0, 14)\n",
    "orientation = np.linspace(0, 2 * np.pi * 32 / 33, 14)\n",
    "x = np.linspace(0, 1, 14)\n",
    "y = np.linspace(0, 1, 14)\n",
    "scale = {'id': scale[2:-2], 'ood': np.concatenate([scale[:2], scale[-2:]])}\n",
    "orientation = {'id': orientation[2:-2], 'ood': np.concatenate([orientation[:2], orientation[-2:]])}\n",
    "x = {'id': x[2:-2], 'ood': np.concatenate([x[:2], x[-2:]])}\n",
    "y = {'id': y[2:-2], 'ood': np.concatenate([y[:2], y[-2:]])}\n",
    "\n",
    "# We generate all shapes for all datasets\n",
    "# This is to make sure shapes are constant between datasets\n",
    "# i.e. shape with 3 vertices is the same for all datasets\n",
    "\n",
    "maximum_vertices = max(max_verts)\n",
    "all_shapes = []\n",
    "all_shape_ids = []\n",
    "\n",
    "for n_verts in range(3,maximum_vertices+1):\n",
    "    all_shapes.append(m.generate_shape_with_verts(n_verts))\n",
    "    all_shape_ids.append(n_verts - 3)\n",
    "\n",
    "max_vert = 14\n",
    "indices = random.sample(range(len(all_shapes)), max_vert-6)\n",
    "ood_ids = []\n",
    "shapes = {'id': [all_shapes[i] for i in indices],\n",
    "              'ood': [all_shapes[i] for i in ood_ids]}\n",
    "shape_ids = {'id': [all_shape_ids[i] for i in indices],\n",
    "            'ood': ood_ids}\n",
    "\n",
    "ds = create_datasets(['train'])"
   ]
  },
  {
   "cell_type": "code",
   "execution_count": 6,
   "id": "7abc268c-e6d2-4ec6-b505-ef80af4ba7f5",
   "metadata": {},
   "outputs": [],
   "source": [
    "import lightning as L\n",
    "from easydict import EasyDict as edict\n",
    "import torch\n",
    "from train_lightning import get_lightning_model\n",
    "from datasets import get_dataloaders, IdSprites, PairedDataset\n",
    "from torch.utils.data import Dataset, random_split, DataLoader\n",
    "from utils import set_seed, get_args\n",
    "from tqdm.notebook import tqdm\n",
    "\n",
    "exp_id = \"yxmihnpi\"\n",
    "\n",
    "# Define experiment ids for checkpoint\n",
    "args = get_args(exp_id)\n",
    "args.encoder['pretrain_method'] = None\n",
    "args.test = True\n",
    "ckpt_path = f\"results/idsprites/{exp_id}/epoch=49.ckpt\"\n",
    "#ckpt = torch.load(ckpt_path)\n",
    "\n",
    "model = get_lightning_model(args)\n",
    "model = model.encoder.cuda()"
   ]
  },
  {
   "cell_type": "code",
   "execution_count": 33,
   "id": "788d202a-b695-425d-aca0-0ca8e4808251",
   "metadata": {},
   "outputs": [
    {
     "data": {
      "application/vnd.jupyter.widget-view+json": {
       "model_id": "fb0f5357a9d2460e8ec2b2f08afc4ea5",
       "version_major": 2,
       "version_minor": 0
      },
      "text/plain": [
       "  0%|          | 0/80000 [00:00<?, ?it/s]"
      ]
     },
     "metadata": {},
     "output_type": "display_data"
    },
    {
     "name": "stderr",
     "output_type": "stream",
     "text": [
      "IOPub message rate exceeded.\n",
      "The Jupyter server will temporarily stop sending output\n",
      "to the client in order to avoid crashing it.\n",
      "To change this limit, set the config variable\n",
      "`--ServerApp.iopub_msg_rate_limit`.\n",
      "\n",
      "Current values:\n",
      "ServerApp.iopub_msg_rate_limit=1000.0 (msgs/sec)\n",
      "ServerApp.rate_limit_window=3.0 (secs)\n",
      "\n"
     ]
    }
   ],
   "source": [
    "from torch.nn.functional import softmax, cosine_similarity, normalize\n",
    "import pandas as pd\n",
    "attributes = ['shape','scale','orientation','x','y']\n",
    "\n",
    "delta = { 'shape': 10000, 'scale': 1000, 'orientation': 100, 'x': 10, 'y': 1} # how many samples to skip to reach a sample of next level in attribute\n",
    "\n",
    "final_result = []\n",
    "targets  = []\n",
    "metrics = {'acc': [], 'confidence': [], 'target': []}\n",
    "for idx, (img, label) in tqdm(enumerate(ds['train']), total=len(ds['train'])):\n",
    "    with torch.no_grad():\n",
    "        reps_latent, reps_target, target = get_modified_reps(model, idx, img, label, ds['train'])\n",
    "        reps_latent = normalize(reps_latent, dim=1)\n",
    "        reps_target = normalize(reps_target, dim=1)\n",
    "        result = torch.matmul(reps_latent, reps_target.T)\n",
    "        soft_result = softmax(result, dim=1) # get confidence in classification\n",
    "        conf_preds = soft_result.argmax(dim=1)\n",
    "        preds =  result.argmax(dim=1)\n",
    "        # Generate the indices (0, 1, 2, ..., N-1)\n",
    "        correct = (preds == target).float()\n",
    "        metrics['acc'].append(correct)\n",
    "        metrics['target'].append(target)\n",
    "        metrics['confidence'].append(conf_preds)\n"
   ]
  },
  {
   "cell_type": "code",
   "execution_count": null,
   "id": "1c09de57-3119-4d78-b43f-6e5ab7b34a4c",
   "metadata": {},
   "outputs": [],
   "source": [
    "for k, v in metrics.items():\n",
    "    metrics[k] = torch.cat(v, dim=0)"
   ]
  },
  {
   "cell_type": "code",
   "execution_count": null,
   "id": "267f0838-c0b6-4914-b7d5-772ae8184bdc",
   "metadata": {},
   "outputs": [],
   "source": [
    "df = pd.DataFrame(metrics)\n",
    "grouped_means = df.groupby(\"target\")[[\"acc\", \"confidence\"]].mean()\n",
    "\n",
    "print(grouped_means)"
   ]
  },
  {
   "cell_type": "code",
   "execution_count": 17,
   "id": "2af03410-eeb0-4808-8314-045b50bc4dbf",
   "metadata": {},
   "outputs": [],
   "source": [
    "metrics['acc'] = torch.cat(metrics['acc'], dim=0)"
   ]
  },
  {
   "cell_type": "code",
   "execution_count": 22,
   "id": "424b8368-8565-4516-909b-ab0307e38c4c",
   "metadata": {},
   "outputs": [],
   "source": [
    "for k, v in metrics.items():\n",
    "    metrics[k] = v.cpu()"
   ]
  },
  {
   "cell_type": "code",
   "execution_count": 20,
   "id": "fa50a9bd-9b43-4f8d-a73b-e274793e7df7",
   "metadata": {},
   "outputs": [
    {
     "data": {
      "text/plain": [
       "tensor([3, 3, 3,  ..., 0, 0, 0], device='cuda:0')"
      ]
     },
     "execution_count": 20,
     "metadata": {},
     "output_type": "execute_result"
    }
   ],
   "source": [
    "metrics['confidence']"
   ]
  },
  {
   "cell_type": "markdown",
   "id": "b5793bdc-4c1a-4e59-abfa-ac9e1568704c",
   "metadata": {},
   "source": [
    "## Create Dataset"
   ]
  },
  {
   "cell_type": "code",
   "execution_count": 35,
   "id": "f50140c8-76d2-47c6-8b7f-0c47dfd1c3ef",
   "metadata": {},
   "outputs": [
    {
     "data": {
      "text/plain": [
       "80000"
      ]
     },
     "execution_count": 35,
     "metadata": {},
     "output_type": "execute_result"
    }
   ],
   "source": [
    "len(ds['train'])"
   ]
  },
  {
   "cell_type": "code",
   "execution_count": null,
   "id": "d2bbfc7b-d1c1-4bf5-9520-0875726c21fe",
   "metadata": {
    "scrolled": true
   },
   "outputs": [
    {
     "data": {
      "application/vnd.jupyter.widget-view+json": {
       "model_id": "a94122cff11d4cfd9ad37693bb2e4e3f",
       "version_major": 2,
       "version_minor": 0
      },
      "text/plain": [
       "  0%|          | 0/4 [00:00<?, ?it/s]"
      ]
     },
     "metadata": {},
     "output_type": "display_data"
    },
    {
     "name": "stdout",
     "output_type": "stream",
     "text": [
      "Max Vert: 14, Attribute: train\n",
      "Max Vert: 14, Attribute: shape\n",
      "Max Vert: 14, Attribute: scale\n",
      "Max Vert: 14, Attribute: orientation\n",
      "Max Vert: 14, Attribute: x\n",
      "Max Vert: 14, Attribute: y\n"
     ]
    },
    {
     "data": {
      "application/vnd.jupyter.widget-view+json": {
       "model_id": "94e77359b2554c468c1e6fea45a80e95",
       "version_major": 2,
       "version_minor": 0
      },
      "text/plain": [
       "  0%|          | 0/6 [00:00<?, ?it/s]"
      ]
     },
     "metadata": {},
     "output_type": "display_data"
    },
    {
     "data": {
      "application/vnd.jupyter.widget-view+json": {
       "model_id": "3b6c328264a647dda4d1dc3c7a3f75ae",
       "version_major": 2,
       "version_minor": 0
      },
      "text/plain": [
       "  0%|          | 0/625 [00:00<?, ?it/s]"
      ]
     },
     "metadata": {},
     "output_type": "display_data"
    },
    {
     "data": {
      "application/vnd.jupyter.widget-view+json": {
       "model_id": "503e5993ccde49f1816e460569becf7c",
       "version_major": 2,
       "version_minor": 0
      },
      "text/plain": [
       "  0%|          | 0/313 [00:00<?, ?it/s]"
      ]
     },
     "metadata": {},
     "output_type": "display_data"
    },
    {
     "data": {
      "application/vnd.jupyter.widget-view+json": {
       "model_id": "d3279bef08fa45d0b844a9f446ec41f3",
       "version_major": 2,
       "version_minor": 0
      },
      "text/plain": [
       "  0%|          | 0/250 [00:00<?, ?it/s]"
      ]
     },
     "metadata": {},
     "output_type": "display_data"
    },
    {
     "data": {
      "application/vnd.jupyter.widget-view+json": {
       "model_id": "77c99c6fce6c437e8455f57c2bc3cf22",
       "version_major": 2,
       "version_minor": 0
      },
      "text/plain": [
       "  0%|          | 0/250 [00:00<?, ?it/s]"
      ]
     },
     "metadata": {},
     "output_type": "display_data"
    },
    {
     "data": {
      "application/vnd.jupyter.widget-view+json": {
       "model_id": "29837b99da6e43a28abe2cc0ab869a6f",
       "version_major": 2,
       "version_minor": 0
      },
      "text/plain": [
       "  0%|          | 0/250 [00:00<?, ?it/s]"
      ]
     },
     "metadata": {},
     "output_type": "display_data"
    },
    {
     "data": {
      "application/vnd.jupyter.widget-view+json": {
       "model_id": "8975cbef4fb74a8c87d0b3d7434cea06",
       "version_major": 2,
       "version_minor": 0
      },
      "text/plain": [
       "  0%|          | 0/250 [00:00<?, ?it/s]"
      ]
     },
     "metadata": {},
     "output_type": "display_data"
    },
    {
     "name": "stdout",
     "output_type": "stream",
     "text": [
      "Max Vert: 24, Attribute: train\n",
      "Max Vert: 24, Attribute: shape\n",
      "Max Vert: 24, Attribute: scale\n",
      "Max Vert: 24, Attribute: orientation\n",
      "Max Vert: 24, Attribute: x\n",
      "Max Vert: 24, Attribute: y\n"
     ]
    },
    {
     "data": {
      "application/vnd.jupyter.widget-view+json": {
       "model_id": "e36ddda1750c4a999d7822dc79d84bc7",
       "version_major": 2,
       "version_minor": 0
      },
      "text/plain": [
       "  0%|          | 0/6 [00:00<?, ?it/s]"
      ]
     },
     "metadata": {},
     "output_type": "display_data"
    },
    {
     "data": {
      "application/vnd.jupyter.widget-view+json": {
       "model_id": "9c49edada949497ba2da154930934f9c",
       "version_major": 2,
       "version_minor": 0
      },
      "text/plain": [
       "  0%|          | 0/1407 [00:00<?, ?it/s]"
      ]
     },
     "metadata": {},
     "output_type": "display_data"
    },
    {
     "data": {
      "application/vnd.jupyter.widget-view+json": {
       "model_id": "3ca48a9c73094fde87156b317dcc319a",
       "version_major": 2,
       "version_minor": 0
      },
      "text/plain": [
       "  0%|          | 0/313 [00:00<?, ?it/s]"
      ]
     },
     "metadata": {},
     "output_type": "display_data"
    },
    {
     "data": {
      "application/vnd.jupyter.widget-view+json": {
       "model_id": "c6108feda5824914af29c6e7ece5e4d2",
       "version_major": 2,
       "version_minor": 0
      },
      "text/plain": [
       "  0%|          | 0/563 [00:00<?, ?it/s]"
      ]
     },
     "metadata": {},
     "output_type": "display_data"
    },
    {
     "data": {
      "application/vnd.jupyter.widget-view+json": {
       "model_id": "6b0918e4419847318c0d0293698edae2",
       "version_major": 2,
       "version_minor": 0
      },
      "text/plain": [
       "  0%|          | 0/563 [00:00<?, ?it/s]"
      ]
     },
     "metadata": {},
     "output_type": "display_data"
    },
    {
     "data": {
      "application/vnd.jupyter.widget-view+json": {
       "model_id": "2e6ae846c732458c8c9377a0dc8f206a",
       "version_major": 2,
       "version_minor": 0
      },
      "text/plain": [
       "  0%|          | 0/563 [00:00<?, ?it/s]"
      ]
     },
     "metadata": {},
     "output_type": "display_data"
    },
    {
     "data": {
      "application/vnd.jupyter.widget-view+json": {
       "model_id": "4d005ab329db4db4a4fcdf5008edf543",
       "version_major": 2,
       "version_minor": 0
      },
      "text/plain": [
       "  0%|          | 0/563 [00:00<?, ?it/s]"
      ]
     },
     "metadata": {},
     "output_type": "display_data"
    },
    {
     "name": "stdout",
     "output_type": "stream",
     "text": [
      "Max Vert: 34, Attribute: train\n",
      "Max Vert: 34, Attribute: shape\n",
      "Max Vert: 34, Attribute: scale\n",
      "Max Vert: 34, Attribute: orientation\n",
      "Max Vert: 34, Attribute: x\n",
      "Max Vert: 34, Attribute: y\n"
     ]
    },
    {
     "data": {
      "application/vnd.jupyter.widget-view+json": {
       "model_id": "8adb8ff6aacb4180958ce1dae7d55ab2",
       "version_major": 2,
       "version_minor": 0
      },
      "text/plain": [
       "  0%|          | 0/6 [00:00<?, ?it/s]"
      ]
     },
     "metadata": {},
     "output_type": "display_data"
    },
    {
     "data": {
      "application/vnd.jupyter.widget-view+json": {
       "model_id": "fa7c15bf951f4756af5fd0cc5dd43dbc",
       "version_major": 2,
       "version_minor": 0
      },
      "text/plain": [
       "  0%|          | 0/2188 [00:00<?, ?it/s]"
      ]
     },
     "metadata": {},
     "output_type": "display_data"
    },
    {
     "data": {
      "application/vnd.jupyter.widget-view+json": {
       "model_id": "01cd10e0cc404820be531c6212af1744",
       "version_major": 2,
       "version_minor": 0
      },
      "text/plain": [
       "  0%|          | 0/313 [00:00<?, ?it/s]"
      ]
     },
     "metadata": {},
     "output_type": "display_data"
    },
    {
     "data": {
      "application/vnd.jupyter.widget-view+json": {
       "model_id": "4065bce7797743c8a0a9dc1bf45fdaf0",
       "version_major": 2,
       "version_minor": 0
      },
      "text/plain": [
       "  0%|          | 0/875 [00:00<?, ?it/s]"
      ]
     },
     "metadata": {},
     "output_type": "display_data"
    },
    {
     "data": {
      "application/vnd.jupyter.widget-view+json": {
       "model_id": "9859646f89eb4a968ab51453ede211a2",
       "version_major": 2,
       "version_minor": 0
      },
      "text/plain": [
       "  0%|          | 0/875 [00:00<?, ?it/s]"
      ]
     },
     "metadata": {},
     "output_type": "display_data"
    },
    {
     "data": {
      "application/vnd.jupyter.widget-view+json": {
       "model_id": "b4a3818709b74f188d17e0a41ae7147d",
       "version_major": 2,
       "version_minor": 0
      },
      "text/plain": [
       "  0%|          | 0/875 [00:00<?, ?it/s]"
      ]
     },
     "metadata": {},
     "output_type": "display_data"
    },
    {
     "data": {
      "application/vnd.jupyter.widget-view+json": {
       "model_id": "8bec6bf957b04e5abff0edd1bcf95f18",
       "version_major": 2,
       "version_minor": 0
      },
      "text/plain": [
       "  0%|          | 0/875 [00:00<?, ?it/s]"
      ]
     },
     "metadata": {},
     "output_type": "display_data"
    },
    {
     "name": "stdout",
     "output_type": "stream",
     "text": [
      "Max Vert: 54, Attribute: train\n",
      "Max Vert: 54, Attribute: shape\n",
      "Max Vert: 54, Attribute: scale\n",
      "Max Vert: 54, Attribute: orientation\n",
      "Max Vert: 54, Attribute: x\n",
      "Max Vert: 54, Attribute: y\n"
     ]
    },
    {
     "data": {
      "application/vnd.jupyter.widget-view+json": {
       "model_id": "ec585205c73f4aabbf622b6cdef9ab7e",
       "version_major": 2,
       "version_minor": 0
      },
      "text/plain": [
       "  0%|          | 0/6 [00:00<?, ?it/s]"
      ]
     },
     "metadata": {},
     "output_type": "display_data"
    },
    {
     "data": {
      "application/vnd.jupyter.widget-view+json": {
       "model_id": "1ce93e321493496c94e0ef9f553e642a",
       "version_major": 2,
       "version_minor": 0
      },
      "text/plain": [
       "  0%|          | 0/3750 [00:00<?, ?it/s]"
      ]
     },
     "metadata": {},
     "output_type": "display_data"
    }
   ],
   "source": [
    "\n",
    "shape_ids = []\n",
    "shapes = []\n",
    "max_verts = [14,24,34,54] # 10, 20, 30, 50 total shapes --> 6, 16, 26, 46 training shapes!\n",
    "ood_ids_inter = [10,20,30,40] ## ood_indices when interpolating\n",
    "ood_indices = [3,6,9,12]      ##  \"    \"       \"      \"\n",
    "\n",
    "m = FiniteDSprites(img_size=64)\n",
    "# Solve all other attributes\n",
    "scale = np.linspace(0.5, 1.0, 14)\n",
    "orientation = np.linspace(0, 2 * np.pi * 32 / 33, 14)\n",
    "x = np.linspace(0, 1, 14)\n",
    "y = np.linspace(0, 1, 14)\n",
    "polation = \"inter\"\n",
    "if polation == \"extra\":\n",
    "    scale = {'id': scale[2:-2], 'ood': np.concatenate([scale[:2], scale[-2:]])}\n",
    "    orientation = {'id': orientation[2:-2], 'ood': np.concatenate([orientation[:2], orientation[-2:]])}\n",
    "    x = {'id': x[2:-2], 'ood': np.concatenate([x[:2], x[-2:]])}\n",
    "    y = {'id': y[2:-2], 'ood': np.concatenate([y[:2], y[-2:]])}\n",
    "else:\n",
    "    scale = {'id': scale[[idx for idx in range(14) if idx not in ood_indices]], 'ood': scale[ood_indices]}\n",
    "    orientation = {'id': orientation[[idx for idx in range(14) if idx not in ood_indices]], 'ood':  orientation[ood_indices]}\n",
    "    x = {'id': x[[idx for idx in range(14) if idx not in ood_indices]], 'ood': x[ood_indices]}\n",
    "    y = {'id': y[[idx for idx in range(14) if idx not in ood_indices]], 'ood': y[ood_indices]}\n",
    "# We generate all shapes for all datasets\n",
    "# This is to make sure shapes are constant between datasets\n",
    "# i.e. shape with 3 vertices is the same for all datasets\n",
    "\n",
    "maximum_vertices = max(max_verts)\n",
    "all_shapes = []\n",
    "all_shape_ids = []\n",
    "\n",
    "\n",
    "for n_verts in range(3,maximum_vertices+1):\n",
    "    all_shapes.append(m.generate_shape_with_verts(n_verts))\n",
    "    all_shape_ids.append(n_verts - 3)\n",
    "    \n",
    "for max_vert in tqdm(max_verts): #  Shapes OOD = (3,4,11,12), ID= {5..10} # 10 total shapes\n",
    "\n",
    "    # Generate datasets!\n",
    "    # Select OOD shapes! (depends on polation)\n",
    "    if polation == \"extra\":\n",
    "        ood_ids =[0,1,maximum_vertices-4, maximum_vertices-3]\n",
    "        new_all_shapes = all_shapes[2:-2]\n",
    "        new_all_shape_ids = all_shape_ids[2:-2]\n",
    "        \n",
    "    else: # We remove 5 and 10 vertices shapes from all datasets!\n",
    "        ood_ids = ood_ids_inter\n",
    "        new_all_shapes = [all_shapes[i] for i in range(len(all_shapes)) if i not in ood_ids]\n",
    "        new_all_shape_ids =  [all_shape_ids[i] for i in range(len(all_shapes)) if i not in ood_ids]\n",
    "\n",
    "    # Randomly sample indices without replacement\n",
    "    indices = random.sample(range(len(new_all_shapes)), max_vert-6)\n",
    "    indices = sorted(indices)\n",
    "    # Extract elements from both lists at the sampled indices\n",
    "    shapes = {'id': [new_all_shapes[i] for i in indices],\n",
    "              'ood': [all_shapes[i] for i in ood_ids]}\n",
    "    shape_ids = {'id': [new_all_shape_ids[i] for i in indices],\n",
    "                'ood': ood_ids}\n",
    "\n",
    "    # Create id train set\n",
    "    attributes =  ['train', 'shape', 'scale', 'orientation', 'x', 'y']\n",
    "    ds = create_datasets(attributes)\n",
    "\n",
    "    # Store to disk! \n",
    "    for attribute in tqdm(attributes):\n",
    "        images, latents = get_dataset_raw_data(ds[attribute])           \n",
    "        # Save files!\n",
    "        np.savez(f\"idsprites_{polation}_{max_vert}_images_{attribute}.npz\", images.numpy())\n",
    "        np.savez(f\"idsprites_{polation}_{max_vert}_latents_{attribute}.npz\", latents.numpy())\n"
   ]
  },
  {
   "cell_type": "code",
   "execution_count": 3,
   "id": "69619219-718b-408f-a93a-646e33fbd03c",
   "metadata": {},
   "outputs": [
    {
     "data": {
      "application/vnd.jupyter.widget-view+json": {
       "model_id": "786e13ab2e924de8aed9e4da2ade50d8",
       "version_major": 2,
       "version_minor": 0
      },
      "text/plain": [
       "  0%|          | 0/1032 [00:00<?, ?it/s]"
      ]
     },
     "metadata": {},
     "output_type": "display_data"
    },
    {
     "name": "stdout",
     "output_type": "stream",
     "text": [
      "torch.Size([2112880, 1, 64, 64]) torch.Size([2112880, 5]) torch.Size([2112880, 5])\n"
     ]
    }
   ],
   "source": [
    "def get_dataset_raw_data(ds, attribute_data, batch_size=128):\n",
    "    dictionaries = list()\n",
    "    dictionaries.append({shape_id: i for i, shape_id in enumerate(attribute_data['shape_ids'])})\n",
    "    dictionaries.append({scale: i for i, scale in enumerate(attribute_data['scale'])})\n",
    "    dictionaries.append({orientation: i for i, orientation in enumerate(attribute_data['orientation'])})\n",
    "    dictionaries.append({x: i for i, x in enumerate(attribute_data['x'])})\n",
    "    dictionaries.append({y: i for i, y in enumerate(attribute_data['y'])})\n",
    "    \n",
    "    dl = DataLoader(ds, batch_size=batch_size, shuffle=False)\n",
    "    images = []\n",
    "    latents = []\n",
    "    latent_ids = []\n",
    "    for imgs, factors in tqdm(dl):\n",
    "        images.append(imgs.to(torch.int8))\n",
    "        ss = factors.shape_id\n",
    "        latent = torch.cat((ss.unsqueeze(-1), \n",
    "                       factors.scale.unsqueeze(-1),\n",
    "                       factors.orientation.unsqueeze(-1),\n",
    "                       factors.position_x.unsqueeze(-1),\n",
    "                       factors.position_y.unsqueeze(-1)),\n",
    "                      dim=1)\n",
    "        latents.append(latent)\n",
    "        # obtain the position in the list of each value of the latent\n",
    "        temp_l_ids = []\n",
    "        attributes = ['shape','scale','orientation','x','y']\n",
    "        for i in range(5):\n",
    "            result = apply_mapping(latent[:,i], dictionaries[i]).unsqueeze(1)\n",
    "            #print(attributes[i], latent[:3,i], result[:3], dictionaries[i])\n",
    "            temp_l_ids.append(result)\n",
    "            \n",
    "        latent_ids.append(torch.cat(tuple(temp_l_ids),dim=1))\n",
    "    images = torch.cat(images, dim=0)\n",
    "    latents = torch.cat(latents, dim=0)\n",
    "    latent_ids = torch.cat(latent_ids, dim=0).to(torch.int8)\n",
    "\n",
    "    print(images.shape, latents.shape, latent_ids.shape)\n",
    "\n",
    "    return images, latents, latent_ids\n",
    "\n",
    "# Function to map values based on the dictionary\n",
    "def apply_mapping(tensor, mapping_dict):\n",
    "    # Create a default tensor to store the mapped values\n",
    "    mapped_tensor = torch.empty_like(tensor)\n",
    "    for key, value in mapping_dict.items():\n",
    "        mapped_tensor[tensor == key] = value\n",
    "    return mapped_tensor\n",
    "\n",
    "def create_dataset(attribute_data, batch_size=128):\n",
    "\n",
    "    # Create all shapes\n",
    "    ds = ids.InfiniteDSpritesMap(\n",
    "        img_size=attribute_data['img_size'],\n",
    "        orientation_marker_color=\"#FFFFFF\",\n",
    "        shapes=attribute_data['shapes'],#shapes['id' if attribute != 'shape' else 'ood'],\n",
    "        shape_ids=attribute_data['shape_ids'],#shape_ids['id'] if attribute != 'shape' else None,\n",
    "        scale_range =attribute_data['scale'],# scale['id' if attribute != 'scale' else 'ood'],\n",
    "        orientation_range=attribute_data['orientation'],# orientation['id' if attribute != 'orientation' else 'ood'],\n",
    "        position_x_range=attribute_data['x'],# x['id' if attribute != 'x' else 'ood'],\n",
    "        position_y_range=attribute_data['y'],# y['id' if attribute != 'y' else 'ood'],\n",
    "        grayscale=attribute_data['grayscale']\n",
    "        )\n",
    "    images, latents, latent_ids = get_dataset_raw_data(ds, attribute_data, batch_size=batch_size)\n",
    "    return images, latents, latent_ids\n",
    "\n",
    "n_shapes = 54\n",
    "attribute_data = dict()\n",
    "\n",
    "all_shapes = []\n",
    "all_shape_ids = []\n",
    "m = FiniteDSprites(img_size=64)\n",
    "for n_verts in range(3,n_shapes+4):\n",
    "    all_shapes.append(m.generate_shape_with_verts(n_verts))\n",
    "    all_shape_ids.append(n_verts - 3)\n",
    "\n",
    "attribute_data['img_size'] = 64\n",
    "attribute_data['grayscale'] = True\n",
    "attribute_data['shapes'] = all_shapes\n",
    "attribute_data['shape_ids'] = all_shape_ids\n",
    "\n",
    "# Solve all other attributes\n",
    "attribute_data['scale'] = np.linspace(0.5, 1.0, 14)\n",
    "attribute_data['orientation'] = np.linspace(0, 2 * np.pi * 32 / 33, 14)\n",
    "attribute_data['x'] = np.linspace(0, 1, 14)\n",
    "attribute_data['y'] = np.linspace(0, 1, 14)\n",
    "batch_size = 2048\n",
    "images, latents, latent_ids = create_dataset(attribute_data, batch_size=batch_size)"
   ]
  },
  {
   "cell_type": "code",
   "execution_count": 5,
   "id": "fea20d29-463e-4fa8-9aaa-14805285eb60",
   "metadata": {},
   "outputs": [],
   "source": [
    "data = {'images': images, 'latents': latents, 'latent_ids': latent_ids, 'meta': attribute_data}\n",
    "torch.save(data,\"idsprites.pth\")"
   ]
  },
  {
   "cell_type": "code",
   "execution_count": 23,
   "id": "b650836b-f572-41c0-803d-708947b1c8ce",
   "metadata": {},
   "outputs": [],
   "source": [
    "images1 = images\n",
    "latents1 = latents\n",
    "latent_ids1 = latent_ids"
   ]
  },
  {
   "cell_type": "code",
   "execution_count": 4,
   "id": "8200a9ea-8f1f-41b9-b581-141cf2faff66",
   "metadata": {},
   "outputs": [
    {
     "data": {
      "image/png": "[encoded data removed]",
      "text/plain": [
       "<Figure size 640x480 with 2 Axes>"
      ]
     },
     "metadata": {},
     "output_type": "display_data"
    }
   ],
   "source": [
    "import torch\n",
    "import matplotlib.pyplot as plt\n",
    "\n",
    "# Example: Create a grayscale image tensor\n",
    "i = 7\n",
    "image_tensor = images[14*14*14*14*i]\n",
    "\n",
    "# Squeeze the tensor to remove the channel dimension if necessary\n",
    "image_tensor = image_tensor.squeeze()  # Shape: (H, W)\n",
    "\n",
    "# Convert tensor to NumPy array for visualization\n",
    "image_numpy = image_tensor.detach().cpu().numpy()\n",
    "\n",
    "# Plot the grayscale image\n",
    "plt.imshow(image_numpy, cmap=\"gray\")\n",
    "plt.colorbar()  # Optional: Display color bar for intensity reference\n",
    "plt.title(\"Grayscale Image\")\n",
    "plt.axis(\"off\")  # Optional: Remove axis ticks\n",
    "plt.show()"
   ]
  },
  {
   "cell_type": "code",
   "execution_count": 2,
   "id": "1c7d4288-77b2-472a-b1c7-12f93e67045e",
   "metadata": {},
   "outputs": [
    {
     "ename": "SyntaxError",
     "evalue": "invalid syntax (1126308110.py, line 9)",
     "output_type": "error",
     "traceback": [
      "\u001b[0;36m  Cell \u001b[0;32mIn[2], line 9\u001b[0;36m\u001b[0m\n\u001b[0;31m    evaluate_datasets(distance):\u001b[0m\n\u001b[0m                               ^\u001b[0m\n\u001b[0;31mSyntaxError\u001b[0m\u001b[0;31m:\u001b[0m invalid syntax\n"
     ]
    }
   ],
   "source": [
    "\n",
    "\n",
    "# Create Dictionary\n",
    "dictionary = dict()\n",
    "\n",
    "for split, ds in zip(splits, datasets):\n",
    "    add_tuples_to_dictionary(dictionary, ds, split)\n",
    "\n",
    "\n",
    "\n",
    "def evaluate_datasets(distance):\n",
    "\n",
    "    for ds in datasets:\n",
    "        for img, tgt in ds:\n",
    "            # Create all candidates\n",
    "            gt_candidates = []\n",
    "            prediction_candidates = []\n",
    "            for attribute in attributes:\n",
    "                temp_tgt = tgt\n",
    "                temp_tgt[attribute] += 1\n",
    "                split, idx = dictionary(temp_tgt)\n",
    "                tgt_img, tgt_label = datasets[split][idx]\n",
    "                prediction_candidates.append(model(tgt_img, temp_tgt - tgt))\n",
    "                gt_candidates.append(model(tgt_img, zero_latent))\n",
    "            torch.mm(prediction_candidates, gt_candidates)\n",
    "            # define whether results are iid-iid, iid-ood, ood-iid, ood-ood\n",
    "            "
   ]
  },
  {
   "cell_type": "code",
   "execution_count": 4,
   "id": "29ae36a6-4010-4b21-8f34-13e0074e61b0",
   "metadata": {},
   "outputs": [],
   "source": [
    "from datasets import IdSprites\n",
    "data_dir = \"idsprites\"\n",
    "n_shapes = 14\n",
    "datasets = dict()\n",
    "for split in ['train','shape',\"scale\",\"orientation\",\"x\", \"y\"]:\n",
    "    datasets[split if split != \"shape\" else \"test\"] = IdSprites(root_dir = data_dir,\n",
    "     split=split,\n",
    "     shuffle=False,\n",
    "     pretrained_arch = None,\n",
    "     n_shapes = n_shapes)"
   ]
  },
  {
   "cell_type": "code",
   "execution_count": 61,
   "id": "34e94e88-353b-42fd-aa82-ea171a01e7c1",
   "metadata": {},
   "outputs": [
    {
     "data": {
      "application/vnd.jupyter.widget-view+json": {
       "model_id": "87129be978584d9e8546f6b9c5d61739",
       "version_major": 2,
       "version_minor": 0
      },
      "text/plain": [
       "  0%|          | 0/6 [00:00<?, ?it/s]"
      ]
     },
     "metadata": {},
     "output_type": "display_data"
    },
    {
     "data": {
      "application/vnd.jupyter.widget-view+json": {
       "model_id": "5ae346d511714222bb23f1108d5153e4",
       "version_major": 2,
       "version_minor": 0
      },
      "text/plain": [
       "  0%|          | 0/157 [00:00<?, ?it/s]"
      ]
     },
     "metadata": {},
     "output_type": "display_data"
    },
    {
     "data": {
      "application/vnd.jupyter.widget-view+json": {
       "model_id": "18b258612c3345db82afcd424ab710c7",
       "version_major": 2,
       "version_minor": 0
      },
      "text/plain": [
       "  0%|          | 0/79 [00:00<?, ?it/s]"
      ]
     },
     "metadata": {},
     "output_type": "display_data"
    },
    {
     "data": {
      "application/vnd.jupyter.widget-view+json": {
       "model_id": "8e075452e0c94a2480dd98b3e3c5ae05",
       "version_major": 2,
       "version_minor": 0
      },
      "text/plain": [
       "  0%|          | 0/63 [00:00<?, ?it/s]"
      ]
     },
     "metadata": {},
     "output_type": "display_data"
    },
    {
     "data": {
      "application/vnd.jupyter.widget-view+json": {
       "model_id": "bf7d8da8c5384158966397b80bc8e02b",
       "version_major": 2,
       "version_minor": 0
      },
      "text/plain": [
       "  0%|          | 0/63 [00:00<?, ?it/s]"
      ]
     },
     "metadata": {},
     "output_type": "display_data"
    },
    {
     "data": {
      "application/vnd.jupyter.widget-view+json": {
       "model_id": "db530da60139468f852c173df20fd8df",
       "version_major": 2,
       "version_minor": 0
      },
      "text/plain": [
       "  0%|          | 0/63 [00:00<?, ?it/s]"
      ]
     },
     "metadata": {},
     "output_type": "display_data"
    },
    {
     "data": {
      "application/vnd.jupyter.widget-view+json": {
       "model_id": "409a591ffefa4e4a9bac4d07af59f0c5",
       "version_major": 2,
       "version_minor": 0
      },
      "text/plain": [
       "  0%|          | 0/63 [00:00<?, ?it/s]"
      ]
     },
     "metadata": {},
     "output_type": "display_data"
    }
   ],
   "source": [
    "from tqdm.notebook import tqdm\n",
    "from torch.utils.data import DataLoader\n",
    "import torch\n",
    "# Create Dictionary\n",
    "dictionary = dict()\n",
    "bs = 512\n",
    "model = None #get_model()\n",
    "def add_tuples_to_dictionary(model, dictionary, dl, split):\n",
    "    for imgs, latents in tqdm(dl):\n",
    "        #reps = model(imgs)\n",
    "        reps = torch.randn((bs,768))\n",
    "\n",
    "        for img, rep, latent in zip(imgs, reps, latents):\n",
    "            lat = tuple(latent.numpy())\n",
    "            dictionary[lat] = (img, rep, split)\n",
    "\n",
    "    return dictionary\n",
    "    \n",
    "for split, ds in tqdm(datasets.items()):\n",
    "    dl = DataLoader(ds, batch_size = bs)\n",
    "    add_tuples_to_dictionary(model, dictionary, dl, split)"
   ]
  },
  {
   "cell_type": "code",
   "execution_count": 15,
   "id": "469444f3-e3b9-4dc7-a72d-5c30efc445f1",
   "metadata": {},
   "outputs": [
    {
     "data": {
      "application/vnd.jupyter.widget-view+json": {
       "model_id": "97832fab07af4fe397931cd40561f267",
       "version_major": 2,
       "version_minor": 0
      },
      "text/plain": [
       "  0%|          | 0/6 [00:00<?, ?it/s]"
      ]
     },
     "metadata": {},
     "output_type": "display_data"
    },
    {
     "name": "stdout",
     "output_type": "stream",
     "text": [
      "train 80000\n",
      "test 40000\n",
      "scale 32000\n",
      "orientation 32000\n",
      "x 32000\n",
      "y 32000\n"
     ]
    }
   ],
   "source": [
    "for split, ds in tqdm(datasets.items()):\n",
    "    print(split, len(ds))"
   ]
  },
  {
   "cell_type": "code",
   "execution_count": 63,
   "id": "3cbb3815-3662-4fa6-a0d8-ce8314b5bf1f",
   "metadata": {},
   "outputs": [],
   "source": [
    "attributes = {'shape': set(),\n",
    "              'scale': set(),\n",
    "              'orientation': set(),\n",
    "              'x': set(),\n",
    "              'y': set()\n",
    "             }\n",
    "for latent in dictionary.keys():\n",
    "    shape,scale,orientation,x,y = latent\n",
    "    attributes['shape'].add(shape)\n",
    "    attributes['scale'].add(scale)\n",
    "    attributes['orientation'].add(orientation)\n",
    "    attributes['x'].add(x)\n",
    "    attributes['y'].add(y)\n",
    "\n",
    "attributes = {k: sorted(list(v)) for k,v in attributes.items()}"
   ]
  },
  {
   "cell_type": "code",
   "execution_count": 86,
   "id": "7128bccc-260a-47ff-a093-340f8b34f1c4",
   "metadata": {},
   "outputs": [
    {
     "data": {
      "application/vnd.jupyter.widget-view+json": {
       "model_id": "a2efa156068f4f96ae1e4ea9664d7e51",
       "version_major": 2,
       "version_minor": 0
      },
      "text/plain": [
       "  0%|          | 0/248000 [00:00<?, ?it/s]"
      ]
     },
     "metadata": {},
     "output_type": "display_data"
    }
   ],
   "source": [
    "\n",
    "data = dictionary\n",
    "def get_sample_data(l, attribute, up=True):\n",
    "    \n",
    "    order = {'shape': 0, 'scale': 1, 'orientation': 2, 'x': 3, 'y':  4}\n",
    "    old_value = l[order[attribute]]\n",
    "    idx = attributes[attribute].index(old_value)\n",
    "    l = list(l) # convert to list for ease\n",
    "    idx = idx + 1 if up else idx - 1\n",
    "    n_vals =  len(attributes[attribute])\n",
    "    if idx == n_vals or idx < 0:\n",
    "        return None, None\n",
    "\n",
    "    new_value = attributes[attribute][idx]\n",
    "    l[order[attribute]] = new_value\n",
    "    delta = [0.0,0.0,0.0,0.0,0.0]\n",
    "    delta[order[attribute]] = new_value - old_value\n",
    "    return tuple(l),  tuple(delta)\n",
    "errors = 0\n",
    "for latent, rep in tqdm(data.items()):\n",
    "\n",
    "    # Create all candidates\n",
    "    gt_candidates = []\n",
    "    prediction_candidates = []\n",
    "    pred_cand_latents = []\n",
    "    \n",
    "    for attribute in attributes:\n",
    "        #print(latent)\n",
    "        candidate, c_latent = get_sample_data(latent, attribute)\n",
    "        #print(candidate, attribute)\n",
    "        if candidate is not None:\n",
    "            try:\n",
    "                c_img, c_rep, split = dictionary[candidate]\n",
    "                prediction_candidates.append(c_img)\n",
    "                pred_cand_latents.append(torch.tensor(list(c_latent)))\n",
    "                gt_candidates.append(c_rep)\n",
    "            except KeyError as e:\n",
    "                errors+=1\n",
    "\n",
    "    #print(prediction_candidates)\n",
    "    if len(prediction_candidates) > 0:\n",
    "        prediction_candidates = torch.stack(prediction_candidates)\n",
    "        pred_cand_latents = torch.stack(pred_cand_latents)\n",
    "        #prediction_candidates = model(prediction_candidates, pred_cand_latents)\n",
    "        prediction_candidates = torch.randn((5, 768))\n",
    "        gt_candidates = torch.stack(gt_candidates)\n",
    "        #print(prediction_candidates.shape, gt_candidates.shape)\n",
    "        result = torch.mm(prediction_candidates, gt_candidates.T)"
   ]
  },
  {
   "cell_type": "code",
   "execution_count": 75,
   "id": "6725fd76-2c09-4d3e-8451-ff26a655b431",
   "metadata": {},
   "outputs": [
    {
     "data": {
      "text/plain": [
       "torch.Size([5, 768])"
      ]
     },
     "execution_count": 75,
     "metadata": {},
     "output_type": "execute_result"
    }
   ],
   "source": [
    "torch.stack(gt_candidates).shape"
   ]
  },
  {
   "cell_type": "code",
   "execution_count": 52,
   "id": "b9a6d3e7-4c4d-40fa-919e-2c74eeab59bc",
   "metadata": {},
   "outputs": [
    {
     "name": "stdout",
     "output_type": "stream",
     "text": [
      "((51.0, 1.0, 6.092785752416568, 1.0, 0.9230769230769231), (9.0, 0.0, 0.0, 0.0, 0.0))\n"
     ]
    }
   ],
   "source": [
    "\n",
    "\n",
    "\n",
    "lat = (42.0, 1.0, 6.092785752416568, 1.0, 0.9230769230769231)\n",
    "print(get_sample_data(lat, attribute=\"shape\",up=True))"
   ]
  },
  {
   "cell_type": "code",
   "execution_count": 11,
   "id": "599ce5cf-add2-44cd-aa0e-4d0527c112c6",
   "metadata": {},
   "outputs": [
    {
     "data": {
      "application/vnd.jupyter.widget-view+json": {
       "model_id": "09847283e03d456ba42321b8040320a2",
       "version_major": 2,
       "version_minor": 0
      },
      "text/plain": [
       "  0%|          | 0/5 [00:00<?, ?it/s]"
      ]
     },
     "metadata": {},
     "output_type": "display_data"
    },
    {
     "ename": "TypeError",
     "evalue": "iteration over a 0-d tensor",
     "output_type": "error",
     "traceback": [
      "\u001b[0;31m---------------------------------------------------------------------------\u001b[0m",
      "\u001b[0;31mTypeError\u001b[0m                                 Traceback (most recent call last)",
      "Cell \u001b[0;32mIn[11], line 28\u001b[0m\n\u001b[1;32m     26\u001b[0m \u001b[38;5;28;01mwith\u001b[39;00m torch\u001b[38;5;241m.\u001b[39mno_grad():\n\u001b[1;32m     27\u001b[0m     \u001b[38;5;28;01mfor\u001b[39;00m delta \u001b[38;5;129;01min\u001b[39;00m tqdm([\u001b[38;5;241m1\u001b[39m,\u001b[38;5;241m2\u001b[39m,\u001b[38;5;241m3\u001b[39m,\u001b[38;5;241m4\u001b[39m,\u001b[38;5;241m5\u001b[39m]):\n\u001b[0;32m---> 28\u001b[0m         \u001b[38;5;28;01mfor\u001b[39;00m idx, (img, latent, latent_ids) \u001b[38;5;129;01min\u001b[39;00m tqdm(\u001b[38;5;28menumerate\u001b[39m(\u001b[38;5;28;43mzip\u001b[39;49m\u001b[43m(\u001b[49m\u001b[43mimages\u001b[49m\u001b[43m,\u001b[49m\u001b[43mlatents\u001b[49m\u001b[43m,\u001b[49m\u001b[43mlatent_ids\u001b[49m\u001b[43m)\u001b[49m)):\n\u001b[1;32m     29\u001b[0m             \u001b[38;5;66;03m# generate delta latents for predictions/false candidates\u001b[39;00m\n\u001b[1;32m     30\u001b[0m             deltas \u001b[38;5;241m=\u001b[39m torch\u001b[38;5;241m.\u001b[39mtensor([delta]\u001b[38;5;241m*\u001b[39m\u001b[38;5;241m5\u001b[39m \u001b[38;5;241m+\u001b[39m [\u001b[38;5;241m-\u001b[39mdelta]\u001b[38;5;241m*\u001b[39m\u001b[38;5;241m5\u001b[39m)\n\u001b[1;32m     31\u001b[0m             attributes \u001b[38;5;241m=\u001b[39m np\u001b[38;5;241m.\u001b[39marray([\u001b[38;5;124m'\u001b[39m\u001b[38;5;124mshape\u001b[39m\u001b[38;5;124m'\u001b[39m, \u001b[38;5;124m'\u001b[39m\u001b[38;5;124mscale\u001b[39m\u001b[38;5;124m'\u001b[39m, \u001b[38;5;124m'\u001b[39m\u001b[38;5;124morientation\u001b[39m\u001b[38;5;124m'\u001b[39m,\u001b[38;5;124m'\u001b[39m\u001b[38;5;124mx\u001b[39m\u001b[38;5;124m'\u001b[39m,\u001b[38;5;124m'\u001b[39m\u001b[38;5;124my\u001b[39m\u001b[38;5;124m'\u001b[39m]\u001b[38;5;241m*\u001b[39m\u001b[38;5;241m2\u001b[39m)\n",
      "File \u001b[0;32m~/storage/pyenv/versions/3.10.14/envs/mini/lib/python3.10/site-packages/torch/_tensor.py:1022\u001b[0m, in \u001b[0;36mTensor.__iter__\u001b[0;34m(self)\u001b[0m\n\u001b[1;32m   1012\u001b[0m \u001b[38;5;28;01mdef\u001b[39;00m \u001b[38;5;21m__iter__\u001b[39m(\u001b[38;5;28mself\u001b[39m):\n\u001b[1;32m   1013\u001b[0m     \u001b[38;5;66;03m# NB: we use 'imap' and not 'map' here, so that in Python 2 we get a\u001b[39;00m\n\u001b[1;32m   1014\u001b[0m     \u001b[38;5;66;03m# generator and don't eagerly perform all the indexes.  This could\u001b[39;00m\n\u001b[0;32m   (...)\u001b[0m\n\u001b[1;32m   1019\u001b[0m     \u001b[38;5;66;03m# NB: We have intentionally skipped __torch_function__ dispatch here.\u001b[39;00m\n\u001b[1;32m   1020\u001b[0m     \u001b[38;5;66;03m# See gh-54457\u001b[39;00m\n\u001b[1;32m   1021\u001b[0m     \u001b[38;5;28;01mif\u001b[39;00m \u001b[38;5;28mself\u001b[39m\u001b[38;5;241m.\u001b[39mdim() \u001b[38;5;241m==\u001b[39m \u001b[38;5;241m0\u001b[39m:\n\u001b[0;32m-> 1022\u001b[0m         \u001b[38;5;28;01mraise\u001b[39;00m \u001b[38;5;167;01mTypeError\u001b[39;00m(\u001b[38;5;124m\"\u001b[39m\u001b[38;5;124miteration over a 0-d tensor\u001b[39m\u001b[38;5;124m\"\u001b[39m)\n\u001b[1;32m   1023\u001b[0m     \u001b[38;5;28;01mif\u001b[39;00m torch\u001b[38;5;241m.\u001b[39m_C\u001b[38;5;241m.\u001b[39m_get_tracing_state():\n\u001b[1;32m   1024\u001b[0m         warnings\u001b[38;5;241m.\u001b[39mwarn(\n\u001b[1;32m   1025\u001b[0m             \u001b[38;5;124m\"\u001b[39m\u001b[38;5;124mIterating over a tensor might cause the trace to be incorrect. \u001b[39m\u001b[38;5;124m\"\u001b[39m\n\u001b[1;32m   1026\u001b[0m             \u001b[38;5;124m\"\u001b[39m\u001b[38;5;124mPassing a tensor of different shape won\u001b[39m\u001b[38;5;124m'\u001b[39m\u001b[38;5;124mt change the number of \u001b[39m\u001b[38;5;124m\"\u001b[39m\n\u001b[0;32m   (...)\u001b[0m\n\u001b[1;32m   1030\u001b[0m             stacklevel\u001b[38;5;241m=\u001b[39m\u001b[38;5;241m2\u001b[39m,\n\u001b[1;32m   1031\u001b[0m         )\n",
      "\u001b[0;31mTypeError\u001b[0m: iteration over a 0-d tensor"
     ]
    }
   ],
   "source": [
    "import torch.nn as nn\n",
    "\n",
    "class TestModel(nn.Module):\n",
    "    def __init__(self):\n",
    "        super(TestModel, self).__init__()\n",
    "        lin1 = nn.Linear(4096, 768) \n",
    "        lin2 = nn.Linear(5, 768)\n",
    "    def forward(self, x, latent):\n",
    "        bs = x.shape[0]\n",
    "        x = x.view(bs,-1)\n",
    "        x = lin1(x)\n",
    "        l = lin2(latent)\n",
    "        return x+l\n",
    "\n",
    "model = TestModel().cuda()\n",
    "\n",
    "pandas_data = {\n",
    "                'original_idx': [],\n",
    "                'gt_idx': [],\n",
    "                'correct': [], \n",
    "                'detail_pred': [], \n",
    "                'attribute': [], \n",
    "                'delta': [] \n",
    "              }\n",
    "\n",
    "with torch.no_grad():\n",
    "    for delta in tqdm([1,2,3,4,5]):\n",
    "        for idx, (img, latent, latent_ids) in tqdm(enumerate(zip(images,latents,latent_ids))):\n",
    "            # generate delta latents for predictions/false candidates\n",
    "            deltas = torch.tensor([delta]*5 + [-delta]*5)\n",
    "            attributes = np.array(['shape', 'scale', 'orientation','x','y']*2)\n",
    "            pred_delta_latents = delta*torch.eye(5)\n",
    "            pred_delta_latents = torch.cat((pred_delta_latents,-pred_delta_latents),dim=0)\n",
    "            \n",
    "            new_latents_idxs = latent_ids.repeat(10,1) + pred_delta_latents\n",
    "            out_of_min_range = new_latents_idxs >= 0\n",
    "            out_of_max_range = new_latents_idxs < 14\n",
    "            out_of_max_range[:,0] = new_latents_idxs[:,0] < 54\n",
    "            out_of_range = out_of_max_range*out_of_min_range\n",
    "            viable_latents = torch.all(out_of_range,dim=1)\n",
    "            new_latents_idxs = new_latents_idxs[viable_latents].to(torch.int8)\n",
    "            deltas = deltas[viable_latents].to(torch.int8)\n",
    "            attributes = attributes[viable_latents]\n",
    "            new_latents = torch.stack(\n",
    "                [\n",
    "                    torch.tensor([attrs[j][new_latents_idxs[i, j]] for j in range(new_latents_idxs.shape[1])])\n",
    "                    for i in range(new_latents_idxs.shape[0])\n",
    "                ]\n",
    "            )\n",
    "    \n",
    "            pred_delta_latents = new_latents - latent\n",
    "            idx_coefs = torch.tensor([14**(4-i) for i in range(5)]).unsqueeze(0).T\n",
    "            gt_indices = torch.mm(new_latent_idxs, idx_coefs)\n",
    "    \n",
    "                # generate latents for +delta for all attributes\n",
    "                # generate latents for -delta for all attributes\n",
    "                # This should generate between 5 to 10 predictions per image,\n",
    "                # as some latents may be outside the dataset range.\n",
    "                # assert len(pred_delta_latents) == len(ground_truth_latents)\n",
    "            # generate latents for ground trut\n",
    "            \n",
    "            # retrieve samples for ground truth using latents to get ids\n",
    "            # calculate reps for predictions and ground truth\n",
    "            # Create batch for getting reps\n",
    "            n_candidates = len(pred_delta_latents)\n",
    "            pred_images = img.repeat(2*n_candidates)\n",
    "            gt_images, *_ = ds[gt_indices]\n",
    "    \n",
    "            imgs = torch.cat((pred_images,gt_images))\n",
    "        \n",
    "            zero_latents = torch.zeros_like(pred_delta_latents)\n",
    "            all_latents = torch.cat((pred_delta_latents, zero_latents))\n",
    "            \n",
    "            # Get reps for candidates and ground truth, batched together for efficiency\n",
    "    \n",
    "            reps = model(imgs.cuda(), all_latents.cuda()) \n",
    "            pred_reps = reps[: n_candidates]\n",
    "            gt_reps = reps[n_candidates:]\n",
    "            # with reps calculate dot product\n",
    "            pred_reps = nn.functional.normalize(pred_reps, p=2, dim=1)\n",
    "            gt_reps = nn.functional.normalize(gt_reps, p=2, dim=1)\n",
    "            result = torch.mm(pred_reps, gt_reps.T)\n",
    "            \n",
    "            # the ith line is correct if the i-th value is max\n",
    "            predicted = result.argmax(dim=1)\n",
    "            ground_truth = torch.tensor(list(range(n_candidates)))\n",
    "            correct = (predicted == ground_truth).to(torch.int8)\n",
    "            detail_pred = np.char.add(np.char.add(attributes[predicted], \" \"), deltas.astype(str))\n",
    "            \n",
    "            # returns\n",
    "            # img_idx = index for original image\n",
    "            # ground_truth_indices = index for target ground truth image\n",
    "            # correct = whether the predicted change is closer to the ground truth representation\n",
    "            # detail_pred = which was the representation that was predicted \n",
    "            # e.g. (\"shape/-1\", means that it was the change in \"shape\" with delta -1\n",
    "            # attributes = which attribute we are evaluating for prediction\n",
    "            # deltas = what was the delta applied for the prediction\n",
    "            original_idx = idx.repeat(n_candidates, 1)\n",
    "            pandas_data['original_idx'].append(original_idx)\n",
    "            pandas_data['gt_idx'].append(gt_indices)\n",
    "            pandas_data['correct'].append(correct)\n",
    "            pandas_data['detail_pred'].append(detail_pred)\n",
    "            pandas_data['attribute'].append(attributes)\n",
    "            pandas_data['delta'].append(deltas)\n",
    "            if idx == 100:\n",
    "                break\n",
    "                "
   ]
  },
  {
   "cell_type": "code",
   "execution_count": 35,
   "id": "80c13b95-c2c2-4a47-8a27-0eacbc7666c1",
   "metadata": {},
   "outputs": [],
   "source": [
    "delta = 5\n",
    "pred_delta_latents = delta*torch.eye(5)\n",
    "pred_delta_latents = torch.cat([pred_delta_latents,-pred_delta_latents], dim=0)"
   ]
  },
  {
   "cell_type": "code",
   "execution_count": 15,
   "id": "cbde4893-cff9-4ba5-83c8-766f656b6a77",
   "metadata": {},
   "outputs": [
    {
     "data": {
      "text/plain": [
       "tensor(0, dtype=torch.int8)"
      ]
     },
     "execution_count": 15,
     "metadata": {},
     "output_type": "execute_result"
    }
   ],
   "source": [
    "latent_ids"
   ]
  },
  {
   "cell_type": "code",
   "execution_count": 40,
   "id": "06d5be86-5dc1-4abf-a13f-0393d505eca1",
   "metadata": {},
   "outputs": [
    {
     "data": {
      "text/plain": [
       "tensor([11,  5, 13, 11,  4])"
      ]
     },
     "execution_count": 40,
     "metadata": {},
     "output_type": "execute_result"
    }
   ],
   "source": [
    "example_latent_id = torch.randint(0,14,(5,))"
   ]
  },
  {
   "cell_type": "code",
   "execution_count": null,
   "id": "23902b55-48ce-477f-aaa5-1ae049a6eaf0",
   "metadata": {},
   "outputs": [],
   "source": [
    "example_latent_id.repeat(10,1) + pre_"
   ]
  },
  {
   "cell_type": "code",
   "execution_count": null,
   "id": "efa9d632-9fa6-46c2-8a4e-717d07961f72",
   "metadata": {},
   "outputs": [],
   "source": []
  }
 ],
 "metadata": {
  "kernelspec": {
   "display_name": "Python 3 (ipykernel)",
   "language": "python",
   "name": "python3"
  },
  "language_info": {
   "codemirror_mode": {
    "name": "ipython",
    "version": 3
   },
   "file_extension": ".py",
   "mimetype": "text/x-python",
   "name": "python",
   "nbconvert_exporter": "python",
   "pygments_lexer": "ipython3",
   "version": "3.10.14"
  }
 },
 "nbformat": 4,
 "nbformat_minor": 5
}
