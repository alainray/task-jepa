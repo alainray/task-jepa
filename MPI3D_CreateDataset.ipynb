{
 "cells": [
  {
   "cell_type": "code",
   "execution_count": 1,
   "id": "fe381e6f-c23e-4d8d-8742-f38b42cdd482",
   "metadata": {},
   "outputs": [],
   "source": [
    "import torch\n",
    "import numpy as np"
   ]
  },
  {
   "cell_type": "code",
   "execution_count": 2,
   "id": "fd94a60c-4ab0-47ac-a568-7c2cc52437e4",
   "metadata": {},
   "outputs": [],
   "source": [
    "root_path = \"mpi3d\"\n",
    "labels = np.load(f\"{root_path}/mpi3d_composition_train_labels.npz\")"
   ]
  },
  {
   "cell_type": "code",
   "execution_count": 3,
   "id": "c8246278-d920-4de8-b96f-7be362a35e02",
   "metadata": {},
   "outputs": [
    {
     "name": "stdout",
     "output_type": "stream",
     "text": [
      "Loading file:\n",
      "To PyTorch\n",
      "View\n"
     ]
    }
   ],
   "source": [
    "# open original dataset\n",
    "\n",
    "print(\"Loading file:\")\n",
    "data = np.load(f\"{root_path}/mpi3d_real.npz\", mmap_mode='r')['images']\n",
    "print(\"To PyTorch\")\n",
    "data = torch.from_numpy(np.array(data))  # this will trigger actual load, but only when needed\n",
    "print(\"View\")\n",
    "data = data.view(6, 6, 2, 3, 3, 40, 40, 64, 64, 3)\n"
   ]
  },
  {
   "cell_type": "code",
   "execution_count": 4,
   "id": "632d382b-ae60-49a1-840f-8d7ff1e5996f",
   "metadata": {},
   "outputs": [],
   "source": [
    "data = data.permute(0,1,2,3,4,5,6,9,7,8)\n",
    "#data = data.view(6, 6, 2, 3, 3, 40, 40, 3, 64, 64)\n",
    "\n"
   ]
  },
  {
   "cell_type": "code",
   "execution_count": 5,
   "id": "16046e60-946c-4948-9d94-b7bf2006ba17",
   "metadata": {},
   "outputs": [
    {
     "name": "stdout",
     "output_type": "stream",
     "text": [
      "torch.Size([6, 6, 2, 3, 3, 40, 40, 3, 64, 64])\n"
     ]
    }
   ],
   "source": [
    "print(data.shape)"
   ]
  },
  {
   "cell_type": "code",
   "execution_count": 6,
   "id": "01ea1759-f743-484e-bd20-68ec37082220",
   "metadata": {},
   "outputs": [
    {
     "name": "stdout",
     "output_type": "stream",
     "text": [
      "Images shape: torch.Size([1036800, 3, 64, 64])\n",
      "Latent IDs shape: torch.Size([1036800, 7])\n"
     ]
    }
   ],
   "source": [
    "# Step 2: Create latent IDs by computing the grid of all combinations\n",
    "images = data.reshape(-1, 3, 64, 64)  # shape: (1_555_200, 64, 64, 3)\n",
    "latent_shapes = data.shape[:-3]  # (6, 6, 2, 3, 3, 40, 40)\n",
    "latent_dims = [torch.arange(s) for s in latent_shapes]\n",
    "mesh = torch.meshgrid(*latent_dims, indexing='ij')\n",
    "latent_ids = torch.stack([g.flatten() for g in mesh], dim=1)  # shape: (1_555_200, 7)\n",
    "\n",
    "# Check sizes\n",
    "print(\"Images shape:\", images.shape)\n",
    "print(\"Latent IDs shape:\", latent_ids.shape)\n"
   ]
  },
  {
   "cell_type": "code",
   "execution_count": null,
   "id": "96109978-786e-4efa-b7a7-311c64e19d75",
   "metadata": {},
   "outputs": [],
   "source": [
    "new_data = {\"images\": images, 'latent_ids': latent_ids}\n",
    "torch.save(new_data, f\"{root_path}/mpi3d.pth\")"
   ]
  },
  {
   "cell_type": "code",
   "execution_count": 10,
   "id": "5d1985aa-0e62-42a3-a91d-efaae50645a9",
   "metadata": {},
   "outputs": [
    {
     "data": {
      "text/plain": [
       "torch.Size([480000, 6])"
      ]
     },
     "execution_count": 10,
     "metadata": {},
     "output_type": "execute_result"
    }
   ],
   "source": [
    "torch.load(f\"3dshapes/3dshapes.pth\")['latent_ids'].shape"
   ]
  },
  {
   "cell_type": "code",
   "execution_count": 34,
   "id": "8c9be433-d1d7-4630-9c3b-10452a619f87",
   "metadata": {},
   "outputs": [],
   "source": [
    "root_path = \"mpi3d\"\n",
    "# maps latent vector to index in full dataset\n",
    "multiplier = torch.tensor([6*2*3*3*40*40, 2*3*3*40*40, 3*3*40*40, 3*40*40, 40*40, 40, 1]).unsqueeze(1)\n",
    "\n",
    "for sub_dataset in ['interpolation', 'extrapolation', 'composition']:\n",
    "    for split in ['train','test']:\n",
    "        labels =  np.load(f\"{root_path}/mpi3d_{sub_dataset}_{split}_labels.npz\")['arr_0']\n",
    "        labels = torch.from_numpy(labels)\n",
    "        indices = torch.matmul(labels, multiplier).squeeze()\n",
    "        torch.save(indices, f\"{root_path}/mpi3d_{sub_dataset}_{split}_indices.pth\")\n",
    "        \n",
    "\n"
   ]
  },
  {
   "cell_type": "code",
   "execution_count": 13,
   "id": "099e97a2-0e08-447a-97b5-c49591067689",
   "metadata": {},
   "outputs": [
    {
     "data": {
      "text/plain": [
       "tensor([0, 0, 0, 0, 0, 0, 0])"
      ]
     },
     "execution_count": 13,
     "metadata": {},
     "output_type": "execute_result"
    }
   ],
   "source": [
    "latent_ids[0]"
   ]
  },
  {
   "cell_type": "code",
   "execution_count": 18,
   "id": "74509ed2-d08c-41b3-9ce3-2de7436b2c4e",
   "metadata": {},
   "outputs": [],
   "source": [
    "import torch\n",
    "root_path = \"mpi3d\"\n",
    "sub_dataset = \"composition\"\n",
    "split = \"train\"\n",
    "indices = torch.load(f\"{root_path}/{root_path}_{sub_dataset}_{split}_indices.pth\")"
   ]
  },
  {
   "cell_type": "code",
   "execution_count": 19,
   "id": "501d6b2b-9fa5-4435-9f6e-b28868d8ee8a",
   "metadata": {},
   "outputs": [
    {
     "data": {
      "text/plain": [
       "torch.Size([287712])"
      ]
     },
     "execution_count": 19,
     "metadata": {},
     "output_type": "execute_result"
    }
   ],
   "source": [
    "indices.shape"
   ]
  },
  {
   "cell_type": "code",
   "execution_count": 17,
   "id": "c62c2adc-bbba-41a5-bc0d-9a9f84697527",
   "metadata": {},
   "outputs": [],
   "source": [
    "labels =  np.load(f\"{root_path}/mpi3d_{sub_dataset}_{split}_labels.npz\")['arr_0']"
   ]
  },
  {
   "cell_type": "code",
   "execution_count": 25,
   "id": "3cc3dd70-d490-499e-a357-a9322e230006",
   "metadata": {},
   "outputs": [
    {
     "data": {
      "text/plain": [
       "array([ 5,  1,  0,  1,  2,  0, 28])"
      ]
     },
     "execution_count": 25,
     "metadata": {},
     "output_type": "execute_result"
    }
   ],
   "source": [
    "labels[250000]"
   ]
  },
  {
   "cell_type": "code",
   "execution_count": 26,
   "id": "32f22873-74d8-4ad6-b6ee-39ce94a7472d",
   "metadata": {},
   "outputs": [
    {
     "data": {
      "text/plain": [
       "tensor([[ 5,  1,  0,  1,  0,  6, 28]])"
      ]
     },
     "execution_count": 26,
     "metadata": {},
     "output_type": "execute_result"
    }
   ],
   "source": [
    "latent_ids[indices[250000]]"
   ]
  },
  {
   "cell_type": "code",
   "execution_count": 5,
   "id": "52c51302-21ea-40fd-be61-627c56b4fc17",
   "metadata": {},
   "outputs": [
    {
     "name": "stdout",
     "output_type": "stream",
     "text": [
      "ERROR! Session/line number was not unique in database. History logging moved to new session 1004\n",
      "tensor([0, 0, 0, 0, 0, 6, 6]) tensor([246])\n",
      "tensor([0, 0, 0, 0, 0, 6, 7]) tensor([247])\n",
      "tensor([0, 0, 0, 0, 0, 6, 8]) tensor([248])\n",
      "tensor([0, 0, 0, 0, 0, 6, 9]) tensor([249])\n",
      "tensor([ 0,  0,  0,  0,  0,  6, 10]) tensor([250])\n",
      "tensor([ 0,  0,  0,  0,  0,  6, 11]) tensor([251])\n",
      "tensor([ 0,  0,  0,  0,  0,  6, 12]) tensor([252])\n",
      "tensor([ 0,  0,  0,  0,  0,  6, 13]) tensor([253])\n",
      "tensor([ 0,  0,  0,  0,  0,  6, 14]) tensor([254])\n",
      "tensor([ 0,  0,  0,  0,  0,  6, 15]) tensor([255])\n",
      "tensor([ 0,  0,  0,  0,  0,  6, 16]) tensor([256])\n",
      "tensor([ 0,  0,  0,  0,  0,  6, 17]) tensor([257])\n",
      "tensor([ 0,  0,  0,  0,  0,  6, 18]) tensor([258])\n",
      "tensor([ 0,  0,  0,  0,  0,  6, 19]) tensor([259])\n",
      "tensor([ 0,  0,  0,  0,  0,  6, 20]) tensor([260])\n",
      "tensor([ 0,  0,  0,  0,  0,  6, 21]) tensor([261])\n",
      "tensor([ 0,  0,  0,  0,  0,  6, 22]) tensor([262])\n",
      "tensor([ 0,  0,  0,  0,  0,  6, 23]) tensor([263])\n",
      "tensor([ 0,  0,  0,  0,  0,  6, 24]) tensor([264])\n",
      "tensor([ 0,  0,  0,  0,  0,  6, 25]) tensor([265])\n",
      "tensor([ 0,  0,  0,  0,  0,  6, 26]) tensor([266])\n",
      "tensor([ 0,  0,  0,  0,  0,  6, 27]) tensor([267])\n",
      "tensor([ 0,  0,  0,  0,  0,  6, 28]) tensor([268])\n",
      "tensor([ 0,  0,  0,  0,  0,  6, 29]) tensor([269])\n",
      "tensor([ 0,  0,  0,  0,  0,  6, 30]) tensor([270])\n",
      "tensor([ 0,  0,  0,  0,  0,  6, 31]) tensor([271])\n",
      "tensor([ 0,  0,  0,  0,  0,  6, 32]) tensor([272])\n",
      "tensor([ 0,  0,  0,  0,  0,  6, 33]) tensor([273])\n",
      "tensor([ 0,  0,  0,  0,  0,  6, 34]) tensor([274])\n",
      "tensor([ 0,  0,  0,  0,  0,  6, 35]) tensor([275])\n",
      "tensor([ 0,  0,  0,  0,  0,  6, 36]) tensor([276])\n",
      "tensor([ 0,  0,  0,  0,  0,  6, 37]) tensor([277])\n",
      "tensor([ 0,  0,  0,  0,  0,  6, 38]) tensor([278])\n",
      "tensor([ 0,  0,  0,  0,  0,  6, 39]) tensor([279])\n",
      "tensor([0, 0, 0, 0, 0, 7, 6]) tensor([286])\n",
      "tensor([0, 0, 0, 0, 0, 7, 7]) tensor([287])\n",
      "tensor([0, 0, 0, 0, 0, 7, 8]) tensor([288])\n",
      "tensor([0, 0, 0, 0, 0, 7, 9]) tensor([289])\n",
      "tensor([ 0,  0,  0,  0,  0,  7, 10]) tensor([290])\n",
      "tensor([ 0,  0,  0,  0,  0,  7, 11]) tensor([291])\n",
      "tensor([ 0,  0,  0,  0,  0,  7, 12]) tensor([292])\n",
      "tensor([ 0,  0,  0,  0,  0,  7, 13]) tensor([293])\n",
      "tensor([ 0,  0,  0,  0,  0,  7, 14]) tensor([294])\n",
      "tensor([ 0,  0,  0,  0,  0,  7, 15]) tensor([295])\n",
      "tensor([ 0,  0,  0,  0,  0,  7, 16]) tensor([296])\n",
      "tensor([ 0,  0,  0,  0,  0,  7, 17]) tensor([297])\n",
      "tensor([ 0,  0,  0,  0,  0,  7, 18]) tensor([298])\n",
      "tensor([ 0,  0,  0,  0,  0,  7, 19]) tensor([299])\n",
      "tensor([ 0,  0,  0,  0,  0,  7, 20]) tensor([300])\n",
      "tensor([ 0,  0,  0,  0,  0,  7, 21]) tensor([301])\n",
      "tensor([ 0,  0,  0,  0,  0,  7, 22]) tensor([302])\n",
      "tensor([ 0,  0,  0,  0,  0,  7, 23]) tensor([303])\n",
      "tensor([ 0,  0,  0,  0,  0,  7, 24]) tensor([304])\n",
      "tensor([ 0,  0,  0,  0,  0,  7, 25]) tensor([305])\n",
      "tensor([ 0,  0,  0,  0,  0,  7, 26]) tensor([306])\n",
      "tensor([ 0,  0,  0,  0,  0,  7, 27]) tensor([307])\n",
      "tensor([ 0,  0,  0,  0,  0,  7, 28]) tensor([308])\n",
      "tensor([ 0,  0,  0,  0,  0,  7, 29]) tensor([309])\n",
      "tensor([ 0,  0,  0,  0,  0,  7, 30]) tensor([310])\n",
      "tensor([ 0,  0,  0,  0,  0,  7, 31]) tensor([311])\n",
      "tensor([ 0,  0,  0,  0,  0,  7, 32]) tensor([312])\n",
      "tensor([ 0,  0,  0,  0,  0,  7, 33]) tensor([313])\n",
      "tensor([ 0,  0,  0,  0,  0,  7, 34]) tensor([314])\n",
      "tensor([ 0,  0,  0,  0,  0,  7, 35]) tensor([315])\n",
      "tensor([ 0,  0,  0,  0,  0,  7, 36]) tensor([316])\n",
      "tensor([ 0,  0,  0,  0,  0,  7, 37]) tensor([317])\n",
      "tensor([ 0,  0,  0,  0,  0,  7, 38]) tensor([318])\n",
      "tensor([ 0,  0,  0,  0,  0,  7, 39]) tensor([319])\n",
      "tensor([0, 0, 0, 0, 0, 8, 6]) tensor([326])\n",
      "tensor([0, 0, 0, 0, 0, 8, 7]) tensor([327])\n",
      "tensor([0, 0, 0, 0, 0, 8, 8]) tensor([328])\n",
      "tensor([0, 0, 0, 0, 0, 8, 9]) tensor([329])\n",
      "tensor([ 0,  0,  0,  0,  0,  8, 10]) tensor([330])\n",
      "tensor([ 0,  0,  0,  0,  0,  8, 11]) tensor([331])\n",
      "tensor([ 0,  0,  0,  0,  0,  8, 12]) tensor([332])\n",
      "tensor([ 0,  0,  0,  0,  0,  8, 13]) tensor([333])\n",
      "tensor([ 0,  0,  0,  0,  0,  8, 14]) tensor([334])\n",
      "tensor([ 0,  0,  0,  0,  0,  8, 15]) tensor([335])\n",
      "tensor([ 0,  0,  0,  0,  0,  8, 16]) tensor([336])\n",
      "tensor([ 0,  0,  0,  0,  0,  8, 17]) tensor([337])\n",
      "tensor([ 0,  0,  0,  0,  0,  8, 18]) tensor([338])\n",
      "tensor([ 0,  0,  0,  0,  0,  8, 19]) tensor([339])\n",
      "tensor([ 0,  0,  0,  0,  0,  8, 20]) tensor([340])\n",
      "tensor([ 0,  0,  0,  0,  0,  8, 21]) tensor([341])\n",
      "tensor([ 0,  0,  0,  0,  0,  8, 22]) tensor([342])\n",
      "tensor([ 0,  0,  0,  0,  0,  8, 23]) tensor([343])\n",
      "tensor([ 0,  0,  0,  0,  0,  8, 24]) tensor([344])\n",
      "tensor([ 0,  0,  0,  0,  0,  8, 25]) tensor([345])\n",
      "tensor([ 0,  0,  0,  0,  0,  8, 26]) tensor([346])\n",
      "tensor([ 0,  0,  0,  0,  0,  8, 27]) tensor([347])\n",
      "tensor([ 0,  0,  0,  0,  0,  8, 28]) tensor([348])\n",
      "tensor([ 0,  0,  0,  0,  0,  8, 29]) tensor([349])\n",
      "tensor([ 0,  0,  0,  0,  0,  8, 30]) tensor([350])\n",
      "tensor([ 0,  0,  0,  0,  0,  8, 31]) tensor([351])\n",
      "tensor([ 0,  0,  0,  0,  0,  8, 32]) tensor([352])\n",
      "tensor([ 0,  0,  0,  0,  0,  8, 33]) tensor([353])\n",
      "tensor([ 0,  0,  0,  0,  0,  8, 34]) tensor([354])\n",
      "tensor([ 0,  0,  0,  0,  0,  8, 35]) tensor([355])\n",
      "tensor([ 0,  0,  0,  0,  0,  8, 36]) tensor([356])\n",
      "tensor([ 0,  0,  0,  0,  0,  8, 37]) tensor([357])\n",
      "tensor([ 0,  0,  0,  0,  0,  8, 38]) tensor([358])\n",
      "tensor([ 0,  0,  0,  0,  0,  8, 39]) tensor([359])\n"
     ]
    }
   ],
   "source": [
    "for n,(i,j) in enumerate(zip(labels, indices)):\n",
    "    print(i, j)\n",
    "    if n>100:\n",
    "        break"
   ]
  },
  {
   "cell_type": "code",
   "execution_count": 20,
   "id": "7061dd28-ed48-4cce-8413-b177d7b06cdb",
   "metadata": {},
   "outputs": [
    {
     "ename": "TypeError",
     "evalue": "new(): invalid data type 'str'",
     "output_type": "error",
     "traceback": [
      "\u001b[0;31m---------------------------------------------------------------------------\u001b[0m",
      "\u001b[0;31mTypeError\u001b[0m                                 Traceback (most recent call last)",
      "Cell \u001b[0;32mIn[20], line 1\u001b[0m\n\u001b[0;32m----> 1\u001b[0m \u001b[43mdata\u001b[49m\u001b[43m[\u001b[49m\u001b[38;5;124;43m'\u001b[39;49m\u001b[38;5;124;43mlatent_ids\u001b[39;49m\u001b[38;5;124;43m'\u001b[39;49m\u001b[43m]\u001b[49m\n",
      "\u001b[0;31mTypeError\u001b[0m: new(): invalid data type 'str'"
     ]
    }
   ],
   "source": [
    "data['latent_ids']"
   ]
  },
  {
   "cell_type": "code",
   "execution_count": 21,
   "id": "e24b64e2-6031-4838-9eff-8e31806d1f6b",
   "metadata": {},
   "outputs": [
    {
     "data": {
      "text/plain": [
       "torch.Size([6, 6, 2, 3, 3, 40, 40, 3, 64, 64])"
      ]
     },
     "execution_count": 21,
     "metadata": {},
     "output_type": "execute_result"
    }
   ],
   "source": [
    "data.shape"
   ]
  },
  {
   "cell_type": "code",
   "execution_count": 25,
   "id": "218747fe-55db-4c67-bd6d-b063c67e4a86",
   "metadata": {},
   "outputs": [
    {
     "data": {
      "text/plain": [
       "torch.Size([1036800, 7])"
      ]
     },
     "execution_count": 25,
     "metadata": {},
     "output_type": "execute_result"
    }
   ],
   "source": [
    "latent_ids.unique(dim=0).shape"
   ]
  },
  {
   "cell_type": "code",
   "execution_count": 26,
   "id": "4721c5f0-d013-4df4-a3f4-6b4e9b7fca1e",
   "metadata": {},
   "outputs": [
    {
     "data": {
      "text/plain": [
       "torch.Size([1036800, 7])"
      ]
     },
     "execution_count": 26,
     "metadata": {},
     "output_type": "execute_result"
    }
   ],
   "source": [
    "latent_ids.shape"
   ]
  },
  {
   "cell_type": "code",
   "execution_count": 27,
   "id": "df362186-dfda-4e1b-8a9d-3c4bff122a4f",
   "metadata": {},
   "outputs": [],
   "source": [
    "latent_to_idx = {\n",
    "    tuple(l.tolist()): idx for idx, l in enumerate(latent_ids)\n",
    "}"
   ]
  },
  {
   "cell_type": "code",
   "execution_count": 28,
   "id": "adac009a-8ece-4be9-97fc-8cc2470e2202",
   "metadata": {},
   "outputs": [
    {
     "data": {
      "text/plain": [
       "1036800"
      ]
     },
     "execution_count": 28,
     "metadata": {},
     "output_type": "execute_result"
    }
   ],
   "source": [
    "len(latent_to_idx)"
   ]
  },
  {
   "cell_type": "code",
   "execution_count": 35,
   "id": "312a5da9-7bd5-4392-a6e2-0009e0aa51c4",
   "metadata": {},
   "outputs": [
    {
     "data": {
      "text/plain": [
       "torch.Size([749088])"
      ]
     },
     "execution_count": 35,
     "metadata": {},
     "output_type": "execute_result"
    }
   ],
   "source": [
    "indices.unique().shape"
   ]
  },
  {
   "cell_type": "code",
   "execution_count": 1,
   "id": "c280df2d-20ef-4c15-b7ea-b0d9ad274f5a",
   "metadata": {},
   "outputs": [
    {
     "name": "stdout",
     "output_type": "stream",
     "text": [
      "Latent: [5, 0, 1, 2, 1, 10, 39]\n",
      "Valid deltas:\n",
      "(0, 0, 0, 0, 0, 0, -1)\n",
      "(0, 0, 0, 0, 0, 0, -2)\n",
      "(0, 0, 0, 0, 0, 1, 0)\n",
      "(0, 0, 0, 0, 0, -1, 0)\n",
      "(0, 0, 0, 0, 0, 2, 0)\n",
      "(0, 0, 0, 0, 0, -2, 0)\n",
      "(0, 0, 0, 0, 1, 0, 0)\n",
      "(0, 0, 0, 0, -1, 0, 0)\n",
      "(0, 0, 0, -1, 0, 0, 0)\n",
      "(0, 0, 0, -2, 0, 0, 0)\n",
      "(0, 0, -1, 0, 0, 0, 0)\n",
      "(0, 1, 0, 0, 0, 0, 0)\n",
      "(0, 2, 0, 0, 0, 0, 0)\n",
      "(-1, 0, 0, 0, 0, 0, 0)\n",
      "(-2, 0, 0, 0, 0, 0, 0)\n"
     ]
    }
   ],
   "source": [
    "latent_dims = [6, 6, 2, 3, 3, 40, 40]  # max values per latent dim (exclusive)\n",
    "n_latents = len(latent_dims)\n",
    "max_delta = 3  # max distance to try (you can change this)\n",
    "\n",
    "sample_latent = [5, 0, 1, 2, 1, 10, 39]  # example starting point\n",
    "\n",
    "\n",
    "def generate_deltas(latent, latent_dims, max_delta):\n",
    "    for dim in reversed(range(len(latent_dims))):  # iterate from last to first dim\n",
    "        for delta_val in range(1, max_delta):\n",
    "            for sign in [1, -1]:\n",
    "                new_val = latent[dim] + sign * delta_val\n",
    "                if 0 <= new_val < latent_dims[dim]:\n",
    "                    delta = [0] * len(latent_dims)\n",
    "                    delta[dim] = sign * delta_val\n",
    "                    yield tuple(delta)\n",
    "\n",
    "\n",
    "print(\"Latent:\", sample_latent)\n",
    "print(\"Valid deltas:\")\n",
    "for d in generate_deltas(sample_latent, latent_dims, max_delta):\n",
    "    print(d)"
   ]
  },
  {
   "cell_type": "code",
   "execution_count": 2,
   "id": "470aa295-b2c3-4da9-8674-1a1386d1e0b4",
   "metadata": {},
   "outputs": [
    {
     "name": "stdout",
     "output_type": "stream",
     "text": [
      "Latent: [5, 0, 1, 2, 1, 10, 39]\n",
      "Deltas (by L1 distance):\n",
      "0: (-1, 0, 0, 0, 0, 0, 0)\n",
      "1: (0, 0, -1, 0, 0, 0, 0)\n",
      "2: (0, 0, 0, -1, 0, 0, 0)\n",
      "3: (0, 0, 0, 0, -1, 0, 0)\n",
      "4: (0, 0, 0, 0, 0, -1, 0)\n",
      "5: (0, 0, 0, 0, 0, 0, -1)\n",
      "6: (0, 0, 0, 0, 0, 1, 0)\n",
      "7: (0, 0, 0, 0, 1, 0, 0)\n",
      "8: (0, 1, 0, 0, 0, 0, 0)\n",
      "9: (-2, 0, 0, 0, 0, 0, 0)\n",
      "10: (-1, 0, -1, 0, 0, 0, 0)\n",
      "11: (-1, 0, 0, -1, 0, 0, 0)\n",
      "12: (-1, 0, 0, 0, -1, 0, 0)\n",
      "13: (-1, 0, 0, 0, 0, -1, 0)\n",
      "14: (-1, 0, 0, 0, 0, 0, -1)\n",
      "15: (-1, 0, 0, 0, 0, 1, 0)\n",
      "16: (-1, 0, 0, 0, 1, 0, 0)\n",
      "17: (-1, 1, 0, 0, 0, 0, 0)\n",
      "18: (0, 0, -1, -1, 0, 0, 0)\n",
      "19: (0, 0, -1, 0, -1, 0, 0)\n",
      "20: (0, 0, -1, 0, 0, -1, 0)\n",
      "21: (0, 0, -1, 0, 0, 0, -1)\n",
      "22: (0, 0, -1, 0, 0, 1, 0)\n",
      "23: (0, 0, -1, 0, 1, 0, 0)\n",
      "24: (0, 0, 0, -2, 0, 0, 0)\n",
      "25: (0, 0, 0, -1, -1, 0, 0)\n",
      "26: (0, 0, 0, -1, 0, -1, 0)\n",
      "27: (0, 0, 0, -1, 0, 0, -1)\n",
      "28: (0, 0, 0, -1, 0, 1, 0)\n",
      "29: (0, 0, 0, -1, 1, 0, 0)\n",
      "30: (0, 0, 0, 0, -1, -1, 0)\n",
      "31: (0, 0, 0, 0, -1, 0, -1)\n",
      "32: (0, 0, 0, 0, -1, 1, 0)\n",
      "33: (0, 0, 0, 0, 0, -2, 0)\n",
      "34: (0, 0, 0, 0, 0, -1, -1)\n",
      "35: (0, 0, 0, 0, 0, 0, -2)\n",
      "36: (0, 0, 0, 0, 0, 1, -1)\n",
      "37: (0, 0, 0, 0, 0, 2, 0)\n",
      "38: (0, 0, 0, 0, 1, -1, 0)\n",
      "39: (0, 0, 0, 0, 1, 0, -1)\n",
      "40: (0, 0, 0, 0, 1, 1, 0)\n",
      "41: (0, 1, -1, 0, 0, 0, 0)\n",
      "42: (0, 1, 0, -1, 0, 0, 0)\n",
      "43: (0, 1, 0, 0, -1, 0, 0)\n",
      "44: (0, 1, 0, 0, 0, -1, 0)\n",
      "45: (0, 1, 0, 0, 0, 0, -1)\n",
      "46: (0, 1, 0, 0, 0, 1, 0)\n",
      "47: (0, 1, 0, 0, 1, 0, 0)\n",
      "48: (0, 2, 0, 0, 0, 0, 0)\n",
      "49: (-3, 0, 0, 0, 0, 0, 0)\n",
      "50: (-2, 0, -1, 0, 0, 0, 0)\n",
      "51: (-2, 0, 0, -1, 0, 0, 0)\n",
      "52: (-2, 0, 0, 0, -1, 0, 0)\n",
      "53: (-2, 0, 0, 0, 0, -1, 0)\n",
      "54: (-2, 0, 0, 0, 0, 0, -1)\n",
      "55: (-2, 0, 0, 0, 0, 1, 0)\n",
      "56: (-2, 0, 0, 0, 1, 0, 0)\n",
      "57: (-2, 1, 0, 0, 0, 0, 0)\n",
      "58: (-1, 0, -1, -1, 0, 0, 0)\n",
      "59: (-1, 0, -1, 0, -1, 0, 0)\n",
      "60: (-1, 0, -1, 0, 0, -1, 0)\n",
      "61: (-1, 0, -1, 0, 0, 0, -1)\n",
      "62: (-1, 0, -1, 0, 0, 1, 0)\n",
      "63: (-1, 0, -1, 0, 1, 0, 0)\n",
      "64: (-1, 0, 0, -2, 0, 0, 0)\n",
      "65: (-1, 0, 0, -1, -1, 0, 0)\n",
      "66: (-1, 0, 0, -1, 0, -1, 0)\n",
      "67: (-1, 0, 0, -1, 0, 0, -1)\n",
      "68: (-1, 0, 0, -1, 0, 1, 0)\n",
      "69: (-1, 0, 0, -1, 1, 0, 0)\n",
      "70: (-1, 0, 0, 0, -1, -1, 0)\n",
      "71: (-1, 0, 0, 0, -1, 0, -1)\n",
      "72: (-1, 0, 0, 0, -1, 1, 0)\n",
      "73: (-1, 0, 0, 0, 0, -2, 0)\n",
      "74: (-1, 0, 0, 0, 0, -1, -1)\n",
      "75: (-1, 0, 0, 0, 0, 0, -2)\n",
      "76: (-1, 0, 0, 0, 0, 1, -1)\n",
      "77: (-1, 0, 0, 0, 0, 2, 0)\n",
      "78: (-1, 0, 0, 0, 1, -1, 0)\n",
      "79: (-1, 0, 0, 0, 1, 0, -1)\n",
      "80: (-1, 0, 0, 0, 1, 1, 0)\n",
      "81: (-1, 1, -1, 0, 0, 0, 0)\n",
      "82: (-1, 1, 0, -1, 0, 0, 0)\n",
      "83: (-1, 1, 0, 0, -1, 0, 0)\n",
      "84: (-1, 1, 0, 0, 0, -1, 0)\n",
      "85: (-1, 1, 0, 0, 0, 0, -1)\n",
      "86: (-1, 1, 0, 0, 0, 1, 0)\n",
      "87: (-1, 1, 0, 0, 1, 0, 0)\n",
      "88: (-1, 2, 0, 0, 0, 0, 0)\n",
      "89: (0, 0, -1, -2, 0, 0, 0)\n",
      "90: (0, 0, -1, -1, -1, 0, 0)\n",
      "91: (0, 0, -1, -1, 0, -1, 0)\n",
      "92: (0, 0, -1, -1, 0, 0, -1)\n",
      "93: (0, 0, -1, -1, 0, 1, 0)\n",
      "94: (0, 0, -1, -1, 1, 0, 0)\n",
      "95: (0, 0, -1, 0, -1, -1, 0)\n",
      "96: (0, 0, -1, 0, -1, 0, -1)\n",
      "97: (0, 0, -1, 0, -1, 1, 0)\n",
      "98: (0, 0, -1, 0, 0, -2, 0)\n",
      "99: (0, 0, -1, 0, 0, -1, -1)\n",
      "100: (0, 0, -1, 0, 0, 0, -2)\n",
      "101: (0, 0, -1, 0, 0, 1, -1)\n",
      "102: (0, 0, -1, 0, 0, 2, 0)\n",
      "103: (0, 0, -1, 0, 1, -1, 0)\n",
      "104: (0, 0, -1, 0, 1, 0, -1)\n",
      "105: (0, 0, -1, 0, 1, 1, 0)\n",
      "106: (0, 0, 0, -2, -1, 0, 0)\n",
      "107: (0, 0, 0, -2, 0, -1, 0)\n",
      "108: (0, 0, 0, -2, 0, 0, -1)\n",
      "109: (0, 0, 0, -2, 0, 1, 0)\n",
      "110: (0, 0, 0, -2, 1, 0, 0)\n",
      "111: (0, 0, 0, -1, -1, -1, 0)\n",
      "112: (0, 0, 0, -1, -1, 0, -1)\n",
      "113: (0, 0, 0, -1, -1, 1, 0)\n",
      "114: (0, 0, 0, -1, 0, -2, 0)\n",
      "115: (0, 0, 0, -1, 0, -1, -1)\n",
      "116: (0, 0, 0, -1, 0, 0, -2)\n",
      "117: (0, 0, 0, -1, 0, 1, -1)\n",
      "118: (0, 0, 0, -1, 0, 2, 0)\n",
      "119: (0, 0, 0, -1, 1, -1, 0)\n",
      "120: (0, 0, 0, -1, 1, 0, -1)\n",
      "121: (0, 0, 0, -1, 1, 1, 0)\n",
      "122: (0, 0, 0, 0, -1, -2, 0)\n",
      "123: (0, 0, 0, 0, -1, -1, -1)\n",
      "124: (0, 0, 0, 0, -1, 0, -2)\n",
      "125: (0, 0, 0, 0, -1, 1, -1)\n",
      "126: (0, 0, 0, 0, -1, 2, 0)\n",
      "127: (0, 0, 0, 0, 0, -3, 0)\n",
      "128: (0, 0, 0, 0, 0, -2, -1)\n",
      "129: (0, 0, 0, 0, 0, -1, -2)\n",
      "130: (0, 0, 0, 0, 0, 0, -3)\n",
      "131: (0, 0, 0, 0, 0, 1, -2)\n",
      "132: (0, 0, 0, 0, 0, 2, -1)\n",
      "133: (0, 0, 0, 0, 0, 3, 0)\n",
      "134: (0, 0, 0, 0, 1, -2, 0)\n",
      "135: (0, 0, 0, 0, 1, -1, -1)\n",
      "136: (0, 0, 0, 0, 1, 0, -2)\n",
      "137: (0, 0, 0, 0, 1, 1, -1)\n",
      "138: (0, 0, 0, 0, 1, 2, 0)\n",
      "139: (0, 1, -1, -1, 0, 0, 0)\n",
      "140: (0, 1, -1, 0, -1, 0, 0)\n",
      "141: (0, 1, -1, 0, 0, -1, 0)\n",
      "142: (0, 1, -1, 0, 0, 0, -1)\n",
      "143: (0, 1, -1, 0, 0, 1, 0)\n",
      "144: (0, 1, -1, 0, 1, 0, 0)\n",
      "145: (0, 1, 0, -2, 0, 0, 0)\n",
      "146: (0, 1, 0, -1, -1, 0, 0)\n",
      "147: (0, 1, 0, -1, 0, -1, 0)\n",
      "148: (0, 1, 0, -1, 0, 0, -1)\n",
      "149: (0, 1, 0, -1, 0, 1, 0)\n",
      "150: (0, 1, 0, -1, 1, 0, 0)\n",
      "151: (0, 1, 0, 0, -1, -1, 0)\n",
      "152: (0, 1, 0, 0, -1, 0, -1)\n",
      "153: (0, 1, 0, 0, -1, 1, 0)\n",
      "154: (0, 1, 0, 0, 0, -2, 0)\n",
      "155: (0, 1, 0, 0, 0, -1, -1)\n",
      "156: (0, 1, 0, 0, 0, 0, -2)\n",
      "157: (0, 1, 0, 0, 0, 1, -1)\n",
      "158: (0, 1, 0, 0, 0, 2, 0)\n",
      "159: (0, 1, 0, 0, 1, -1, 0)\n",
      "160: (0, 1, 0, 0, 1, 0, -1)\n",
      "161: (0, 1, 0, 0, 1, 1, 0)\n",
      "162: (0, 2, -1, 0, 0, 0, 0)\n",
      "163: (0, 2, 0, -1, 0, 0, 0)\n",
      "164: (0, 2, 0, 0, -1, 0, 0)\n",
      "165: (0, 2, 0, 0, 0, -1, 0)\n",
      "166: (0, 2, 0, 0, 0, 0, -1)\n",
      "167: (0, 2, 0, 0, 0, 1, 0)\n",
      "168: (0, 2, 0, 0, 1, 0, 0)\n",
      "169: (0, 3, 0, 0, 0, 0, 0)\n"
     ]
    }
   ],
   "source": [
    "import itertools\n",
    "\n",
    "# Latent space settings\n",
    "latent_dims = [6, 6, 2, 3, 3, 40, 40]  # Valid values: 0 to dim[i]-1\n",
    "sample_latent = [5, 0, 1, 2, 1, 10, 39]\n",
    "max_delta = 3  # max total L1 distance\n",
    "\n",
    "# Generator that yields valid deltas ordered by increasing L1 distance\n",
    "def generate_deltas(latent, latent_dims, max_delta):\n",
    "    n_latents = len(latent_dims)\n",
    "    for total_change in range(1, max_delta + 1):  # 1, 2, ..., max_delta\n",
    "        for deltas in itertools.product(range(-total_change, total_change + 1), repeat=n_latents):\n",
    "            if sum(abs(d) for d in deltas) != total_change:\n",
    "                continue  # skip if not exact L1 distance\n",
    "            if deltas == (0,) * n_latents:\n",
    "                continue  # skip zero delta\n",
    "\n",
    "            # Check bounds\n",
    "            new_latent = [l + d for l, d in zip(latent, deltas)]\n",
    "            if all(0 <= val < maxval for val, maxval in zip(new_latent, latent_dims)):\n",
    "                yield deltas\n",
    "\n",
    "# Run and print results\n",
    "print(\"Latent:\", sample_latent)\n",
    "print(\"Deltas (by L1 distance):\")\n",
    "for i, delta in enumerate(generate_deltas(sample_latent, latent_dims, max_delta)):\n",
    "    print(f\"{i}: {delta}\")\n"
   ]
  },
  {
   "cell_type": "code",
   "execution_count": null,
   "id": "27c7fe12-1c7d-433c-acbd-c1c8fd4baf49",
   "metadata": {},
   "outputs": [],
   "source": []
  }
 ],
 "metadata": {
  "kernelspec": {
   "display_name": "Python 3 (ipykernel)",
   "language": "python",
   "name": "python3"
  },
  "language_info": {
   "codemirror_mode": {
    "name": "ipython",
    "version": 3
   },
   "file_extension": ".py",
   "mimetype": "text/x-python",
   "name": "python",
   "nbconvert_exporter": "python",
   "pygments_lexer": "ipython3",
   "version": "3.10.14"
  }
 },
 "nbformat": 4,
 "nbformat_minor": 5
}
